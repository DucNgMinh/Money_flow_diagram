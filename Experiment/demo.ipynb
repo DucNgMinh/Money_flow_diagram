{
 "cells": [
  {
   "cell_type": "code",
   "execution_count": 1,
   "metadata": {},
   "outputs": [],
   "source": [
    "import numpy as np\n",
    "import pandas as pd\n",
    "# pd.options.display.float_format = '{:.2%}'.format\n",
    "import plotly.graph_objects as go   "
   ]
  },
  {
   "cell_type": "code",
   "execution_count": 2,
   "metadata": {},
   "outputs": [],
   "source": [
    "map_1_df = pd.read_csv(r'./onlyDraw/map_moi.csv')\n",
    "map_name_1 = map_1_df.set_index('LEVEL_06_CODE ')['Tên khối'].to_dict()\n",
    "\n",
    "# load transaction data\n",
    "trans_df = pd.read_csv(r'sample data lv pk.csv')[['Lv0', 'Lv1', 'Lv2', 'Lv3', 'Lv4', 'Size']]\n",
    "\n",
    "# create mapped columns for trans_df\n",
    "map_columns = ['Lv0', 'Lv1', 'Lv2', 'Lv3', 'Lv4']\n",
    "mapped_columns = [ col + '_mapped' for col in map_columns]\n",
    "for i, j in zip(map_columns, mapped_columns):\n",
    "    trans_df[j] = trans_df[i].map(map_name_1)\n",
    "    trans_df[j] = trans_df[j] + '_' + i\n",
    "\n",
    "all_lv_df = trans_df.groupby(mapped_columns)['Size'].sum().reset_index()\n",
    "lv_04_df = trans_df.groupby(['Lv0_mapped', 'Lv4_mapped'])['Size'].sum().reset_index()\n",
    "\n",
    "map_2_df = pd.read_csv(r'./onlyDraw/map.csv')\n",
    "map_name_2 = map_2_df.set_index('ORG_UNIT_ID')['LEVEL_02_NAME'].to_dict()\n",
    "\n",
    "# load allocation data\n",
    "al_df = pd.read_csv(r'./Hai ha/KQ phan bo GD2_T092023.csv')\n",
    "al_df.rename(columns = {'Chi phí nhận phân bổ tại thời điểm':'Size'}, inplace = True)\n",
    "al_df.dropna(inplace= True)\n",
    "\n",
    "# create mapped columns for al_df\n",
    "al_df['Mã đơn vị tổ chức cấp 6_map'] = al_df['Mã đơn vị tổ chức cấp 6'].map(map_name_2) \n",
    "al_df['Mã SP cấp 5 PK'] = al_df['Mã SP cấp 5'].astype(str).str[:2]\n",
    "\n",
    "pk_df = al_df.groupby(['Mã đơn vị tổ chức cấp 6_map',  'Tên phân khúc KH cấp 3'])['Size'].sum().reset_index()\n",
    "\n",
    "sp_df = al_df.groupby(['Mã đơn vị tổ chức cấp 6_map', 'Mã SP cấp 5 PK'])['Size'].sum().reset_index()\n",
    "sp_df['Mã SP cấp 5 PK'] = 'SP_' + sp_df['Mã SP cấp 5 PK'].apply(str)\n",
    "\n",
    "sp_pk_df = al_df.groupby(['Mã đơn vị tổ chức cấp 6_map', 'Mã SP cấp 5 PK', 'Tên phân khúc KH cấp 3'])['Size'].sum().reset_index()\n",
    "sp_pk_df['Mã SP cấp 5 PK'] = 'SP_' + sp_pk_df['Mã SP cấp 5 PK'].apply(str)"
   ]
  },
  {
   "cell_type": "code",
   "execution_count": 3,
   "metadata": {},
   "outputs": [],
   "source": [
    "node_list = ['TT DICH VU NOI BO', 'TT QUAN LY CHUNG TOAN HANG', 'TT AO',\n",
    "            'KHONG CO TRONG CAY', 'TT DOANH THU',\n",
    "            'TT QUAN LY CHUNG KHOI KINH DOANH', 'TT HO TRO TRUC TIEP',\n",
    "            'TT HO TRO SAN PHAM', 'TT QUAN LY CHUNG CHI NHANH']\n",
    "\n",
    "color_list = ['rgba(44, 160, 44, 0.8)', 'rgba(255, 127, 14, 0.8)', 'rgba(140, 86, 75, 0.8)',\n",
    "        'rgba(23, 190, 207, 0.8)', 'rgba(188, 189, 34, 0.8)', 'rgba(214, 39, 40, 0.8)',\n",
    "        'rgba(188, 189, 34, 0.8)', 'rgba(31, 119, 180, 0.8)', 'rgba(140, 86, 75, 0.8)']\n",
    "\n",
    "# color_map = dict(zip(node_list, color_list))\n",
    "\n",
    "df = pd.read_csv('ColorMap.csv')\n",
    "color_map_v1 = dict(zip(df['TÊN GỐC'].to_list(), df['Màu'].to_list()))\n",
    "\n",
    "df = pd.read_csv('ColorMapV2.csv')\n",
    "color_map_v2 = dict(zip(df['Tên khối'].to_list(), df['Màu'].to_list()))"
   ]
  },
  {
   "cell_type": "code",
   "execution_count": 4,
   "metadata": {},
   "outputs": [],
   "source": [
    "def sankey_graph(data, mapped_columns, highlighted_nodes, title, color_map= False, autosize= False):\n",
    "    data[mapped_columns] = data[mapped_columns].astype(str)\n",
    "\n",
    "    # Function to create a mapping of each unique step to a unique integer\n",
    "    def create_node_mapping(data, columns):\n",
    "        unique_nodes = set()\n",
    "        for col in columns:\n",
    "            unique_nodes.update(data[col].unique())\n",
    "        return {node: i for i, node in enumerate(sorted(unique_nodes))}\n",
    "\n",
    "    # Create\n",
    "    def create_color_list(node_mapping, color_map):\n",
    "        new_color_list = []\n",
    "        for node in node_mapping:\n",
    "            base_node = node.split('_')[0]\n",
    "            if base_node in color_map:\n",
    "                new_color_list.append(color_map[base_node])\n",
    "            else:\n",
    "                new_color_list.append('#CB99C9')  # Default color for unmatched nodes\n",
    "        return new_color_list\n",
    "    \n",
    "    # Create the node mapping\n",
    "    node_mapping = create_node_mapping(data, mapped_columns)\n",
    "\n",
    "    # Prepare source, target, and value lists for the Sankey diagram\n",
    "    sources = []\n",
    "    targets = []\n",
    "    values = []\n",
    "    colors = []  # For link colors\n",
    "\n",
    "    highlight_color = 'rgba(0, 107, 105, 0.2)'  \n",
    "    default_color = 'rgba(0, 0, 0, 0.1)'  \n",
    "\n",
    "    # Function to check if a row includes the highlighted node\n",
    "    def row_includes_highlighted_node(row, highlighted_nodes):\n",
    "        return any(target in row[mapped_columns].values for target in highlighted_nodes)\n",
    "        # return highlighted_node in row[mapped_columns].values\n",
    "    \n",
    "    # Populate source, target, values, and colors\n",
    "    for _, row in data.iterrows():\n",
    "        \n",
    "        row_highlighted = row_includes_highlighted_node(row, highlighted_nodes)\n",
    "        \n",
    "        for i in range(len(mapped_columns) - 1):\n",
    "            source = node_mapping[row[mapped_columns[i]]]\n",
    "            target = node_mapping[row[mapped_columns[i + 1]]]\n",
    "            value = row['Size']\n",
    "            sources.append(source)\n",
    "            targets.append(target)\n",
    "            values.append(value)\n",
    "            colors.append(highlight_color if row_highlighted else default_color)\n",
    "\n",
    "    if color_map == False:\n",
    "        fig = go.Figure(data=[go.Sankey(\n",
    "        node=dict(\n",
    "            pad=15,\n",
    "            thickness=20,\n",
    "            line=dict(color=\"black\", width=0.5),\n",
    "            label=list(node_mapping.keys()),\n",
    "            color=\"rgba(255, 199, 47, 0.5)\",\n",
    "            \n",
    "        ),\n",
    "        link=dict(\n",
    "            source=sources,\n",
    "            target=targets,\n",
    "            value=values,\n",
    "            color=colors  \n",
    "        )\n",
    "    )])\n",
    "    else:\n",
    "        color_list = create_color_list(node_mapping, color_map)\n",
    "        fig = go.Figure(data=[go.Sankey(\n",
    "        node=dict(\n",
    "            pad=15,\n",
    "            thickness=20,\n",
    "            line=dict(color=\"black\", width=0.5),\n",
    "            label=list(node_mapping.keys()),\n",
    "            color=color_list,\n",
    "            \n",
    "        ),\n",
    "        link=dict(\n",
    "            source=sources,\n",
    "            target=targets,\n",
    "            value=values,\n",
    "            color=colors  \n",
    "        )\n",
    "    )])\n",
    "    \n",
    "    if autosize == False:\n",
    "        fig.update_layout(autosize=autosize, width=1620, height=1080)\n",
    "    \n",
    "    fig.update_layout(font_family=\"Arial\", font_color=\"blue\", font_size=14)\n",
    "    fig.update_layout(title_text= title, title_font_size=24)\n",
    "    fig.update_layout(xaxis_visible=False, xaxis_showticklabels=False,\n",
    "                        yaxis_visible=False, yaxis_showticklabels=False)\n",
    "    \n",
    "    return fig\n",
    "\n",
    "def calculate_distribution(data, highlighted_nodes, page_flag= 1):\n",
    "    if len(highlighted_nodes) == 0:\n",
    "        return None\n",
    "\n",
    "    def calculate_percentage(df, level_column, size_column):\n",
    "        grouped_df = df[[level_column, size_column]].groupby(level_column)[size_column].sum().reset_index()\n",
    "        total_size = grouped_df[size_column].sum()\n",
    "        grouped_df[f'Percentage_{level_column}'] = grouped_df[size_column] / total_size * 100\n",
    "        grouped_df = grouped_df.sort_values(by= f'Percentage_{level_column}')\n",
    "        return grouped_df.drop(size_column, axis=1)\n",
    "    \n",
    "    values_to_filter = highlighted_nodes\n",
    "    filtered_df = data[data.isin(values_to_filter).any(axis=1)]\n",
    "    filtered_columns = filtered_df.columns\n",
    "    filtered_columns = filtered_columns.drop('Size')\n",
    "    \n",
    "    if page_flag == 1:\n",
    "        for col in filtered_columns:\n",
    "            filtered_df[col] = filtered_df[col].str[:-4]\n",
    "\n",
    "    results = []\n",
    "    for col in filtered_columns:\n",
    "        result = calculate_percentage(filtered_df, col, 'Size')\n",
    "        results.append(result)\n",
    "\n",
    "    final_result = pd.concat(results, axis=1)\n",
    "    return final_result\n",
    "\n",
    "def generate_format(column_name):\n",
    "    modified_list = [item.replace('_mapped', '') for item in column_name]\n",
    "    modified_list = [item.replace('_map', '') for item in modified_list]\n",
    "    # modified_list = [item.replace('Percentage_', 'Percentage_') for item in modified_list]\n",
    "    format_dict = {}\n",
    "\n",
    "    for orig, mod in zip(column_name, modified_list):\n",
    "        if orig.startswith('Percentage_'):\n",
    "            format_dict[orig] = st.column_config.NumberColumn(mod, format=\"%.2f %%\")\n",
    "        else:\n",
    "            format_dict[orig] = mod\n",
    "    return format_dict\n"
   ]
  },
  {
   "cell_type": "code",
   "execution_count": 5,
   "metadata": {},
   "outputs": [
    {
     "data": {
      "application/vnd.plotly.v1+json": {
       "config": {
        "plotlyServerURL": "https://plot.ly"
       },
       "data": [
        {
         "link": {
          "color": [
           "rgba(0, 0, 0, 0.1)",
           "rgba(0, 0, 0, 0.1)",
           "rgba(0, 107, 105, 0.2)",
           "rgba(0, 0, 0, 0.1)",
           "rgba(0, 0, 0, 0.1)",
           "rgba(0, 0, 0, 0.1)",
           "rgba(0, 107, 105, 0.2)",
           "rgba(0, 107, 105, 0.2)",
           "rgba(0, 107, 105, 0.2)",
           "rgba(0, 107, 105, 0.2)",
           "rgba(0, 0, 0, 0.1)",
           "rgba(0, 0, 0, 0.1)",
           "rgba(0, 107, 105, 0.2)",
           "rgba(0, 0, 0, 0.1)",
           "rgba(0, 0, 0, 0.1)",
           "rgba(0, 0, 0, 0.1)",
           "rgba(0, 0, 0, 0.1)",
           "rgba(0, 0, 0, 0.1)",
           "rgba(0, 0, 0, 0.1)",
           "rgba(0, 0, 0, 0.1)",
           "rgba(0, 0, 0, 0.1)",
           "rgba(0, 0, 0, 0.1)",
           "rgba(0, 107, 105, 0.2)",
           "rgba(0, 0, 0, 0.1)",
           "rgba(0, 0, 0, 0.1)",
           "rgba(0, 0, 0, 0.1)",
           "rgba(0, 0, 0, 0.1)",
           "rgba(0, 0, 0, 0.1)",
           "rgba(0, 0, 0, 0.1)",
           "rgba(0, 107, 105, 0.2)",
           "rgba(0, 0, 0, 0.1)",
           "rgba(0, 0, 0, 0.1)",
           "rgba(0, 0, 0, 0.1)",
           "rgba(0, 0, 0, 0.1)",
           "rgba(0, 0, 0, 0.1)",
           "rgba(0, 0, 0, 0.1)",
           "rgba(0, 0, 0, 0.1)",
           "rgba(0, 0, 0, 0.1)",
           "rgba(0, 107, 105, 0.2)",
           "rgba(0, 0, 0, 0.1)",
           "rgba(0, 0, 0, 0.1)",
           "rgba(0, 0, 0, 0.1)",
           "rgba(0, 107, 105, 0.2)",
           "rgba(0, 0, 0, 0.1)",
           "rgba(0, 0, 0, 0.1)",
           "rgba(0, 0, 0, 0.1)",
           "rgba(0, 0, 0, 0.1)",
           "rgba(0, 107, 105, 0.2)",
           "rgba(0, 0, 0, 0.1)",
           "rgba(0, 0, 0, 0.1)",
           "rgba(0, 0, 0, 0.1)",
           "rgba(0, 0, 0, 0.1)",
           "rgba(0, 107, 105, 0.2)",
           "rgba(0, 0, 0, 0.1)",
           "rgba(0, 0, 0, 0.1)",
           "rgba(0, 0, 0, 0.1)",
           "rgba(0, 0, 0, 0.1)",
           "rgba(0, 0, 0, 0.1)"
          ],
          "source": [
           0,
           2,
           4,
           4,
           4,
           4,
           6,
           6,
           6,
           6,
           8,
           8,
           8,
           8,
           8,
           8,
           8,
           8,
           8,
           8,
           10,
           12,
           14,
           14,
           14,
           14,
           14,
           16,
           16,
           16,
           16,
           16,
           16,
           16,
           16,
           16,
           16,
           18,
           18,
           18,
           18,
           18,
           20,
           20,
           20,
           20,
           20,
           22,
           22,
           22,
           22,
           22,
           24,
           24,
           24,
           24,
           24,
           26
          ],
          "target": [
           1,
           3,
           5,
           7,
           13,
           19,
           5,
           7,
           13,
           19,
           1,
           3,
           5,
           7,
           9,
           13,
           17,
           19,
           21,
           23,
           11,
           13,
           5,
           7,
           13,
           15,
           19,
           1,
           3,
           5,
           7,
           9,
           13,
           17,
           19,
           21,
           23,
           3,
           5,
           7,
           13,
           19,
           5,
           7,
           13,
           19,
           21,
           5,
           7,
           13,
           19,
           23,
           5,
           7,
           13,
           19,
           25,
           27
          ],
          "value": [
           6309019796,
           2520500752,
           21186651925,
           1267717413,
           0,
           1893979,
           453244627,
           40126635669,
           0,
           4157,
           11985947,
           40274675,
           474975064,
           2447794299,
           19330518628,
           6486490,
           304642782,
           254019461,
           24165576,
           112502493,
           3365899726,
           1384443625,
           235649520,
           2778023392,
           6136304,
           2819520639,
           24545352,
           7248551174,
           3257128818,
           5659402318,
           34558517970,
           3240873383,
           181492984,
           25036037869,
           1511012611,
           1366860282,
           3842527104,
           455545,
           315585,
           1050992,
           0,
           4022895300,
           84852492,
           1921831194,
           0,
           77414520,
           8107717742,
           1753376785,
           5413922825,
           16468203,
           750546,
           8233192225,
           959107241,
           4802339680,
           28999072,
           270112045,
           0,
           10215438325
          ]
         },
         "node": {
          "color": [
           "#FF6961",
           "#FF6961",
           "#CFCFC4",
           "#CFCFC4",
           "#77DD77",
           "#77DD77",
           "#89CFF0",
           "#89CFF0",
           "#CB99C9",
           "#CB99C9",
           "#D1E8E2",
           "#D1E8E2",
           "#FFD1DC",
           "#FFD1DC",
           "#B0E0E6",
           "#B0E0E6",
           "#CBF3D2",
           "#CBF3D2",
           "#B39EB5",
           "#B39EB5",
           "#FDFD96",
           "#FDFD96",
           "#FFB347",
           "#FFB347",
           "#ECC8EC",
           "#ECC8EC",
           "#FAD5A5",
           "#FAD5A5"
          ],
          "label": [
           "BAN LANH DAO_Lv0",
           "BAN LANH DAO_Lv4",
           "BO PHAN CHUNG_Lv0",
           "BO PHAN CHUNG_Lv4",
           "KHOI BAN BUON_Lv0",
           "KHOI BAN BUON_Lv4",
           "KHOI BAN LE_Lv0",
           "KHOI BAN LE_Lv4",
           "KHOI CNTT VA NGAN HANG SO_Lv0",
           "KHOI CNTT VA NGAN HANG SO_Lv4",
           "KHOI DANG-DOAN THE_Lv0",
           "KHOI DANG-DOAN THE_Lv4",
           "KHOI DAU TU_Lv0",
           "KHOI DAU TU_Lv4",
           "KHOI GIAM SAT VA TUAN THU_Lv0",
           "KHOI GIAM SAT VA TUAN THU_Lv4",
           "KHOI HO TRO_Lv0",
           "KHOI HO TRO_Lv4",
           "KHOI KINH DOANH VON VA TIEN TE_Lv0",
           "KHOI KINH DOANH VON VA TIEN TE_Lv4",
           "KHOI QUAN LY RUI RO_Lv0",
           "KHOI QUAN LY RUI RO_Lv4",
           "KHOI TAC NGHIEP_Lv0",
           "KHOI TAC NGHIEP_Lv4",
           "KHOI TAI CHINH-KE TOAN_Lv0",
           "KHOI TAI CHINH-KE TOAN_Lv4",
           "KHOI THAM DINH VA PHE DUYET_Lv0",
           "KHOI THAM DINH VA PHE DUYET_Lv4"
          ],
          "line": {
           "color": "black",
           "width": 0.5
          },
          "pad": 15,
          "thickness": 20
         },
         "type": "sankey"
        }
       ],
       "layout": {
        "autosize": false,
        "font": {
         "color": "blue",
         "family": "Arial",
         "size": 14
        },
        "height": 1080,
        "template": {
         "data": {
          "bar": [
           {
            "error_x": {
             "color": "#2a3f5f"
            },
            "error_y": {
             "color": "#2a3f5f"
            },
            "marker": {
             "line": {
              "color": "#E5ECF6",
              "width": 0.5
             },
             "pattern": {
              "fillmode": "overlay",
              "size": 10,
              "solidity": 0.2
             }
            },
            "type": "bar"
           }
          ],
          "barpolar": [
           {
            "marker": {
             "line": {
              "color": "#E5ECF6",
              "width": 0.5
             },
             "pattern": {
              "fillmode": "overlay",
              "size": 10,
              "solidity": 0.2
             }
            },
            "type": "barpolar"
           }
          ],
          "carpet": [
           {
            "aaxis": {
             "endlinecolor": "#2a3f5f",
             "gridcolor": "white",
             "linecolor": "white",
             "minorgridcolor": "white",
             "startlinecolor": "#2a3f5f"
            },
            "baxis": {
             "endlinecolor": "#2a3f5f",
             "gridcolor": "white",
             "linecolor": "white",
             "minorgridcolor": "white",
             "startlinecolor": "#2a3f5f"
            },
            "type": "carpet"
           }
          ],
          "choropleth": [
           {
            "colorbar": {
             "outlinewidth": 0,
             "ticks": ""
            },
            "type": "choropleth"
           }
          ],
          "contour": [
           {
            "colorbar": {
             "outlinewidth": 0,
             "ticks": ""
            },
            "colorscale": [
             [
              0,
              "#0d0887"
             ],
             [
              0.1111111111111111,
              "#46039f"
             ],
             [
              0.2222222222222222,
              "#7201a8"
             ],
             [
              0.3333333333333333,
              "#9c179e"
             ],
             [
              0.4444444444444444,
              "#bd3786"
             ],
             [
              0.5555555555555556,
              "#d8576b"
             ],
             [
              0.6666666666666666,
              "#ed7953"
             ],
             [
              0.7777777777777778,
              "#fb9f3a"
             ],
             [
              0.8888888888888888,
              "#fdca26"
             ],
             [
              1,
              "#f0f921"
             ]
            ],
            "type": "contour"
           }
          ],
          "contourcarpet": [
           {
            "colorbar": {
             "outlinewidth": 0,
             "ticks": ""
            },
            "type": "contourcarpet"
           }
          ],
          "heatmap": [
           {
            "colorbar": {
             "outlinewidth": 0,
             "ticks": ""
            },
            "colorscale": [
             [
              0,
              "#0d0887"
             ],
             [
              0.1111111111111111,
              "#46039f"
             ],
             [
              0.2222222222222222,
              "#7201a8"
             ],
             [
              0.3333333333333333,
              "#9c179e"
             ],
             [
              0.4444444444444444,
              "#bd3786"
             ],
             [
              0.5555555555555556,
              "#d8576b"
             ],
             [
              0.6666666666666666,
              "#ed7953"
             ],
             [
              0.7777777777777778,
              "#fb9f3a"
             ],
             [
              0.8888888888888888,
              "#fdca26"
             ],
             [
              1,
              "#f0f921"
             ]
            ],
            "type": "heatmap"
           }
          ],
          "heatmapgl": [
           {
            "colorbar": {
             "outlinewidth": 0,
             "ticks": ""
            },
            "colorscale": [
             [
              0,
              "#0d0887"
             ],
             [
              0.1111111111111111,
              "#46039f"
             ],
             [
              0.2222222222222222,
              "#7201a8"
             ],
             [
              0.3333333333333333,
              "#9c179e"
             ],
             [
              0.4444444444444444,
              "#bd3786"
             ],
             [
              0.5555555555555556,
              "#d8576b"
             ],
             [
              0.6666666666666666,
              "#ed7953"
             ],
             [
              0.7777777777777778,
              "#fb9f3a"
             ],
             [
              0.8888888888888888,
              "#fdca26"
             ],
             [
              1,
              "#f0f921"
             ]
            ],
            "type": "heatmapgl"
           }
          ],
          "histogram": [
           {
            "marker": {
             "pattern": {
              "fillmode": "overlay",
              "size": 10,
              "solidity": 0.2
             }
            },
            "type": "histogram"
           }
          ],
          "histogram2d": [
           {
            "colorbar": {
             "outlinewidth": 0,
             "ticks": ""
            },
            "colorscale": [
             [
              0,
              "#0d0887"
             ],
             [
              0.1111111111111111,
              "#46039f"
             ],
             [
              0.2222222222222222,
              "#7201a8"
             ],
             [
              0.3333333333333333,
              "#9c179e"
             ],
             [
              0.4444444444444444,
              "#bd3786"
             ],
             [
              0.5555555555555556,
              "#d8576b"
             ],
             [
              0.6666666666666666,
              "#ed7953"
             ],
             [
              0.7777777777777778,
              "#fb9f3a"
             ],
             [
              0.8888888888888888,
              "#fdca26"
             ],
             [
              1,
              "#f0f921"
             ]
            ],
            "type": "histogram2d"
           }
          ],
          "histogram2dcontour": [
           {
            "colorbar": {
             "outlinewidth": 0,
             "ticks": ""
            },
            "colorscale": [
             [
              0,
              "#0d0887"
             ],
             [
              0.1111111111111111,
              "#46039f"
             ],
             [
              0.2222222222222222,
              "#7201a8"
             ],
             [
              0.3333333333333333,
              "#9c179e"
             ],
             [
              0.4444444444444444,
              "#bd3786"
             ],
             [
              0.5555555555555556,
              "#d8576b"
             ],
             [
              0.6666666666666666,
              "#ed7953"
             ],
             [
              0.7777777777777778,
              "#fb9f3a"
             ],
             [
              0.8888888888888888,
              "#fdca26"
             ],
             [
              1,
              "#f0f921"
             ]
            ],
            "type": "histogram2dcontour"
           }
          ],
          "mesh3d": [
           {
            "colorbar": {
             "outlinewidth": 0,
             "ticks": ""
            },
            "type": "mesh3d"
           }
          ],
          "parcoords": [
           {
            "line": {
             "colorbar": {
              "outlinewidth": 0,
              "ticks": ""
             }
            },
            "type": "parcoords"
           }
          ],
          "pie": [
           {
            "automargin": true,
            "type": "pie"
           }
          ],
          "scatter": [
           {
            "fillpattern": {
             "fillmode": "overlay",
             "size": 10,
             "solidity": 0.2
            },
            "type": "scatter"
           }
          ],
          "scatter3d": [
           {
            "line": {
             "colorbar": {
              "outlinewidth": 0,
              "ticks": ""
             }
            },
            "marker": {
             "colorbar": {
              "outlinewidth": 0,
              "ticks": ""
             }
            },
            "type": "scatter3d"
           }
          ],
          "scattercarpet": [
           {
            "marker": {
             "colorbar": {
              "outlinewidth": 0,
              "ticks": ""
             }
            },
            "type": "scattercarpet"
           }
          ],
          "scattergeo": [
           {
            "marker": {
             "colorbar": {
              "outlinewidth": 0,
              "ticks": ""
             }
            },
            "type": "scattergeo"
           }
          ],
          "scattergl": [
           {
            "marker": {
             "colorbar": {
              "outlinewidth": 0,
              "ticks": ""
             }
            },
            "type": "scattergl"
           }
          ],
          "scattermapbox": [
           {
            "marker": {
             "colorbar": {
              "outlinewidth": 0,
              "ticks": ""
             }
            },
            "type": "scattermapbox"
           }
          ],
          "scatterpolar": [
           {
            "marker": {
             "colorbar": {
              "outlinewidth": 0,
              "ticks": ""
             }
            },
            "type": "scatterpolar"
           }
          ],
          "scatterpolargl": [
           {
            "marker": {
             "colorbar": {
              "outlinewidth": 0,
              "ticks": ""
             }
            },
            "type": "scatterpolargl"
           }
          ],
          "scatterternary": [
           {
            "marker": {
             "colorbar": {
              "outlinewidth": 0,
              "ticks": ""
             }
            },
            "type": "scatterternary"
           }
          ],
          "surface": [
           {
            "colorbar": {
             "outlinewidth": 0,
             "ticks": ""
            },
            "colorscale": [
             [
              0,
              "#0d0887"
             ],
             [
              0.1111111111111111,
              "#46039f"
             ],
             [
              0.2222222222222222,
              "#7201a8"
             ],
             [
              0.3333333333333333,
              "#9c179e"
             ],
             [
              0.4444444444444444,
              "#bd3786"
             ],
             [
              0.5555555555555556,
              "#d8576b"
             ],
             [
              0.6666666666666666,
              "#ed7953"
             ],
             [
              0.7777777777777778,
              "#fb9f3a"
             ],
             [
              0.8888888888888888,
              "#fdca26"
             ],
             [
              1,
              "#f0f921"
             ]
            ],
            "type": "surface"
           }
          ],
          "table": [
           {
            "cells": {
             "fill": {
              "color": "#EBF0F8"
             },
             "line": {
              "color": "white"
             }
            },
            "header": {
             "fill": {
              "color": "#C8D4E3"
             },
             "line": {
              "color": "white"
             }
            },
            "type": "table"
           }
          ]
         },
         "layout": {
          "annotationdefaults": {
           "arrowcolor": "#2a3f5f",
           "arrowhead": 0,
           "arrowwidth": 1
          },
          "autotypenumbers": "strict",
          "coloraxis": {
           "colorbar": {
            "outlinewidth": 0,
            "ticks": ""
           }
          },
          "colorscale": {
           "diverging": [
            [
             0,
             "#8e0152"
            ],
            [
             0.1,
             "#c51b7d"
            ],
            [
             0.2,
             "#de77ae"
            ],
            [
             0.3,
             "#f1b6da"
            ],
            [
             0.4,
             "#fde0ef"
            ],
            [
             0.5,
             "#f7f7f7"
            ],
            [
             0.6,
             "#e6f5d0"
            ],
            [
             0.7,
             "#b8e186"
            ],
            [
             0.8,
             "#7fbc41"
            ],
            [
             0.9,
             "#4d9221"
            ],
            [
             1,
             "#276419"
            ]
           ],
           "sequential": [
            [
             0,
             "#0d0887"
            ],
            [
             0.1111111111111111,
             "#46039f"
            ],
            [
             0.2222222222222222,
             "#7201a8"
            ],
            [
             0.3333333333333333,
             "#9c179e"
            ],
            [
             0.4444444444444444,
             "#bd3786"
            ],
            [
             0.5555555555555556,
             "#d8576b"
            ],
            [
             0.6666666666666666,
             "#ed7953"
            ],
            [
             0.7777777777777778,
             "#fb9f3a"
            ],
            [
             0.8888888888888888,
             "#fdca26"
            ],
            [
             1,
             "#f0f921"
            ]
           ],
           "sequentialminus": [
            [
             0,
             "#0d0887"
            ],
            [
             0.1111111111111111,
             "#46039f"
            ],
            [
             0.2222222222222222,
             "#7201a8"
            ],
            [
             0.3333333333333333,
             "#9c179e"
            ],
            [
             0.4444444444444444,
             "#bd3786"
            ],
            [
             0.5555555555555556,
             "#d8576b"
            ],
            [
             0.6666666666666666,
             "#ed7953"
            ],
            [
             0.7777777777777778,
             "#fb9f3a"
            ],
            [
             0.8888888888888888,
             "#fdca26"
            ],
            [
             1,
             "#f0f921"
            ]
           ]
          },
          "colorway": [
           "#636efa",
           "#EF553B",
           "#00cc96",
           "#ab63fa",
           "#FFA15A",
           "#19d3f3",
           "#FF6692",
           "#B6E880",
           "#FF97FF",
           "#FECB52"
          ],
          "font": {
           "color": "#2a3f5f"
          },
          "geo": {
           "bgcolor": "white",
           "lakecolor": "white",
           "landcolor": "#E5ECF6",
           "showlakes": true,
           "showland": true,
           "subunitcolor": "white"
          },
          "hoverlabel": {
           "align": "left"
          },
          "hovermode": "closest",
          "mapbox": {
           "style": "light"
          },
          "paper_bgcolor": "white",
          "plot_bgcolor": "#E5ECF6",
          "polar": {
           "angularaxis": {
            "gridcolor": "white",
            "linecolor": "white",
            "ticks": ""
           },
           "bgcolor": "#E5ECF6",
           "radialaxis": {
            "gridcolor": "white",
            "linecolor": "white",
            "ticks": ""
           }
          },
          "scene": {
           "xaxis": {
            "backgroundcolor": "#E5ECF6",
            "gridcolor": "white",
            "gridwidth": 2,
            "linecolor": "white",
            "showbackground": true,
            "ticks": "",
            "zerolinecolor": "white"
           },
           "yaxis": {
            "backgroundcolor": "#E5ECF6",
            "gridcolor": "white",
            "gridwidth": 2,
            "linecolor": "white",
            "showbackground": true,
            "ticks": "",
            "zerolinecolor": "white"
           },
           "zaxis": {
            "backgroundcolor": "#E5ECF6",
            "gridcolor": "white",
            "gridwidth": 2,
            "linecolor": "white",
            "showbackground": true,
            "ticks": "",
            "zerolinecolor": "white"
           }
          },
          "shapedefaults": {
           "line": {
            "color": "#2a3f5f"
           }
          },
          "ternary": {
           "aaxis": {
            "gridcolor": "white",
            "linecolor": "white",
            "ticks": ""
           },
           "baxis": {
            "gridcolor": "white",
            "linecolor": "white",
            "ticks": ""
           },
           "bgcolor": "#E5ECF6",
           "caxis": {
            "gridcolor": "white",
            "linecolor": "white",
            "ticks": ""
           }
          },
          "title": {
           "x": 0.05
          },
          "xaxis": {
           "automargin": true,
           "gridcolor": "white",
           "linecolor": "white",
           "ticks": "",
           "title": {
            "standoff": 15
           },
           "zerolinecolor": "white",
           "zerolinewidth": 2
          },
          "yaxis": {
           "automargin": true,
           "gridcolor": "white",
           "linecolor": "white",
           "ticks": "",
           "title": {
            "standoff": 15
           },
           "zerolinecolor": "white",
           "zerolinewidth": 2
          }
         }
        },
        "title": {
         "font": {
          "size": 24
         },
         "text": "<b>Phân bổ giai đoạn 1: Từ trung tâm đến trung tâm</b>"
        },
        "width": 1620,
        "xaxis": {
         "showticklabels": false,
         "visible": false
        },
        "yaxis": {
         "showticklabels": false,
         "visible": false
        }
       }
      }
     },
     "metadata": {},
     "output_type": "display_data"
    }
   ],
   "source": [
    "highlighted_nodes_1 = [ \"KHOI BAN LE_Lv0\", \"KHOI BAN BUON_Lv4\"]\n",
    "selected_columns = ['Lv0_mapped', 'Lv4_mapped']\n",
    "fig = sankey_graph(lv_04_df, selected_columns, highlighted_nodes_1, title= \"<b>Phân bổ giai đoạn 1: Từ trung tâm đến trung tâm</b>\", color_map= color_map_v2)\n",
    "fig     "
   ]
  },
  {
   "cell_type": "code",
   "execution_count": 6,
   "metadata": {},
   "outputs": [
    {
     "name": "stderr",
     "output_type": "stream",
     "text": [
      "C:\\Users\\Admin\\AppData\\Local\\Temp\\ipykernel_18444\\429772272.py:117: SettingWithCopyWarning:\n",
      "\n",
      "\n",
      "A value is trying to be set on a copy of a slice from a DataFrame.\n",
      "Try using .loc[row_indexer,col_indexer] = value instead\n",
      "\n",
      "See the caveats in the documentation: https://pandas.pydata.org/pandas-docs/stable/user_guide/indexing.html#returning-a-view-versus-a-copy\n",
      "\n"
     ]
    },
    {
     "data": {
      "text/html": [
       "<div>\n",
       "<style scoped>\n",
       "    .dataframe tbody tr th:only-of-type {\n",
       "        vertical-align: middle;\n",
       "    }\n",
       "\n",
       "    .dataframe tbody tr th {\n",
       "        vertical-align: top;\n",
       "    }\n",
       "\n",
       "    .dataframe thead th {\n",
       "        text-align: right;\n",
       "    }\n",
       "</style>\n",
       "<table border=\"1\" class=\"dataframe\">\n",
       "  <thead>\n",
       "    <tr style=\"text-align: right;\">\n",
       "      <th></th>\n",
       "      <th>Lv0_mapped</th>\n",
       "      <th>Percentage_Lv0_mapped</th>\n",
       "      <th>Lv4_mapped</th>\n",
       "      <th>Percentage_Lv4_mapped</th>\n",
       "    </tr>\n",
       "  </thead>\n",
       "  <tbody>\n",
       "    <tr>\n",
       "      <th>5</th>\n",
       "      <td>KHOI KINH DOANH VON VA TIEN TE</td>\n",
       "      <td>0.000445</td>\n",
       "      <td>NaN</td>\n",
       "      <td>NaN</td>\n",
       "    </tr>\n",
       "    <tr>\n",
       "      <th>6</th>\n",
       "      <td>KHOI QUAN LY RUI RO</td>\n",
       "      <td>0.119621</td>\n",
       "      <td>NaN</td>\n",
       "      <td>NaN</td>\n",
       "    </tr>\n",
       "    <tr>\n",
       "      <th>3</th>\n",
       "      <td>KHOI GIAM SAT VA TUAN THU</td>\n",
       "      <td>0.332209</td>\n",
       "      <td>KHOI KINH DOANH VON VA TIEN TE</td>\n",
       "      <td>0.000006</td>\n",
       "    </tr>\n",
       "    <tr>\n",
       "      <th>2</th>\n",
       "      <td>KHOI CNTT VA NGAN HANG SO</td>\n",
       "      <td>0.669599</td>\n",
       "      <td>KHOI DAU TU</td>\n",
       "      <td>0.000000</td>\n",
       "    </tr>\n",
       "    <tr>\n",
       "      <th>8</th>\n",
       "      <td>KHOI TAI CHINH-KE TOAN</td>\n",
       "      <td>1.352108</td>\n",
       "      <td>NaN</td>\n",
       "      <td>NaN</td>\n",
       "    </tr>\n",
       "    <tr>\n",
       "      <th>7</th>\n",
       "      <td>KHOI TAC NGHIEP</td>\n",
       "      <td>2.471835</td>\n",
       "      <td>NaN</td>\n",
       "      <td>NaN</td>\n",
       "    </tr>\n",
       "    <tr>\n",
       "      <th>4</th>\n",
       "      <td>KHOI HO TRO</td>\n",
       "      <td>7.978382</td>\n",
       "      <td>NaN</td>\n",
       "      <td>NaN</td>\n",
       "    </tr>\n",
       "    <tr>\n",
       "      <th>0</th>\n",
       "      <td>KHOI BAN BUON</td>\n",
       "      <td>29.868029</td>\n",
       "      <td>KHOI BAN BUON</td>\n",
       "      <td>43.431192</td>\n",
       "    </tr>\n",
       "    <tr>\n",
       "      <th>1</th>\n",
       "      <td>KHOI BAN LE</td>\n",
       "      <td>57.207772</td>\n",
       "      <td>KHOI BAN LE</td>\n",
       "      <td>56.568802</td>\n",
       "    </tr>\n",
       "  </tbody>\n",
       "</table>\n",
       "</div>"
      ],
      "text/plain": [
       "                       Lv0_mapped  Percentage_Lv0_mapped  \\\n",
       "5  KHOI KINH DOANH VON VA TIEN TE               0.000445   \n",
       "6             KHOI QUAN LY RUI RO               0.119621   \n",
       "3       KHOI GIAM SAT VA TUAN THU               0.332209   \n",
       "2       KHOI CNTT VA NGAN HANG SO               0.669599   \n",
       "8          KHOI TAI CHINH-KE TOAN               1.352108   \n",
       "7                 KHOI TAC NGHIEP               2.471835   \n",
       "4                     KHOI HO TRO               7.978382   \n",
       "0                   KHOI BAN BUON              29.868029   \n",
       "1                     KHOI BAN LE              57.207772   \n",
       "\n",
       "                       Lv4_mapped  Percentage_Lv4_mapped  \n",
       "5                             NaN                    NaN  \n",
       "6                             NaN                    NaN  \n",
       "3  KHOI KINH DOANH VON VA TIEN TE               0.000006  \n",
       "2                     KHOI DAU TU               0.000000  \n",
       "8                             NaN                    NaN  \n",
       "7                             NaN                    NaN  \n",
       "4                             NaN                    NaN  \n",
       "0                   KHOI BAN BUON              43.431192  \n",
       "1                     KHOI BAN LE              56.568802  "
      ]
     },
     "execution_count": 6,
     "metadata": {},
     "output_type": "execute_result"
    }
   ],
   "source": [
    "dist_result = calculate_distribution(lv_04_df, highlighted_nodes_1)\n",
    "dist_result"
   ]
  },
  {
   "cell_type": "code",
   "execution_count": 7,
   "metadata": {},
   "outputs": [
    {
     "name": "stderr",
     "output_type": "stream",
     "text": [
      "C:\\Users\\Admin\\AppData\\Local\\Temp\\ipykernel_18444\\429772272.py:2: SettingWithCopyWarning:\n",
      "\n",
      "\n",
      "A value is trying to be set on a copy of a slice from a DataFrame.\n",
      "Try using .loc[row_indexer,col_indexer] = value instead\n",
      "\n",
      "See the caveats in the documentation: https://pandas.pydata.org/pandas-docs/stable/user_guide/indexing.html#returning-a-view-versus-a-copy\n",
      "\n"
     ]
    },
    {
     "data": {
      "application/vnd.plotly.v1+json": {
       "config": {
        "plotlyServerURL": "https://plot.ly"
       },
       "data": [
        {
         "link": {
          "color": [
           "rgba(0, 107, 105, 0.2)",
           "rgba(0, 107, 105, 0.2)",
           "rgba(0, 107, 105, 0.2)",
           "rgba(0, 107, 105, 0.2)",
           "rgba(0, 107, 105, 0.2)",
           "rgba(0, 107, 105, 0.2)",
           "rgba(0, 107, 105, 0.2)",
           "rgba(0, 107, 105, 0.2)",
           "rgba(0, 107, 105, 0.2)",
           "rgba(0, 107, 105, 0.2)",
           "rgba(0, 107, 105, 0.2)",
           "rgba(0, 107, 105, 0.2)"
          ],
          "source": [
           0,
           2,
           2,
           2,
           2,
           4,
           6,
           7,
           8,
           10,
           11,
           12
          ],
          "target": [
           1,
           1,
           3,
           5,
           9,
           1,
           1,
           1,
           1,
           1,
           1,
           1
          ],
          "value": [
           21186651925,
           453244627,
           40126635669,
           0,
           4157,
           474975064,
           235649520,
           5659402318,
           315585,
           84852492,
           1753376785,
           959107241
          ]
         },
         "node": {
          "color": [
           "#77DD77",
           "#77DD77",
           "#89CFF0",
           "#89CFF0",
           "#CB99C9",
           "#FFD1DC",
           "#B0E0E6",
           "#CBF3D2",
           "#B39EB5",
           "#B39EB5",
           "#FDFD96",
           "#FFB347",
           "#ECC8EC"
          ],
          "label": [
           "KHOI BAN BUON_Lv0",
           "KHOI BAN BUON_Lv4",
           "KHOI BAN LE_Lv0",
           "KHOI BAN LE_Lv4",
           "KHOI CNTT VA NGAN HANG SO_Lv0",
           "KHOI DAU TU_Lv4",
           "KHOI GIAM SAT VA TUAN THU_Lv0",
           "KHOI HO TRO_Lv0",
           "KHOI KINH DOANH VON VA TIEN TE_Lv0",
           "KHOI KINH DOANH VON VA TIEN TE_Lv4",
           "KHOI QUAN LY RUI RO_Lv0",
           "KHOI TAC NGHIEP_Lv0",
           "KHOI TAI CHINH-KE TOAN_Lv0"
          ],
          "line": {
           "color": "black",
           "width": 0.5
          },
          "pad": 15,
          "thickness": 20
         },
         "type": "sankey"
        }
       ],
       "layout": {
        "autosize": false,
        "font": {
         "color": "blue",
         "family": "Arial",
         "size": 14
        },
        "height": 1080,
        "template": {
         "data": {
          "bar": [
           {
            "error_x": {
             "color": "#2a3f5f"
            },
            "error_y": {
             "color": "#2a3f5f"
            },
            "marker": {
             "line": {
              "color": "#E5ECF6",
              "width": 0.5
             },
             "pattern": {
              "fillmode": "overlay",
              "size": 10,
              "solidity": 0.2
             }
            },
            "type": "bar"
           }
          ],
          "barpolar": [
           {
            "marker": {
             "line": {
              "color": "#E5ECF6",
              "width": 0.5
             },
             "pattern": {
              "fillmode": "overlay",
              "size": 10,
              "solidity": 0.2
             }
            },
            "type": "barpolar"
           }
          ],
          "carpet": [
           {
            "aaxis": {
             "endlinecolor": "#2a3f5f",
             "gridcolor": "white",
             "linecolor": "white",
             "minorgridcolor": "white",
             "startlinecolor": "#2a3f5f"
            },
            "baxis": {
             "endlinecolor": "#2a3f5f",
             "gridcolor": "white",
             "linecolor": "white",
             "minorgridcolor": "white",
             "startlinecolor": "#2a3f5f"
            },
            "type": "carpet"
           }
          ],
          "choropleth": [
           {
            "colorbar": {
             "outlinewidth": 0,
             "ticks": ""
            },
            "type": "choropleth"
           }
          ],
          "contour": [
           {
            "colorbar": {
             "outlinewidth": 0,
             "ticks": ""
            },
            "colorscale": [
             [
              0,
              "#0d0887"
             ],
             [
              0.1111111111111111,
              "#46039f"
             ],
             [
              0.2222222222222222,
              "#7201a8"
             ],
             [
              0.3333333333333333,
              "#9c179e"
             ],
             [
              0.4444444444444444,
              "#bd3786"
             ],
             [
              0.5555555555555556,
              "#d8576b"
             ],
             [
              0.6666666666666666,
              "#ed7953"
             ],
             [
              0.7777777777777778,
              "#fb9f3a"
             ],
             [
              0.8888888888888888,
              "#fdca26"
             ],
             [
              1,
              "#f0f921"
             ]
            ],
            "type": "contour"
           }
          ],
          "contourcarpet": [
           {
            "colorbar": {
             "outlinewidth": 0,
             "ticks": ""
            },
            "type": "contourcarpet"
           }
          ],
          "heatmap": [
           {
            "colorbar": {
             "outlinewidth": 0,
             "ticks": ""
            },
            "colorscale": [
             [
              0,
              "#0d0887"
             ],
             [
              0.1111111111111111,
              "#46039f"
             ],
             [
              0.2222222222222222,
              "#7201a8"
             ],
             [
              0.3333333333333333,
              "#9c179e"
             ],
             [
              0.4444444444444444,
              "#bd3786"
             ],
             [
              0.5555555555555556,
              "#d8576b"
             ],
             [
              0.6666666666666666,
              "#ed7953"
             ],
             [
              0.7777777777777778,
              "#fb9f3a"
             ],
             [
              0.8888888888888888,
              "#fdca26"
             ],
             [
              1,
              "#f0f921"
             ]
            ],
            "type": "heatmap"
           }
          ],
          "heatmapgl": [
           {
            "colorbar": {
             "outlinewidth": 0,
             "ticks": ""
            },
            "colorscale": [
             [
              0,
              "#0d0887"
             ],
             [
              0.1111111111111111,
              "#46039f"
             ],
             [
              0.2222222222222222,
              "#7201a8"
             ],
             [
              0.3333333333333333,
              "#9c179e"
             ],
             [
              0.4444444444444444,
              "#bd3786"
             ],
             [
              0.5555555555555556,
              "#d8576b"
             ],
             [
              0.6666666666666666,
              "#ed7953"
             ],
             [
              0.7777777777777778,
              "#fb9f3a"
             ],
             [
              0.8888888888888888,
              "#fdca26"
             ],
             [
              1,
              "#f0f921"
             ]
            ],
            "type": "heatmapgl"
           }
          ],
          "histogram": [
           {
            "marker": {
             "pattern": {
              "fillmode": "overlay",
              "size": 10,
              "solidity": 0.2
             }
            },
            "type": "histogram"
           }
          ],
          "histogram2d": [
           {
            "colorbar": {
             "outlinewidth": 0,
             "ticks": ""
            },
            "colorscale": [
             [
              0,
              "#0d0887"
             ],
             [
              0.1111111111111111,
              "#46039f"
             ],
             [
              0.2222222222222222,
              "#7201a8"
             ],
             [
              0.3333333333333333,
              "#9c179e"
             ],
             [
              0.4444444444444444,
              "#bd3786"
             ],
             [
              0.5555555555555556,
              "#d8576b"
             ],
             [
              0.6666666666666666,
              "#ed7953"
             ],
             [
              0.7777777777777778,
              "#fb9f3a"
             ],
             [
              0.8888888888888888,
              "#fdca26"
             ],
             [
              1,
              "#f0f921"
             ]
            ],
            "type": "histogram2d"
           }
          ],
          "histogram2dcontour": [
           {
            "colorbar": {
             "outlinewidth": 0,
             "ticks": ""
            },
            "colorscale": [
             [
              0,
              "#0d0887"
             ],
             [
              0.1111111111111111,
              "#46039f"
             ],
             [
              0.2222222222222222,
              "#7201a8"
             ],
             [
              0.3333333333333333,
              "#9c179e"
             ],
             [
              0.4444444444444444,
              "#bd3786"
             ],
             [
              0.5555555555555556,
              "#d8576b"
             ],
             [
              0.6666666666666666,
              "#ed7953"
             ],
             [
              0.7777777777777778,
              "#fb9f3a"
             ],
             [
              0.8888888888888888,
              "#fdca26"
             ],
             [
              1,
              "#f0f921"
             ]
            ],
            "type": "histogram2dcontour"
           }
          ],
          "mesh3d": [
           {
            "colorbar": {
             "outlinewidth": 0,
             "ticks": ""
            },
            "type": "mesh3d"
           }
          ],
          "parcoords": [
           {
            "line": {
             "colorbar": {
              "outlinewidth": 0,
              "ticks": ""
             }
            },
            "type": "parcoords"
           }
          ],
          "pie": [
           {
            "automargin": true,
            "type": "pie"
           }
          ],
          "scatter": [
           {
            "fillpattern": {
             "fillmode": "overlay",
             "size": 10,
             "solidity": 0.2
            },
            "type": "scatter"
           }
          ],
          "scatter3d": [
           {
            "line": {
             "colorbar": {
              "outlinewidth": 0,
              "ticks": ""
             }
            },
            "marker": {
             "colorbar": {
              "outlinewidth": 0,
              "ticks": ""
             }
            },
            "type": "scatter3d"
           }
          ],
          "scattercarpet": [
           {
            "marker": {
             "colorbar": {
              "outlinewidth": 0,
              "ticks": ""
             }
            },
            "type": "scattercarpet"
           }
          ],
          "scattergeo": [
           {
            "marker": {
             "colorbar": {
              "outlinewidth": 0,
              "ticks": ""
             }
            },
            "type": "scattergeo"
           }
          ],
          "scattergl": [
           {
            "marker": {
             "colorbar": {
              "outlinewidth": 0,
              "ticks": ""
             }
            },
            "type": "scattergl"
           }
          ],
          "scattermapbox": [
           {
            "marker": {
             "colorbar": {
              "outlinewidth": 0,
              "ticks": ""
             }
            },
            "type": "scattermapbox"
           }
          ],
          "scatterpolar": [
           {
            "marker": {
             "colorbar": {
              "outlinewidth": 0,
              "ticks": ""
             }
            },
            "type": "scatterpolar"
           }
          ],
          "scatterpolargl": [
           {
            "marker": {
             "colorbar": {
              "outlinewidth": 0,
              "ticks": ""
             }
            },
            "type": "scatterpolargl"
           }
          ],
          "scatterternary": [
           {
            "marker": {
             "colorbar": {
              "outlinewidth": 0,
              "ticks": ""
             }
            },
            "type": "scatterternary"
           }
          ],
          "surface": [
           {
            "colorbar": {
             "outlinewidth": 0,
             "ticks": ""
            },
            "colorscale": [
             [
              0,
              "#0d0887"
             ],
             [
              0.1111111111111111,
              "#46039f"
             ],
             [
              0.2222222222222222,
              "#7201a8"
             ],
             [
              0.3333333333333333,
              "#9c179e"
             ],
             [
              0.4444444444444444,
              "#bd3786"
             ],
             [
              0.5555555555555556,
              "#d8576b"
             ],
             [
              0.6666666666666666,
              "#ed7953"
             ],
             [
              0.7777777777777778,
              "#fb9f3a"
             ],
             [
              0.8888888888888888,
              "#fdca26"
             ],
             [
              1,
              "#f0f921"
             ]
            ],
            "type": "surface"
           }
          ],
          "table": [
           {
            "cells": {
             "fill": {
              "color": "#EBF0F8"
             },
             "line": {
              "color": "white"
             }
            },
            "header": {
             "fill": {
              "color": "#C8D4E3"
             },
             "line": {
              "color": "white"
             }
            },
            "type": "table"
           }
          ]
         },
         "layout": {
          "annotationdefaults": {
           "arrowcolor": "#2a3f5f",
           "arrowhead": 0,
           "arrowwidth": 1
          },
          "autotypenumbers": "strict",
          "coloraxis": {
           "colorbar": {
            "outlinewidth": 0,
            "ticks": ""
           }
          },
          "colorscale": {
           "diverging": [
            [
             0,
             "#8e0152"
            ],
            [
             0.1,
             "#c51b7d"
            ],
            [
             0.2,
             "#de77ae"
            ],
            [
             0.3,
             "#f1b6da"
            ],
            [
             0.4,
             "#fde0ef"
            ],
            [
             0.5,
             "#f7f7f7"
            ],
            [
             0.6,
             "#e6f5d0"
            ],
            [
             0.7,
             "#b8e186"
            ],
            [
             0.8,
             "#7fbc41"
            ],
            [
             0.9,
             "#4d9221"
            ],
            [
             1,
             "#276419"
            ]
           ],
           "sequential": [
            [
             0,
             "#0d0887"
            ],
            [
             0.1111111111111111,
             "#46039f"
            ],
            [
             0.2222222222222222,
             "#7201a8"
            ],
            [
             0.3333333333333333,
             "#9c179e"
            ],
            [
             0.4444444444444444,
             "#bd3786"
            ],
            [
             0.5555555555555556,
             "#d8576b"
            ],
            [
             0.6666666666666666,
             "#ed7953"
            ],
            [
             0.7777777777777778,
             "#fb9f3a"
            ],
            [
             0.8888888888888888,
             "#fdca26"
            ],
            [
             1,
             "#f0f921"
            ]
           ],
           "sequentialminus": [
            [
             0,
             "#0d0887"
            ],
            [
             0.1111111111111111,
             "#46039f"
            ],
            [
             0.2222222222222222,
             "#7201a8"
            ],
            [
             0.3333333333333333,
             "#9c179e"
            ],
            [
             0.4444444444444444,
             "#bd3786"
            ],
            [
             0.5555555555555556,
             "#d8576b"
            ],
            [
             0.6666666666666666,
             "#ed7953"
            ],
            [
             0.7777777777777778,
             "#fb9f3a"
            ],
            [
             0.8888888888888888,
             "#fdca26"
            ],
            [
             1,
             "#f0f921"
            ]
           ]
          },
          "colorway": [
           "#636efa",
           "#EF553B",
           "#00cc96",
           "#ab63fa",
           "#FFA15A",
           "#19d3f3",
           "#FF6692",
           "#B6E880",
           "#FF97FF",
           "#FECB52"
          ],
          "font": {
           "color": "#2a3f5f"
          },
          "geo": {
           "bgcolor": "white",
           "lakecolor": "white",
           "landcolor": "#E5ECF6",
           "showlakes": true,
           "showland": true,
           "subunitcolor": "white"
          },
          "hoverlabel": {
           "align": "left"
          },
          "hovermode": "closest",
          "mapbox": {
           "style": "light"
          },
          "paper_bgcolor": "white",
          "plot_bgcolor": "#E5ECF6",
          "polar": {
           "angularaxis": {
            "gridcolor": "white",
            "linecolor": "white",
            "ticks": ""
           },
           "bgcolor": "#E5ECF6",
           "radialaxis": {
            "gridcolor": "white",
            "linecolor": "white",
            "ticks": ""
           }
          },
          "scene": {
           "xaxis": {
            "backgroundcolor": "#E5ECF6",
            "gridcolor": "white",
            "gridwidth": 2,
            "linecolor": "white",
            "showbackground": true,
            "ticks": "",
            "zerolinecolor": "white"
           },
           "yaxis": {
            "backgroundcolor": "#E5ECF6",
            "gridcolor": "white",
            "gridwidth": 2,
            "linecolor": "white",
            "showbackground": true,
            "ticks": "",
            "zerolinecolor": "white"
           },
           "zaxis": {
            "backgroundcolor": "#E5ECF6",
            "gridcolor": "white",
            "gridwidth": 2,
            "linecolor": "white",
            "showbackground": true,
            "ticks": "",
            "zerolinecolor": "white"
           }
          },
          "shapedefaults": {
           "line": {
            "color": "#2a3f5f"
           }
          },
          "ternary": {
           "aaxis": {
            "gridcolor": "white",
            "linecolor": "white",
            "ticks": ""
           },
           "baxis": {
            "gridcolor": "white",
            "linecolor": "white",
            "ticks": ""
           },
           "bgcolor": "#E5ECF6",
           "caxis": {
            "gridcolor": "white",
            "linecolor": "white",
            "ticks": ""
           }
          },
          "title": {
           "x": 0.05
          },
          "xaxis": {
           "automargin": true,
           "gridcolor": "white",
           "linecolor": "white",
           "ticks": "",
           "title": {
            "standoff": 15
           },
           "zerolinecolor": "white",
           "zerolinewidth": 2
          },
          "yaxis": {
           "automargin": true,
           "gridcolor": "white",
           "linecolor": "white",
           "ticks": "",
           "title": {
            "standoff": 15
           },
           "zerolinecolor": "white",
           "zerolinewidth": 2
          }
         }
        },
        "title": {
         "font": {
          "size": 24
         },
         "text": "Highlighted"
        },
        "width": 1620,
        "xaxis": {
         "showticklabels": false,
         "visible": false
        },
        "yaxis": {
         "showticklabels": false,
         "visible": false
        }
       }
      }
     },
     "metadata": {},
     "output_type": "display_data"
    }
   ],
   "source": [
    "highlighted_df = lv_04_df[lv_04_df.isin(highlighted_nodes_1).any(axis=1)]\n",
    "# st.dataframe(highlighted_df)\n",
    "sub_fig = sankey_graph(highlighted_df, selected_columns, highlighted_nodes_1, title= \"Highlighted\", color_map= color_map_v2)\n",
    "sub_fig"
   ]
  },
  {
   "cell_type": "code",
   "execution_count": 9,
   "metadata": {},
   "outputs": [
    {
     "data": {
      "application/vnd.plotly.v1+json": {
       "config": {
        "plotlyServerURL": "https://plot.ly"
       },
       "data": [
        {
         "link": {
          "color": [
           "rgba(0, 0, 0, 0.1)",
           "rgba(0, 0, 0, 0.1)",
           "rgba(0, 0, 0, 0.1)",
           "rgba(0, 0, 0, 0.1)",
           "rgba(0, 0, 0, 0.1)",
           "rgba(0, 0, 0, 0.1)",
           "rgba(0, 0, 0, 0.1)",
           "rgba(0, 0, 0, 0.1)",
           "rgba(0, 107, 105, 0.2)",
           "rgba(0, 107, 105, 0.2)",
           "rgba(0, 107, 105, 0.2)",
           "rgba(0, 107, 105, 0.2)",
           "rgba(0, 0, 0, 0.1)",
           "rgba(0, 0, 0, 0.1)",
           "rgba(0, 0, 0, 0.1)",
           "rgba(0, 0, 0, 0.1)",
           "rgba(0, 0, 0, 0.1)",
           "rgba(0, 0, 0, 0.1)",
           "rgba(0, 0, 0, 0.1)",
           "rgba(0, 0, 0, 0.1)",
           "rgba(0, 0, 0, 0.1)",
           "rgba(0, 0, 0, 0.1)",
           "rgba(0, 0, 0, 0.1)",
           "rgba(0, 0, 0, 0.1)",
           "rgba(0, 107, 105, 0.2)",
           "rgba(0, 107, 105, 0.2)",
           "rgba(0, 107, 105, 0.2)",
           "rgba(0, 107, 105, 0.2)",
           "rgba(0, 107, 105, 0.2)",
           "rgba(0, 107, 105, 0.2)",
           "rgba(0, 107, 105, 0.2)",
           "rgba(0, 107, 105, 0.2)",
           "rgba(0, 107, 105, 0.2)",
           "rgba(0, 107, 105, 0.2)",
           "rgba(0, 107, 105, 0.2)",
           "rgba(0, 107, 105, 0.2)",
           "rgba(0, 107, 105, 0.2)",
           "rgba(0, 107, 105, 0.2)",
           "rgba(0, 107, 105, 0.2)",
           "rgba(0, 107, 105, 0.2)",
           "rgba(0, 107, 105, 0.2)",
           "rgba(0, 107, 105, 0.2)",
           "rgba(0, 107, 105, 0.2)",
           "rgba(0, 107, 105, 0.2)",
           "rgba(0, 0, 0, 0.1)",
           "rgba(0, 0, 0, 0.1)",
           "rgba(0, 0, 0, 0.1)",
           "rgba(0, 0, 0, 0.1)",
           "rgba(0, 0, 0, 0.1)",
           "rgba(0, 0, 0, 0.1)",
           "rgba(0, 0, 0, 0.1)",
           "rgba(0, 0, 0, 0.1)",
           "rgba(0, 0, 0, 0.1)",
           "rgba(0, 0, 0, 0.1)",
           "rgba(0, 0, 0, 0.1)",
           "rgba(0, 0, 0, 0.1)",
           "rgba(0, 107, 105, 0.2)",
           "rgba(0, 107, 105, 0.2)",
           "rgba(0, 107, 105, 0.2)",
           "rgba(0, 107, 105, 0.2)",
           "rgba(0, 0, 0, 0.1)",
           "rgba(0, 0, 0, 0.1)",
           "rgba(0, 0, 0, 0.1)",
           "rgba(0, 0, 0, 0.1)",
           "rgba(0, 0, 0, 0.1)",
           "rgba(0, 0, 0, 0.1)",
           "rgba(0, 0, 0, 0.1)",
           "rgba(0, 0, 0, 0.1)",
           "rgba(0, 0, 0, 0.1)",
           "rgba(0, 0, 0, 0.1)",
           "rgba(0, 0, 0, 0.1)",
           "rgba(0, 0, 0, 0.1)",
           "rgba(0, 107, 105, 0.2)",
           "rgba(0, 107, 105, 0.2)",
           "rgba(0, 107, 105, 0.2)",
           "rgba(0, 107, 105, 0.2)",
           "rgba(0, 0, 0, 0.1)",
           "rgba(0, 0, 0, 0.1)",
           "rgba(0, 0, 0, 0.1)",
           "rgba(0, 0, 0, 0.1)",
           "rgba(0, 0, 0, 0.1)",
           "rgba(0, 0, 0, 0.1)",
           "rgba(0, 0, 0, 0.1)",
           "rgba(0, 0, 0, 0.1)",
           "rgba(0, 0, 0, 0.1)",
           "rgba(0, 0, 0, 0.1)",
           "rgba(0, 0, 0, 0.1)",
           "rgba(0, 0, 0, 0.1)",
           "rgba(0, 0, 0, 0.1)",
           "rgba(0, 0, 0, 0.1)",
           "rgba(0, 0, 0, 0.1)",
           "rgba(0, 0, 0, 0.1)",
           "rgba(0, 107, 105, 0.2)",
           "rgba(0, 107, 105, 0.2)",
           "rgba(0, 107, 105, 0.2)",
           "rgba(0, 107, 105, 0.2)",
           "rgba(0, 0, 0, 0.1)",
           "rgba(0, 0, 0, 0.1)",
           "rgba(0, 0, 0, 0.1)",
           "rgba(0, 0, 0, 0.1)",
           "rgba(0, 0, 0, 0.1)",
           "rgba(0, 0, 0, 0.1)",
           "rgba(0, 0, 0, 0.1)",
           "rgba(0, 0, 0, 0.1)",
           "rgba(0, 0, 0, 0.1)",
           "rgba(0, 0, 0, 0.1)",
           "rgba(0, 0, 0, 0.1)",
           "rgba(0, 0, 0, 0.1)",
           "rgba(0, 0, 0, 0.1)",
           "rgba(0, 0, 0, 0.1)",
           "rgba(0, 0, 0, 0.1)",
           "rgba(0, 0, 0, 0.1)",
           "rgba(0, 0, 0, 0.1)",
           "rgba(0, 0, 0, 0.1)",
           "rgba(0, 0, 0, 0.1)",
           "rgba(0, 0, 0, 0.1)",
           "rgba(0, 107, 105, 0.2)",
           "rgba(0, 107, 105, 0.2)",
           "rgba(0, 107, 105, 0.2)",
           "rgba(0, 107, 105, 0.2)",
           "rgba(0, 0, 0, 0.1)",
           "rgba(0, 0, 0, 0.1)",
           "rgba(0, 0, 0, 0.1)",
           "rgba(0, 0, 0, 0.1)",
           "rgba(0, 0, 0, 0.1)",
           "rgba(0, 0, 0, 0.1)",
           "rgba(0, 0, 0, 0.1)",
           "rgba(0, 0, 0, 0.1)",
           "rgba(0, 0, 0, 0.1)",
           "rgba(0, 0, 0, 0.1)",
           "rgba(0, 0, 0, 0.1)",
           "rgba(0, 0, 0, 0.1)",
           "rgba(0, 107, 105, 0.2)",
           "rgba(0, 107, 105, 0.2)",
           "rgba(0, 107, 105, 0.2)",
           "rgba(0, 107, 105, 0.2)",
           "rgba(0, 0, 0, 0.1)",
           "rgba(0, 0, 0, 0.1)",
           "rgba(0, 0, 0, 0.1)",
           "rgba(0, 0, 0, 0.1)",
           "rgba(0, 0, 0, 0.1)",
           "rgba(0, 0, 0, 0.1)",
           "rgba(0, 0, 0, 0.1)",
           "rgba(0, 0, 0, 0.1)",
           "rgba(0, 0, 0, 0.1)",
           "rgba(0, 0, 0, 0.1)",
           "rgba(0, 0, 0, 0.1)",
           "rgba(0, 0, 0, 0.1)",
           "rgba(0, 107, 105, 0.2)",
           "rgba(0, 107, 105, 0.2)",
           "rgba(0, 107, 105, 0.2)",
           "rgba(0, 107, 105, 0.2)",
           "rgba(0, 0, 0, 0.1)",
           "rgba(0, 0, 0, 0.1)",
           "rgba(0, 0, 0, 0.1)",
           "rgba(0, 0, 0, 0.1)",
           "rgba(0, 0, 0, 0.1)",
           "rgba(0, 0, 0, 0.1)",
           "rgba(0, 0, 0, 0.1)",
           "rgba(0, 0, 0, 0.1)",
           "rgba(0, 0, 0, 0.1)",
           "rgba(0, 0, 0, 0.1)",
           "rgba(0, 0, 0, 0.1)",
           "rgba(0, 0, 0, 0.1)",
           "rgba(0, 0, 0, 0.1)",
           "rgba(0, 0, 0, 0.1)",
           "rgba(0, 0, 0, 0.1)",
           "rgba(0, 0, 0, 0.1)",
           "rgba(0, 0, 0, 0.1)",
           "rgba(0, 0, 0, 0.1)",
           "rgba(0, 0, 0, 0.1)",
           "rgba(0, 0, 0, 0.1)",
           "rgba(0, 0, 0, 0.1)",
           "rgba(0, 0, 0, 0.1)",
           "rgba(0, 0, 0, 0.1)",
           "rgba(0, 0, 0, 0.1)",
           "rgba(0, 107, 105, 0.2)",
           "rgba(0, 107, 105, 0.2)",
           "rgba(0, 107, 105, 0.2)",
           "rgba(0, 107, 105, 0.2)",
           "rgba(0, 0, 0, 0.1)",
           "rgba(0, 0, 0, 0.1)",
           "rgba(0, 0, 0, 0.1)",
           "rgba(0, 0, 0, 0.1)",
           "rgba(0, 0, 0, 0.1)",
           "rgba(0, 0, 0, 0.1)",
           "rgba(0, 0, 0, 0.1)",
           "rgba(0, 0, 0, 0.1)",
           "rgba(0, 0, 0, 0.1)",
           "rgba(0, 0, 0, 0.1)",
           "rgba(0, 0, 0, 0.1)",
           "rgba(0, 0, 0, 0.1)",
           "rgba(0, 107, 105, 0.2)",
           "rgba(0, 107, 105, 0.2)",
           "rgba(0, 107, 105, 0.2)",
           "rgba(0, 107, 105, 0.2)",
           "rgba(0, 0, 0, 0.1)",
           "rgba(0, 0, 0, 0.1)",
           "rgba(0, 0, 0, 0.1)",
           "rgba(0, 0, 0, 0.1)",
           "rgba(0, 0, 0, 0.1)",
           "rgba(0, 0, 0, 0.1)",
           "rgba(0, 0, 0, 0.1)",
           "rgba(0, 0, 0, 0.1)",
           "rgba(0, 0, 0, 0.1)",
           "rgba(0, 0, 0, 0.1)",
           "rgba(0, 0, 0, 0.1)",
           "rgba(0, 0, 0, 0.1)",
           "rgba(0, 107, 105, 0.2)",
           "rgba(0, 107, 105, 0.2)",
           "rgba(0, 107, 105, 0.2)",
           "rgba(0, 107, 105, 0.2)",
           "rgba(0, 0, 0, 0.1)",
           "rgba(0, 0, 0, 0.1)",
           "rgba(0, 0, 0, 0.1)",
           "rgba(0, 0, 0, 0.1)",
           "rgba(0, 0, 0, 0.1)",
           "rgba(0, 0, 0, 0.1)",
           "rgba(0, 0, 0, 0.1)",
           "rgba(0, 0, 0, 0.1)",
           "rgba(0, 0, 0, 0.1)",
           "rgba(0, 0, 0, 0.1)",
           "rgba(0, 0, 0, 0.1)",
           "rgba(0, 0, 0, 0.1)",
           "rgba(0, 0, 0, 0.1)",
           "rgba(0, 0, 0, 0.1)",
           "rgba(0, 0, 0, 0.1)",
           "rgba(0, 0, 0, 0.1)",
           "rgba(0, 0, 0, 0.1)",
           "rgba(0, 0, 0, 0.1)",
           "rgba(0, 0, 0, 0.1)",
           "rgba(0, 0, 0, 0.1)",
           "rgba(0, 107, 105, 0.2)",
           "rgba(0, 107, 105, 0.2)",
           "rgba(0, 107, 105, 0.2)",
           "rgba(0, 107, 105, 0.2)",
           "rgba(0, 0, 0, 0.1)",
           "rgba(0, 0, 0, 0.1)",
           "rgba(0, 0, 0, 0.1)",
           "rgba(0, 0, 0, 0.1)",
           "rgba(0, 0, 0, 0.1)",
           "rgba(0, 0, 0, 0.1)",
           "rgba(0, 0, 0, 0.1)",
           "rgba(0, 0, 0, 0.1)",
           "rgba(0, 0, 0, 0.1)",
           "rgba(0, 0, 0, 0.1)",
           "rgba(0, 0, 0, 0.1)",
           "rgba(0, 0, 0, 0.1)",
           "rgba(0, 0, 0, 0.1)",
           "rgba(0, 0, 0, 0.1)",
           "rgba(0, 0, 0, 0.1)",
           "rgba(0, 0, 0, 0.1)",
           "rgba(0, 0, 0, 0.1)",
           "rgba(0, 0, 0, 0.1)",
           "rgba(0, 0, 0, 0.1)",
           "rgba(0, 0, 0, 0.1)",
           "rgba(0, 107, 105, 0.2)",
           "rgba(0, 107, 105, 0.2)",
           "rgba(0, 107, 105, 0.2)",
           "rgba(0, 107, 105, 0.2)",
           "rgba(0, 0, 0, 0.1)",
           "rgba(0, 0, 0, 0.1)",
           "rgba(0, 0, 0, 0.1)",
           "rgba(0, 0, 0, 0.1)",
           "rgba(0, 0, 0, 0.1)",
           "rgba(0, 0, 0, 0.1)",
           "rgba(0, 0, 0, 0.1)",
           "rgba(0, 0, 0, 0.1)",
           "rgba(0, 0, 0, 0.1)",
           "rgba(0, 0, 0, 0.1)",
           "rgba(0, 0, 0, 0.1)",
           "rgba(0, 0, 0, 0.1)",
           "rgba(0, 0, 0, 0.1)",
           "rgba(0, 0, 0, 0.1)",
           "rgba(0, 0, 0, 0.1)",
           "rgba(0, 0, 0, 0.1)",
           "rgba(0, 107, 105, 0.2)",
           "rgba(0, 107, 105, 0.2)",
           "rgba(0, 107, 105, 0.2)",
           "rgba(0, 107, 105, 0.2)",
           "rgba(0, 0, 0, 0.1)",
           "rgba(0, 0, 0, 0.1)",
           "rgba(0, 0, 0, 0.1)",
           "rgba(0, 0, 0, 0.1)",
           "rgba(0, 0, 0, 0.1)",
           "rgba(0, 0, 0, 0.1)",
           "rgba(0, 0, 0, 0.1)",
           "rgba(0, 0, 0, 0.1)",
           "rgba(0, 0, 0, 0.1)",
           "rgba(0, 0, 0, 0.1)",
           "rgba(0, 0, 0, 0.1)",
           "rgba(0, 0, 0, 0.1)",
           "rgba(0, 0, 0, 0.1)",
           "rgba(0, 0, 0, 0.1)",
           "rgba(0, 0, 0, 0.1)",
           "rgba(0, 0, 0, 0.1)",
           "rgba(0, 107, 105, 0.2)",
           "rgba(0, 107, 105, 0.2)",
           "rgba(0, 107, 105, 0.2)",
           "rgba(0, 107, 105, 0.2)",
           "rgba(0, 0, 0, 0.1)",
           "rgba(0, 0, 0, 0.1)",
           "rgba(0, 0, 0, 0.1)",
           "rgba(0, 0, 0, 0.1)",
           "rgba(0, 0, 0, 0.1)",
           "rgba(0, 0, 0, 0.1)",
           "rgba(0, 0, 0, 0.1)",
           "rgba(0, 0, 0, 0.1)",
           "rgba(0, 0, 0, 0.1)",
           "rgba(0, 0, 0, 0.1)",
           "rgba(0, 0, 0, 0.1)",
           "rgba(0, 0, 0, 0.1)",
           "rgba(0, 0, 0, 0.1)",
           "rgba(0, 0, 0, 0.1)",
           "rgba(0, 0, 0, 0.1)",
           "rgba(0, 0, 0, 0.1)",
           "rgba(0, 0, 0, 0.1)",
           "rgba(0, 0, 0, 0.1)",
           "rgba(0, 0, 0, 0.1)",
           "rgba(0, 0, 0, 0.1)",
           "rgba(0, 107, 105, 0.2)",
           "rgba(0, 107, 105, 0.2)",
           "rgba(0, 107, 105, 0.2)",
           "rgba(0, 107, 105, 0.2)",
           "rgba(0, 0, 0, 0.1)",
           "rgba(0, 0, 0, 0.1)",
           "rgba(0, 0, 0, 0.1)",
           "rgba(0, 0, 0, 0.1)",
           "rgba(0, 0, 0, 0.1)",
           "rgba(0, 0, 0, 0.1)",
           "rgba(0, 0, 0, 0.1)",
           "rgba(0, 0, 0, 0.1)",
           "rgba(0, 0, 0, 0.1)",
           "rgba(0, 0, 0, 0.1)",
           "rgba(0, 0, 0, 0.1)",
           "rgba(0, 0, 0, 0.1)",
           "rgba(0, 107, 105, 0.2)",
           "rgba(0, 107, 105, 0.2)",
           "rgba(0, 107, 105, 0.2)",
           "rgba(0, 107, 105, 0.2)",
           "rgba(0, 0, 0, 0.1)",
           "rgba(0, 0, 0, 0.1)",
           "rgba(0, 0, 0, 0.1)",
           "rgba(0, 0, 0, 0.1)",
           "rgba(0, 0, 0, 0.1)",
           "rgba(0, 0, 0, 0.1)",
           "rgba(0, 0, 0, 0.1)",
           "rgba(0, 0, 0, 0.1)",
           "rgba(0, 0, 0, 0.1)",
           "rgba(0, 0, 0, 0.1)",
           "rgba(0, 0, 0, 0.1)",
           "rgba(0, 0, 0, 0.1)",
           "rgba(0, 0, 0, 0.1)",
           "rgba(0, 0, 0, 0.1)",
           "rgba(0, 0, 0, 0.1)",
           "rgba(0, 0, 0, 0.1)",
           "rgba(0, 107, 105, 0.2)",
           "rgba(0, 107, 105, 0.2)",
           "rgba(0, 107, 105, 0.2)",
           "rgba(0, 107, 105, 0.2)",
           "rgba(0, 0, 0, 0.1)",
           "rgba(0, 0, 0, 0.1)",
           "rgba(0, 0, 0, 0.1)",
           "rgba(0, 0, 0, 0.1)",
           "rgba(0, 0, 0, 0.1)",
           "rgba(0, 0, 0, 0.1)",
           "rgba(0, 0, 0, 0.1)",
           "rgba(0, 0, 0, 0.1)",
           "rgba(0, 0, 0, 0.1)",
           "rgba(0, 0, 0, 0.1)",
           "rgba(0, 0, 0, 0.1)",
           "rgba(0, 0, 0, 0.1)",
           "rgba(0, 0, 0, 0.1)",
           "rgba(0, 0, 0, 0.1)",
           "rgba(0, 0, 0, 0.1)",
           "rgba(0, 0, 0, 0.1)",
           "rgba(0, 107, 105, 0.2)",
           "rgba(0, 107, 105, 0.2)",
           "rgba(0, 107, 105, 0.2)",
           "rgba(0, 107, 105, 0.2)",
           "rgba(0, 0, 0, 0.1)",
           "rgba(0, 0, 0, 0.1)",
           "rgba(0, 0, 0, 0.1)",
           "rgba(0, 0, 0, 0.1)",
           "rgba(0, 0, 0, 0.1)",
           "rgba(0, 0, 0, 0.1)",
           "rgba(0, 0, 0, 0.1)",
           "rgba(0, 0, 0, 0.1)",
           "rgba(0, 0, 0, 0.1)",
           "rgba(0, 0, 0, 0.1)",
           "rgba(0, 0, 0, 0.1)",
           "rgba(0, 0, 0, 0.1)",
           "rgba(0, 0, 0, 0.1)",
           "rgba(0, 0, 0, 0.1)",
           "rgba(0, 0, 0, 0.1)",
           "rgba(0, 0, 0, 0.1)",
           "rgba(0, 0, 0, 0.1)",
           "rgba(0, 0, 0, 0.1)",
           "rgba(0, 0, 0, 0.1)",
           "rgba(0, 0, 0, 0.1)",
           "rgba(0, 107, 105, 0.2)",
           "rgba(0, 107, 105, 0.2)",
           "rgba(0, 107, 105, 0.2)",
           "rgba(0, 107, 105, 0.2)",
           "rgba(0, 0, 0, 0.1)",
           "rgba(0, 0, 0, 0.1)",
           "rgba(0, 0, 0, 0.1)",
           "rgba(0, 0, 0, 0.1)",
           "rgba(0, 0, 0, 0.1)",
           "rgba(0, 0, 0, 0.1)",
           "rgba(0, 0, 0, 0.1)",
           "rgba(0, 0, 0, 0.1)",
           "rgba(0, 0, 0, 0.1)",
           "rgba(0, 0, 0, 0.1)",
           "rgba(0, 0, 0, 0.1)",
           "rgba(0, 0, 0, 0.1)",
           "rgba(0, 107, 105, 0.2)",
           "rgba(0, 107, 105, 0.2)",
           "rgba(0, 107, 105, 0.2)",
           "rgba(0, 107, 105, 0.2)",
           "rgba(0, 0, 0, 0.1)",
           "rgba(0, 0, 0, 0.1)",
           "rgba(0, 0, 0, 0.1)",
           "rgba(0, 0, 0, 0.1)",
           "rgba(0, 0, 0, 0.1)",
           "rgba(0, 0, 0, 0.1)",
           "rgba(0, 0, 0, 0.1)",
           "rgba(0, 0, 0, 0.1)",
           "rgba(0, 0, 0, 0.1)",
           "rgba(0, 0, 0, 0.1)",
           "rgba(0, 0, 0, 0.1)",
           "rgba(0, 0, 0, 0.1)",
           "rgba(0, 0, 0, 0.1)",
           "rgba(0, 0, 0, 0.1)",
           "rgba(0, 0, 0, 0.1)",
           "rgba(0, 0, 0, 0.1)",
           "rgba(0, 107, 105, 0.2)",
           "rgba(0, 107, 105, 0.2)",
           "rgba(0, 107, 105, 0.2)",
           "rgba(0, 107, 105, 0.2)",
           "rgba(0, 0, 0, 0.1)",
           "rgba(0, 0, 0, 0.1)",
           "rgba(0, 0, 0, 0.1)",
           "rgba(0, 0, 0, 0.1)",
           "rgba(0, 0, 0, 0.1)",
           "rgba(0, 0, 0, 0.1)",
           "rgba(0, 0, 0, 0.1)",
           "rgba(0, 0, 0, 0.1)",
           "rgba(0, 0, 0, 0.1)",
           "rgba(0, 0, 0, 0.1)",
           "rgba(0, 0, 0, 0.1)",
           "rgba(0, 0, 0, 0.1)",
           "rgba(0, 0, 0, 0.1)",
           "rgba(0, 0, 0, 0.1)",
           "rgba(0, 0, 0, 0.1)",
           "rgba(0, 0, 0, 0.1)",
           "rgba(0, 107, 105, 0.2)",
           "rgba(0, 107, 105, 0.2)",
           "rgba(0, 107, 105, 0.2)",
           "rgba(0, 107, 105, 0.2)",
           "rgba(0, 0, 0, 0.1)",
           "rgba(0, 0, 0, 0.1)",
           "rgba(0, 0, 0, 0.1)",
           "rgba(0, 0, 0, 0.1)",
           "rgba(0, 0, 0, 0.1)",
           "rgba(0, 0, 0, 0.1)",
           "rgba(0, 0, 0, 0.1)",
           "rgba(0, 0, 0, 0.1)",
           "rgba(0, 0, 0, 0.1)",
           "rgba(0, 0, 0, 0.1)",
           "rgba(0, 0, 0, 0.1)",
           "rgba(0, 0, 0, 0.1)",
           "rgba(0, 0, 0, 0.1)",
           "rgba(0, 0, 0, 0.1)",
           "rgba(0, 0, 0, 0.1)",
           "rgba(0, 0, 0, 0.1)",
           "rgba(0, 0, 0, 0.1)",
           "rgba(0, 0, 0, 0.1)",
           "rgba(0, 0, 0, 0.1)",
           "rgba(0, 0, 0, 0.1)",
           "rgba(0, 107, 105, 0.2)",
           "rgba(0, 107, 105, 0.2)",
           "rgba(0, 107, 105, 0.2)",
           "rgba(0, 107, 105, 0.2)",
           "rgba(0, 0, 0, 0.1)",
           "rgba(0, 0, 0, 0.1)",
           "rgba(0, 0, 0, 0.1)",
           "rgba(0, 0, 0, 0.1)",
           "rgba(0, 0, 0, 0.1)",
           "rgba(0, 0, 0, 0.1)",
           "rgba(0, 0, 0, 0.1)",
           "rgba(0, 0, 0, 0.1)",
           "rgba(0, 0, 0, 0.1)",
           "rgba(0, 0, 0, 0.1)",
           "rgba(0, 0, 0, 0.1)",
           "rgba(0, 0, 0, 0.1)",
           "rgba(0, 0, 0, 0.1)",
           "rgba(0, 0, 0, 0.1)",
           "rgba(0, 0, 0, 0.1)",
           "rgba(0, 0, 0, 0.1)",
           "rgba(0, 0, 0, 0.1)",
           "rgba(0, 0, 0, 0.1)",
           "rgba(0, 0, 0, 0.1)",
           "rgba(0, 0, 0, 0.1)",
           "rgba(0, 0, 0, 0.1)",
           "rgba(0, 0, 0, 0.1)",
           "rgba(0, 0, 0, 0.1)",
           "rgba(0, 0, 0, 0.1)",
           "rgba(0, 107, 105, 0.2)",
           "rgba(0, 107, 105, 0.2)",
           "rgba(0, 107, 105, 0.2)",
           "rgba(0, 107, 105, 0.2)",
           "rgba(0, 0, 0, 0.1)",
           "rgba(0, 0, 0, 0.1)",
           "rgba(0, 0, 0, 0.1)",
           "rgba(0, 0, 0, 0.1)",
           "rgba(0, 0, 0, 0.1)",
           "rgba(0, 0, 0, 0.1)",
           "rgba(0, 0, 0, 0.1)",
           "rgba(0, 0, 0, 0.1)",
           "rgba(0, 0, 0, 0.1)",
           "rgba(0, 0, 0, 0.1)",
           "rgba(0, 0, 0, 0.1)",
           "rgba(0, 0, 0, 0.1)",
           "rgba(0, 107, 105, 0.2)",
           "rgba(0, 107, 105, 0.2)",
           "rgba(0, 107, 105, 0.2)",
           "rgba(0, 107, 105, 0.2)",
           "rgba(0, 0, 0, 0.1)",
           "rgba(0, 0, 0, 0.1)",
           "rgba(0, 0, 0, 0.1)",
           "rgba(0, 0, 0, 0.1)",
           "rgba(0, 0, 0, 0.1)",
           "rgba(0, 0, 0, 0.1)",
           "rgba(0, 0, 0, 0.1)",
           "rgba(0, 0, 0, 0.1)",
           "rgba(0, 0, 0, 0.1)",
           "rgba(0, 0, 0, 0.1)",
           "rgba(0, 0, 0, 0.1)",
           "rgba(0, 0, 0, 0.1)",
           "rgba(0, 107, 105, 0.2)",
           "rgba(0, 107, 105, 0.2)",
           "rgba(0, 107, 105, 0.2)",
           "rgba(0, 107, 105, 0.2)",
           "rgba(0, 0, 0, 0.1)",
           "rgba(0, 0, 0, 0.1)",
           "rgba(0, 0, 0, 0.1)",
           "rgba(0, 0, 0, 0.1)",
           "rgba(0, 0, 0, 0.1)",
           "rgba(0, 0, 0, 0.1)",
           "rgba(0, 0, 0, 0.1)",
           "rgba(0, 0, 0, 0.1)",
           "rgba(0, 0, 0, 0.1)",
           "rgba(0, 0, 0, 0.1)",
           "rgba(0, 0, 0, 0.1)",
           "rgba(0, 0, 0, 0.1)",
           "rgba(0, 0, 0, 0.1)",
           "rgba(0, 0, 0, 0.1)",
           "rgba(0, 0, 0, 0.1)",
           "rgba(0, 0, 0, 0.1)",
           "rgba(0, 0, 0, 0.1)",
           "rgba(0, 0, 0, 0.1)",
           "rgba(0, 0, 0, 0.1)",
           "rgba(0, 0, 0, 0.1)",
           "rgba(0, 0, 0, 0.1)",
           "rgba(0, 0, 0, 0.1)",
           "rgba(0, 0, 0, 0.1)",
           "rgba(0, 0, 0, 0.1)",
           "rgba(0, 107, 105, 0.2)",
           "rgba(0, 107, 105, 0.2)",
           "rgba(0, 107, 105, 0.2)",
           "rgba(0, 107, 105, 0.2)",
           "rgba(0, 0, 0, 0.1)",
           "rgba(0, 0, 0, 0.1)",
           "rgba(0, 0, 0, 0.1)",
           "rgba(0, 0, 0, 0.1)",
           "rgba(0, 0, 0, 0.1)",
           "rgba(0, 0, 0, 0.1)",
           "rgba(0, 0, 0, 0.1)",
           "rgba(0, 0, 0, 0.1)",
           "rgba(0, 0, 0, 0.1)",
           "rgba(0, 0, 0, 0.1)",
           "rgba(0, 0, 0, 0.1)",
           "rgba(0, 0, 0, 0.1)",
           "rgba(0, 107, 105, 0.2)",
           "rgba(0, 107, 105, 0.2)",
           "rgba(0, 107, 105, 0.2)",
           "rgba(0, 107, 105, 0.2)",
           "rgba(0, 0, 0, 0.1)",
           "rgba(0, 0, 0, 0.1)",
           "rgba(0, 0, 0, 0.1)",
           "rgba(0, 0, 0, 0.1)",
           "rgba(0, 0, 0, 0.1)",
           "rgba(0, 0, 0, 0.1)",
           "rgba(0, 0, 0, 0.1)",
           "rgba(0, 0, 0, 0.1)",
           "rgba(0, 0, 0, 0.1)",
           "rgba(0, 0, 0, 0.1)",
           "rgba(0, 0, 0, 0.1)",
           "rgba(0, 0, 0, 0.1)",
           "rgba(0, 107, 105, 0.2)",
           "rgba(0, 107, 105, 0.2)",
           "rgba(0, 107, 105, 0.2)",
           "rgba(0, 107, 105, 0.2)",
           "rgba(0, 0, 0, 0.1)",
           "rgba(0, 0, 0, 0.1)",
           "rgba(0, 0, 0, 0.1)",
           "rgba(0, 0, 0, 0.1)",
           "rgba(0, 0, 0, 0.1)",
           "rgba(0, 0, 0, 0.1)",
           "rgba(0, 0, 0, 0.1)",
           "rgba(0, 0, 0, 0.1)",
           "rgba(0, 0, 0, 0.1)",
           "rgba(0, 0, 0, 0.1)",
           "rgba(0, 0, 0, 0.1)",
           "rgba(0, 0, 0, 0.1)",
           "rgba(0, 0, 0, 0.1)",
           "rgba(0, 0, 0, 0.1)",
           "rgba(0, 0, 0, 0.1)",
           "rgba(0, 0, 0, 0.1)",
           "rgba(0, 0, 0, 0.1)",
           "rgba(0, 0, 0, 0.1)",
           "rgba(0, 0, 0, 0.1)",
           "rgba(0, 0, 0, 0.1)",
           "rgba(0, 107, 105, 0.2)",
           "rgba(0, 107, 105, 0.2)",
           "rgba(0, 107, 105, 0.2)",
           "rgba(0, 107, 105, 0.2)",
           "rgba(0, 0, 0, 0.1)",
           "rgba(0, 0, 0, 0.1)",
           "rgba(0, 0, 0, 0.1)",
           "rgba(0, 0, 0, 0.1)",
           "rgba(0, 0, 0, 0.1)",
           "rgba(0, 0, 0, 0.1)",
           "rgba(0, 0, 0, 0.1)",
           "rgba(0, 0, 0, 0.1)",
           "rgba(0, 0, 0, 0.1)",
           "rgba(0, 0, 0, 0.1)",
           "rgba(0, 0, 0, 0.1)",
           "rgba(0, 0, 0, 0.1)",
           "rgba(0, 0, 0, 0.1)",
           "rgba(0, 0, 0, 0.1)",
           "rgba(0, 0, 0, 0.1)",
           "rgba(0, 0, 0, 0.1)",
           "rgba(0, 0, 0, 0.1)",
           "rgba(0, 0, 0, 0.1)",
           "rgba(0, 0, 0, 0.1)",
           "rgba(0, 0, 0, 0.1)",
           "rgba(0, 107, 105, 0.2)",
           "rgba(0, 107, 105, 0.2)",
           "rgba(0, 107, 105, 0.2)",
           "rgba(0, 107, 105, 0.2)",
           "rgba(0, 0, 0, 0.1)",
           "rgba(0, 0, 0, 0.1)",
           "rgba(0, 0, 0, 0.1)",
           "rgba(0, 0, 0, 0.1)",
           "rgba(0, 0, 0, 0.1)",
           "rgba(0, 0, 0, 0.1)",
           "rgba(0, 0, 0, 0.1)",
           "rgba(0, 0, 0, 0.1)",
           "rgba(0, 0, 0, 0.1)",
           "rgba(0, 0, 0, 0.1)",
           "rgba(0, 0, 0, 0.1)",
           "rgba(0, 0, 0, 0.1)",
           "rgba(0, 0, 0, 0.1)",
           "rgba(0, 0, 0, 0.1)",
           "rgba(0, 0, 0, 0.1)",
           "rgba(0, 0, 0, 0.1)",
           "rgba(0, 107, 105, 0.2)",
           "rgba(0, 107, 105, 0.2)",
           "rgba(0, 107, 105, 0.2)",
           "rgba(0, 107, 105, 0.2)",
           "rgba(0, 0, 0, 0.1)",
           "rgba(0, 0, 0, 0.1)",
           "rgba(0, 0, 0, 0.1)",
           "rgba(0, 0, 0, 0.1)",
           "rgba(0, 0, 0, 0.1)",
           "rgba(0, 0, 0, 0.1)",
           "rgba(0, 0, 0, 0.1)",
           "rgba(0, 0, 0, 0.1)",
           "rgba(0, 0, 0, 0.1)",
           "rgba(0, 0, 0, 0.1)",
           "rgba(0, 0, 0, 0.1)",
           "rgba(0, 0, 0, 0.1)",
           "rgba(0, 0, 0, 0.1)",
           "rgba(0, 0, 0, 0.1)",
           "rgba(0, 0, 0, 0.1)",
           "rgba(0, 0, 0, 0.1)",
           "rgba(0, 107, 105, 0.2)",
           "rgba(0, 107, 105, 0.2)",
           "rgba(0, 107, 105, 0.2)",
           "rgba(0, 107, 105, 0.2)",
           "rgba(0, 0, 0, 0.1)",
           "rgba(0, 0, 0, 0.1)",
           "rgba(0, 0, 0, 0.1)",
           "rgba(0, 0, 0, 0.1)",
           "rgba(0, 0, 0, 0.1)",
           "rgba(0, 0, 0, 0.1)",
           "rgba(0, 0, 0, 0.1)",
           "rgba(0, 0, 0, 0.1)",
           "rgba(0, 0, 0, 0.1)",
           "rgba(0, 0, 0, 0.1)",
           "rgba(0, 0, 0, 0.1)",
           "rgba(0, 0, 0, 0.1)",
           "rgba(0, 0, 0, 0.1)",
           "rgba(0, 0, 0, 0.1)",
           "rgba(0, 0, 0, 0.1)",
           "rgba(0, 0, 0, 0.1)",
           "rgba(0, 0, 0, 0.1)",
           "rgba(0, 0, 0, 0.1)",
           "rgba(0, 0, 0, 0.1)",
           "rgba(0, 0, 0, 0.1)",
           "rgba(0, 107, 105, 0.2)",
           "rgba(0, 107, 105, 0.2)",
           "rgba(0, 107, 105, 0.2)",
           "rgba(0, 107, 105, 0.2)",
           "rgba(0, 0, 0, 0.1)",
           "rgba(0, 0, 0, 0.1)",
           "rgba(0, 0, 0, 0.1)",
           "rgba(0, 0, 0, 0.1)",
           "rgba(0, 0, 0, 0.1)",
           "rgba(0, 0, 0, 0.1)",
           "rgba(0, 0, 0, 0.1)",
           "rgba(0, 0, 0, 0.1)",
           "rgba(0, 0, 0, 0.1)",
           "rgba(0, 0, 0, 0.1)",
           "rgba(0, 0, 0, 0.1)",
           "rgba(0, 0, 0, 0.1)",
           "rgba(0, 107, 105, 0.2)",
           "rgba(0, 107, 105, 0.2)",
           "rgba(0, 107, 105, 0.2)",
           "rgba(0, 107, 105, 0.2)",
           "rgba(0, 0, 0, 0.1)",
           "rgba(0, 0, 0, 0.1)",
           "rgba(0, 0, 0, 0.1)",
           "rgba(0, 0, 0, 0.1)",
           "rgba(0, 0, 0, 0.1)",
           "rgba(0, 0, 0, 0.1)",
           "rgba(0, 0, 0, 0.1)",
           "rgba(0, 0, 0, 0.1)",
           "rgba(0, 0, 0, 0.1)",
           "rgba(0, 0, 0, 0.1)",
           "rgba(0, 0, 0, 0.1)",
           "rgba(0, 0, 0, 0.1)",
           "rgba(0, 0, 0, 0.1)",
           "rgba(0, 0, 0, 0.1)",
           "rgba(0, 0, 0, 0.1)",
           "rgba(0, 0, 0, 0.1)",
           "rgba(0, 107, 105, 0.2)",
           "rgba(0, 107, 105, 0.2)",
           "rgba(0, 107, 105, 0.2)",
           "rgba(0, 107, 105, 0.2)",
           "rgba(0, 0, 0, 0.1)",
           "rgba(0, 0, 0, 0.1)",
           "rgba(0, 0, 0, 0.1)",
           "rgba(0, 0, 0, 0.1)",
           "rgba(0, 0, 0, 0.1)",
           "rgba(0, 0, 0, 0.1)",
           "rgba(0, 0, 0, 0.1)",
           "rgba(0, 0, 0, 0.1)",
           "rgba(0, 0, 0, 0.1)",
           "rgba(0, 0, 0, 0.1)",
           "rgba(0, 0, 0, 0.1)",
           "rgba(0, 0, 0, 0.1)",
           "rgba(0, 0, 0, 0.1)",
           "rgba(0, 0, 0, 0.1)",
           "rgba(0, 0, 0, 0.1)",
           "rgba(0, 0, 0, 0.1)",
           "rgba(0, 107, 105, 0.2)",
           "rgba(0, 107, 105, 0.2)",
           "rgba(0, 107, 105, 0.2)",
           "rgba(0, 107, 105, 0.2)",
           "rgba(0, 0, 0, 0.1)",
           "rgba(0, 0, 0, 0.1)",
           "rgba(0, 0, 0, 0.1)",
           "rgba(0, 0, 0, 0.1)",
           "rgba(0, 0, 0, 0.1)",
           "rgba(0, 0, 0, 0.1)",
           "rgba(0, 0, 0, 0.1)",
           "rgba(0, 0, 0, 0.1)",
           "rgba(0, 0, 0, 0.1)",
           "rgba(0, 0, 0, 0.1)",
           "rgba(0, 0, 0, 0.1)",
           "rgba(0, 0, 0, 0.1)",
           "rgba(0, 0, 0, 0.1)",
           "rgba(0, 0, 0, 0.1)",
           "rgba(0, 0, 0, 0.1)",
           "rgba(0, 0, 0, 0.1)",
           "rgba(0, 0, 0, 0.1)",
           "rgba(0, 0, 0, 0.1)",
           "rgba(0, 0, 0, 0.1)",
           "rgba(0, 0, 0, 0.1)",
           "rgba(0, 107, 105, 0.2)",
           "rgba(0, 107, 105, 0.2)",
           "rgba(0, 107, 105, 0.2)",
           "rgba(0, 107, 105, 0.2)",
           "rgba(0, 0, 0, 0.1)",
           "rgba(0, 0, 0, 0.1)",
           "rgba(0, 0, 0, 0.1)",
           "rgba(0, 0, 0, 0.1)",
           "rgba(0, 0, 0, 0.1)",
           "rgba(0, 0, 0, 0.1)",
           "rgba(0, 0, 0, 0.1)",
           "rgba(0, 0, 0, 0.1)",
           "rgba(0, 0, 0, 0.1)",
           "rgba(0, 0, 0, 0.1)",
           "rgba(0, 0, 0, 0.1)",
           "rgba(0, 0, 0, 0.1)",
           "rgba(0, 107, 105, 0.2)",
           "rgba(0, 107, 105, 0.2)",
           "rgba(0, 107, 105, 0.2)",
           "rgba(0, 107, 105, 0.2)",
           "rgba(0, 0, 0, 0.1)",
           "rgba(0, 0, 0, 0.1)",
           "rgba(0, 0, 0, 0.1)",
           "rgba(0, 0, 0, 0.1)",
           "rgba(0, 0, 0, 0.1)",
           "rgba(0, 0, 0, 0.1)",
           "rgba(0, 0, 0, 0.1)",
           "rgba(0, 0, 0, 0.1)",
           "rgba(0, 0, 0, 0.1)",
           "rgba(0, 0, 0, 0.1)",
           "rgba(0, 0, 0, 0.1)",
           "rgba(0, 0, 0, 0.1)",
           "rgba(0, 0, 0, 0.1)",
           "rgba(0, 0, 0, 0.1)",
           "rgba(0, 0, 0, 0.1)",
           "rgba(0, 0, 0, 0.1)",
           "rgba(0, 107, 105, 0.2)",
           "rgba(0, 107, 105, 0.2)",
           "rgba(0, 107, 105, 0.2)",
           "rgba(0, 107, 105, 0.2)",
           "rgba(0, 0, 0, 0.1)",
           "rgba(0, 0, 0, 0.1)",
           "rgba(0, 0, 0, 0.1)",
           "rgba(0, 0, 0, 0.1)",
           "rgba(0, 0, 0, 0.1)",
           "rgba(0, 0, 0, 0.1)",
           "rgba(0, 0, 0, 0.1)",
           "rgba(0, 0, 0, 0.1)",
           "rgba(0, 0, 0, 0.1)",
           "rgba(0, 0, 0, 0.1)",
           "rgba(0, 0, 0, 0.1)",
           "rgba(0, 0, 0, 0.1)",
           "rgba(0, 0, 0, 0.1)",
           "rgba(0, 0, 0, 0.1)",
           "rgba(0, 0, 0, 0.1)",
           "rgba(0, 0, 0, 0.1)",
           "rgba(0, 107, 105, 0.2)",
           "rgba(0, 107, 105, 0.2)",
           "rgba(0, 107, 105, 0.2)",
           "rgba(0, 107, 105, 0.2)",
           "rgba(0, 0, 0, 0.1)",
           "rgba(0, 0, 0, 0.1)",
           "rgba(0, 0, 0, 0.1)",
           "rgba(0, 0, 0, 0.1)",
           "rgba(0, 0, 0, 0.1)",
           "rgba(0, 0, 0, 0.1)",
           "rgba(0, 0, 0, 0.1)",
           "rgba(0, 0, 0, 0.1)",
           "rgba(0, 0, 0, 0.1)",
           "rgba(0, 0, 0, 0.1)",
           "rgba(0, 0, 0, 0.1)",
           "rgba(0, 0, 0, 0.1)",
           "rgba(0, 0, 0, 0.1)",
           "rgba(0, 0, 0, 0.1)",
           "rgba(0, 0, 0, 0.1)",
           "rgba(0, 0, 0, 0.1)",
           "rgba(0, 0, 0, 0.1)",
           "rgba(0, 0, 0, 0.1)",
           "rgba(0, 0, 0, 0.1)",
           "rgba(0, 0, 0, 0.1)"
          ],
          "source": [
           0,
           1,
           2,
           3,
           5,
           6,
           7,
           8,
           10,
           11,
           12,
           13,
           10,
           11,
           12,
           13,
           10,
           11,
           12,
           13,
           10,
           11,
           12,
           13,
           15,
           16,
           17,
           18,
           15,
           16,
           17,
           18,
           15,
           16,
           17,
           18,
           15,
           16,
           17,
           18,
           20,
           11,
           12,
           13,
           20,
           11,
           12,
           13,
           20,
           11,
           12,
           13,
           20,
           11,
           12,
           13,
           20,
           16,
           17,
           18,
           20,
           16,
           17,
           18,
           20,
           16,
           17,
           18,
           20,
           16,
           17,
           18,
           20,
           21,
           22,
           23,
           20,
           21,
           22,
           23,
           20,
           21,
           22,
           23,
           20,
           21,
           22,
           23,
           20,
           21,
           22,
           23,
           20,
           36,
           37,
           38,
           20,
           36,
           37,
           38,
           20,
           36,
           37,
           38,
           20,
           36,
           37,
           38,
           20,
           41,
           2,
           3,
           20,
           41,
           7,
           8,
           20,
           41,
           12,
           13,
           20,
           41,
           12,
           13,
           20,
           41,
           12,
           13,
           20,
           41,
           12,
           13,
           20,
           41,
           17,
           18,
           20,
           41,
           17,
           18,
           20,
           41,
           17,
           18,
           20,
           41,
           17,
           18,
           20,
           41,
           22,
           23,
           20,
           41,
           22,
           23,
           20,
           41,
           22,
           23,
           20,
           41,
           22,
           23,
           20,
           41,
           22,
           23,
           20,
           41,
           32,
           33,
           20,
           41,
           42,
           3,
           20,
           41,
           42,
           13,
           20,
           41,
           42,
           13,
           20,
           41,
           42,
           13,
           20,
           41,
           42,
           13,
           20,
           41,
           42,
           18,
           20,
           41,
           42,
           18,
           20,
           41,
           42,
           18,
           20,
           41,
           42,
           18,
           20,
           41,
           42,
           23,
           20,
           41,
           42,
           23,
           20,
           41,
           42,
           23,
           20,
           41,
           42,
           23,
           20,
           41,
           42,
           23,
           20,
           41,
           42,
           33,
           20,
           41,
           42,
           43,
           20,
           41,
           42,
           43,
           20,
           41,
           42,
           43,
           20,
           41,
           42,
           43,
           20,
           41,
           42,
           43,
           20,
           41,
           42,
           48,
           20,
           41,
           42,
           53,
           20,
           41,
           42,
           53,
           20,
           41,
           42,
           53,
           20,
           41,
           42,
           53,
           20,
           41,
           42,
           53,
           20,
           41,
           42,
           58,
           20,
           41,
           42,
           58,
           20,
           41,
           42,
           58,
           20,
           41,
           42,
           58,
           20,
           41,
           42,
           58,
           20,
           41,
           42,
           63,
           20,
           41,
           42,
           63,
           20,
           41,
           42,
           63,
           20,
           41,
           42,
           63,
           20,
           41,
           47,
           8,
           20,
           41,
           47,
           48,
           20,
           41,
           47,
           63,
           20,
           41,
           47,
           63,
           20,
           41,
           47,
           63,
           20,
           41,
           47,
           63,
           20,
           41,
           52,
           53,
           20,
           41,
           52,
           53,
           20,
           41,
           52,
           53,
           20,
           41,
           52,
           53,
           20,
           41,
           52,
           53,
           20,
           41,
           57,
           58,
           20,
           41,
           57,
           58,
           20,
           41,
           57,
           58,
           20,
           41,
           57,
           58,
           20,
           41,
           57,
           58,
           20,
           41,
           62,
           63,
           20,
           41,
           62,
           63,
           20,
           41,
           62,
           63,
           20,
           41,
           62,
           63,
           20,
           46,
           47,
           8,
           20,
           46,
           47,
           48,
           20,
           46,
           47,
           63,
           20,
           46,
           47,
           63,
           20,
           46,
           47,
           63,
           20,
           46,
           47,
           63,
           20,
           51,
           52,
           53,
           20,
           51,
           52,
           53,
           20,
           51,
           52,
           53,
           20,
           51,
           52,
           53,
           20,
           51,
           52,
           53,
           20,
           56,
           57,
           58,
           20,
           56,
           57,
           58,
           20,
           56,
           57,
           58,
           20,
           56,
           57,
           58,
           20,
           56,
           57,
           58,
           20,
           61,
           62,
           63,
           20,
           61,
           62,
           63,
           20,
           61,
           62,
           63,
           20,
           61,
           62,
           63,
           25,
           26,
           27,
           28,
           30,
           31,
           32,
           33,
           35,
           36,
           37,
           38,
           35,
           36,
           37,
           38,
           35,
           36,
           37,
           38,
           35,
           36,
           37,
           38,
           35,
           36,
           37,
           38,
           40,
           41,
           2,
           3,
           40,
           41,
           7,
           8,
           40,
           41,
           12,
           13,
           40,
           41,
           12,
           13,
           40,
           41,
           12,
           13,
           40,
           41,
           12,
           13,
           40,
           41,
           17,
           18,
           40,
           41,
           17,
           18,
           40,
           41,
           17,
           18,
           40,
           41,
           17,
           18,
           40,
           41,
           22,
           23,
           40,
           41,
           22,
           23,
           40,
           41,
           22,
           23,
           40,
           41,
           22,
           23,
           40,
           41,
           22,
           23,
           40,
           41,
           32,
           33,
           40,
           41,
           42,
           3,
           40,
           41,
           42,
           13,
           40,
           41,
           42,
           13,
           40,
           41,
           42,
           13,
           40,
           41,
           42,
           13,
           40,
           41,
           42,
           18,
           40,
           41,
           42,
           18,
           40,
           41,
           42,
           18,
           40,
           41,
           42,
           18,
           40,
           41,
           42,
           23,
           40,
           41,
           42,
           23,
           40,
           41,
           42,
           23,
           40,
           41,
           42,
           23,
           40,
           41,
           42,
           23,
           40,
           41,
           42,
           33,
           40,
           41,
           42,
           43,
           40,
           41,
           42,
           43,
           40,
           41,
           42,
           43,
           40,
           41,
           42,
           43,
           40,
           41,
           42,
           43,
           40,
           41,
           42,
           48,
           40,
           41,
           42,
           53,
           40,
           41,
           42,
           53,
           40,
           41,
           42,
           53,
           40,
           41,
           42,
           53,
           40,
           41,
           42,
           53,
           40,
           41,
           42,
           58,
           40,
           41,
           42,
           58,
           40,
           41,
           42,
           58,
           40,
           41,
           42,
           58,
           40,
           41,
           42,
           58,
           40,
           41,
           42,
           63,
           40,
           41,
           42,
           63,
           40,
           41,
           42,
           63,
           40,
           41,
           42,
           63,
           40,
           41,
           47,
           8,
           40,
           41,
           47,
           48,
           40,
           41,
           47,
           63,
           40,
           41,
           47,
           63,
           40,
           41,
           47,
           63,
           40,
           41,
           47,
           63,
           40,
           41,
           52,
           53,
           40,
           41,
           52,
           53,
           40,
           41,
           52,
           53,
           40,
           41,
           52,
           53,
           40,
           41,
           52,
           53,
           40,
           41,
           57,
           58,
           40,
           41,
           57,
           58,
           40,
           41,
           57,
           58,
           40,
           41,
           57,
           58,
           40,
           41,
           57,
           58,
           40,
           41,
           62,
           63,
           40,
           41,
           62,
           63,
           40,
           41,
           62,
           63,
           40,
           41,
           62,
           63,
           45,
           46,
           47,
           8,
           45,
           46,
           47,
           48,
           45,
           46,
           47,
           63,
           45,
           46,
           47,
           63,
           45,
           46,
           47,
           63,
           45,
           46,
           47,
           63,
           50,
           51,
           52,
           53,
           50,
           51,
           52,
           53,
           50,
           51,
           52,
           53,
           50,
           51,
           52,
           53,
           50,
           51,
           52,
           53,
           55,
           56,
           57,
           58,
           55,
           56,
           57,
           58,
           55,
           56,
           57,
           58,
           55,
           56,
           57,
           58,
           55,
           56,
           57,
           58,
           60,
           61,
           62,
           63,
           60,
           61,
           62,
           63,
           60,
           61,
           62,
           63,
           60,
           61,
           62,
           63,
           60,
           61,
           62,
           63,
           65,
           66,
           67,
           68
          ],
          "target": [
           1,
           2,
           3,
           4,
           6,
           7,
           8,
           9,
           11,
           12,
           13,
           14,
           11,
           12,
           13,
           19,
           11,
           12,
           13,
           34,
           11,
           12,
           13,
           49,
           16,
           17,
           18,
           14,
           16,
           17,
           18,
           19,
           16,
           17,
           18,
           34,
           16,
           17,
           18,
           49,
           11,
           12,
           13,
           14,
           11,
           12,
           13,
           19,
           11,
           12,
           13,
           34,
           11,
           12,
           13,
           49,
           16,
           17,
           18,
           14,
           16,
           17,
           18,
           19,
           16,
           17,
           18,
           34,
           16,
           17,
           18,
           49,
           21,
           22,
           23,
           14,
           21,
           22,
           23,
           19,
           21,
           22,
           23,
           24,
           21,
           22,
           23,
           34,
           21,
           22,
           23,
           49,
           36,
           37,
           38,
           14,
           36,
           37,
           38,
           19,
           36,
           37,
           38,
           34,
           36,
           37,
           38,
           49,
           41,
           2,
           3,
           4,
           41,
           7,
           8,
           9,
           41,
           12,
           13,
           14,
           41,
           12,
           13,
           19,
           41,
           12,
           13,
           34,
           41,
           12,
           13,
           49,
           41,
           17,
           18,
           14,
           41,
           17,
           18,
           19,
           41,
           17,
           18,
           34,
           41,
           17,
           18,
           49,
           41,
           22,
           23,
           14,
           41,
           22,
           23,
           19,
           41,
           22,
           23,
           24,
           41,
           22,
           23,
           34,
           41,
           22,
           23,
           49,
           41,
           32,
           33,
           34,
           41,
           42,
           3,
           4,
           41,
           42,
           13,
           14,
           41,
           42,
           13,
           19,
           41,
           42,
           13,
           34,
           41,
           42,
           13,
           49,
           41,
           42,
           18,
           14,
           41,
           42,
           18,
           19,
           41,
           42,
           18,
           34,
           41,
           42,
           18,
           49,
           41,
           42,
           23,
           14,
           41,
           42,
           23,
           19,
           41,
           42,
           23,
           24,
           41,
           42,
           23,
           34,
           41,
           42,
           23,
           49,
           41,
           42,
           33,
           34,
           41,
           42,
           43,
           14,
           41,
           42,
           43,
           19,
           41,
           42,
           43,
           34,
           41,
           42,
           43,
           44,
           41,
           42,
           43,
           49,
           41,
           42,
           48,
           49,
           41,
           42,
           53,
           14,
           41,
           42,
           53,
           19,
           41,
           42,
           53,
           34,
           41,
           42,
           53,
           49,
           41,
           42,
           53,
           54,
           41,
           42,
           58,
           14,
           41,
           42,
           58,
           19,
           41,
           42,
           58,
           34,
           41,
           42,
           58,
           49,
           41,
           42,
           58,
           59,
           41,
           42,
           63,
           14,
           41,
           42,
           63,
           19,
           41,
           42,
           63,
           34,
           41,
           42,
           63,
           49,
           41,
           47,
           8,
           9,
           41,
           47,
           48,
           49,
           41,
           47,
           63,
           14,
           41,
           47,
           63,
           19,
           41,
           47,
           63,
           34,
           41,
           47,
           63,
           49,
           41,
           52,
           53,
           14,
           41,
           52,
           53,
           19,
           41,
           52,
           53,
           34,
           41,
           52,
           53,
           49,
           41,
           52,
           53,
           54,
           41,
           57,
           58,
           14,
           41,
           57,
           58,
           19,
           41,
           57,
           58,
           34,
           41,
           57,
           58,
           49,
           41,
           57,
           58,
           59,
           41,
           62,
           63,
           14,
           41,
           62,
           63,
           19,
           41,
           62,
           63,
           34,
           41,
           62,
           63,
           49,
           46,
           47,
           8,
           9,
           46,
           47,
           48,
           49,
           46,
           47,
           63,
           14,
           46,
           47,
           63,
           19,
           46,
           47,
           63,
           34,
           46,
           47,
           63,
           49,
           51,
           52,
           53,
           14,
           51,
           52,
           53,
           19,
           51,
           52,
           53,
           34,
           51,
           52,
           53,
           49,
           51,
           52,
           53,
           54,
           56,
           57,
           58,
           14,
           56,
           57,
           58,
           19,
           56,
           57,
           58,
           34,
           56,
           57,
           58,
           49,
           56,
           57,
           58,
           59,
           61,
           62,
           63,
           14,
           61,
           62,
           63,
           19,
           61,
           62,
           63,
           34,
           61,
           62,
           63,
           49,
           26,
           27,
           28,
           29,
           31,
           32,
           33,
           34,
           36,
           37,
           38,
           14,
           36,
           37,
           38,
           19,
           36,
           37,
           38,
           34,
           36,
           37,
           38,
           39,
           36,
           37,
           38,
           49,
           41,
           2,
           3,
           4,
           41,
           7,
           8,
           9,
           41,
           12,
           13,
           14,
           41,
           12,
           13,
           19,
           41,
           12,
           13,
           34,
           41,
           12,
           13,
           49,
           41,
           17,
           18,
           14,
           41,
           17,
           18,
           19,
           41,
           17,
           18,
           34,
           41,
           17,
           18,
           49,
           41,
           22,
           23,
           14,
           41,
           22,
           23,
           19,
           41,
           22,
           23,
           24,
           41,
           22,
           23,
           34,
           41,
           22,
           23,
           49,
           41,
           32,
           33,
           34,
           41,
           42,
           3,
           4,
           41,
           42,
           13,
           14,
           41,
           42,
           13,
           19,
           41,
           42,
           13,
           34,
           41,
           42,
           13,
           49,
           41,
           42,
           18,
           14,
           41,
           42,
           18,
           19,
           41,
           42,
           18,
           34,
           41,
           42,
           18,
           49,
           41,
           42,
           23,
           14,
           41,
           42,
           23,
           19,
           41,
           42,
           23,
           24,
           41,
           42,
           23,
           34,
           41,
           42,
           23,
           49,
           41,
           42,
           33,
           34,
           41,
           42,
           43,
           14,
           41,
           42,
           43,
           19,
           41,
           42,
           43,
           34,
           41,
           42,
           43,
           44,
           41,
           42,
           43,
           49,
           41,
           42,
           48,
           49,
           41,
           42,
           53,
           14,
           41,
           42,
           53,
           19,
           41,
           42,
           53,
           34,
           41,
           42,
           53,
           49,
           41,
           42,
           53,
           54,
           41,
           42,
           58,
           14,
           41,
           42,
           58,
           19,
           41,
           42,
           58,
           34,
           41,
           42,
           58,
           49,
           41,
           42,
           58,
           59,
           41,
           42,
           63,
           14,
           41,
           42,
           63,
           19,
           41,
           42,
           63,
           34,
           41,
           42,
           63,
           49,
           41,
           47,
           8,
           9,
           41,
           47,
           48,
           49,
           41,
           47,
           63,
           14,
           41,
           47,
           63,
           19,
           41,
           47,
           63,
           34,
           41,
           47,
           63,
           49,
           41,
           52,
           53,
           14,
           41,
           52,
           53,
           19,
           41,
           52,
           53,
           34,
           41,
           52,
           53,
           49,
           41,
           52,
           53,
           54,
           41,
           57,
           58,
           14,
           41,
           57,
           58,
           19,
           41,
           57,
           58,
           34,
           41,
           57,
           58,
           49,
           41,
           57,
           58,
           59,
           41,
           62,
           63,
           14,
           41,
           62,
           63,
           19,
           41,
           62,
           63,
           34,
           41,
           62,
           63,
           49,
           46,
           47,
           8,
           9,
           46,
           47,
           48,
           49,
           46,
           47,
           63,
           14,
           46,
           47,
           63,
           19,
           46,
           47,
           63,
           34,
           46,
           47,
           63,
           49,
           51,
           52,
           53,
           14,
           51,
           52,
           53,
           19,
           51,
           52,
           53,
           34,
           51,
           52,
           53,
           49,
           51,
           52,
           53,
           54,
           56,
           57,
           58,
           14,
           56,
           57,
           58,
           19,
           56,
           57,
           58,
           34,
           56,
           57,
           58,
           49,
           56,
           57,
           58,
           59,
           61,
           62,
           63,
           14,
           61,
           62,
           63,
           19,
           61,
           62,
           63,
           34,
           61,
           62,
           63,
           49,
           61,
           62,
           63,
           64,
           66,
           67,
           68,
           69
          ],
          "value": [
           6309019796,
           6309019796,
           6309019796,
           6309019796,
           2520500752,
           2520500752,
           2520500752,
           2520500752,
           21186651925,
           21186651925,
           21186651925,
           21186651925,
           1267717413,
           1267717413,
           1267717413,
           1267717413,
           0,
           0,
           0,
           0,
           1893979,
           1893979,
           1893979,
           1893979,
           453244627,
           453244627,
           453244627,
           453244627,
           40126635669,
           40126635669,
           40126635669,
           40126635669,
           0,
           0,
           0,
           0,
           4157,
           4157,
           4157,
           4157,
           43432603,
           43432603,
           43432603,
           43432603,
           7441480,
           7441480,
           7441480,
           7441480,
           0,
           0,
           0,
           0,
           11023,
           11023,
           11023,
           11023,
           4615,
           4615,
           4615,
           4615,
           1153158270,
           1153158270,
           1153158270,
           1153158270,
           0,
           0,
           0,
           0,
           353,
           353,
           353,
           353,
           373680801,
           373680801,
           373680801,
           373680801,
           979977919,
           979977919,
           979977919,
           979977919,
           19311260996,
           19311260996,
           19311260996,
           19311260996,
           5279759,
           5279759,
           5279759,
           5279759,
           224534152,
           224534152,
           224534152,
           224534152,
           30205,
           30205,
           30205,
           30205,
           357279,
           357279,
           357279,
           357279,
           734,
           734,
           734,
           734,
           3053,
           3053,
           3053,
           3053,
           4226707,
           4226707,
           4226707,
           4226707,
           40214601,
           40214601,
           40214601,
           40214601,
           29179192,
           29179192,
           29179192,
           29179192,
           929303,
           929303,
           929303,
           929303,
           0,
           0,
           0,
           0,
           1304,
           1304,
           1304,
           1304,
           2348,
           2348,
           2348,
           2348,
           118657953,
           118657953,
           118657953,
           118657953,
           0,
           0,
           0,
           0,
           170,
           170,
           170,
           170,
           2451671,
           2451671,
           2451671,
           2451671,
           6429647,
           6429647,
           6429647,
           6429647,
           17179486,
           17179486,
           17179486,
           17179486,
           34600,
           34600,
           34600,
           34600,
           1473121,
           1473121,
           1473121,
           1473121,
           371102,
           371102,
           371102,
           371102,
           7759240,
           7759240,
           7759240,
           7759240,
           575835,
           575835,
           575835,
           575835,
           51452,
           51452,
           51452,
           51452,
           0,
           0,
           0,
           0,
           39,
           39,
           39,
           39,
           143,
           143,
           143,
           143,
           1549900,
           1549900,
           1549900,
           1549900,
           0,
           0,
           0,
           0,
           5,
           5,
           5,
           5,
           33347,
           33347,
           33347,
           33347,
           88016,
           88016,
           88016,
           88016,
           2078146,
           2078146,
           2078146,
           2078146,
           416,
           416,
           416,
           416,
           20026,
           20026,
           20026,
           20026,
           92486,
           92486,
           92486,
           92486,
           3872179,
           3872179,
           3872179,
           3872179,
           43548180,
           43548180,
           43548180,
           43548180,
           130178,
           130178,
           130178,
           130178,
           304642782,
           304642782,
           304642782,
           304642782,
           570636,
           570636,
           570636,
           570636,
           448747,
           448747,
           448747,
           448747,
           8786,
           8786,
           8786,
           8786,
           203545,
           203545,
           203545,
           203545,
           0,
           0,
           0,
           0,
           8000,
           8000,
           8000,
           8000,
           800643,
           800643,
           800643,
           800643,
           222566,
           222566,
           222566,
           222566,
           685733,
           685733,
           685733,
           685733,
           1766,
           1766,
           1766,
           1766,
           47,
           47,
           47,
           47,
           981062,
           981062,
           981062,
           981062,
           43724,
           43724,
           43724,
           43724,
           282663,
           282663,
           282663,
           282663,
           179,
           179,
           179,
           179,
           17734,
           17734,
           17734,
           17734,
           10407,
           10407,
           10407,
           10407,
           6861822,
           6861822,
           6861822,
           6861822,
           7085,
           7085,
           7085,
           7085,
           23928,
           23928,
           23928,
           23928,
           0,
           0,
           0,
           0,
           4043,
           4043,
           4043,
           4043,
           503733,
           503733,
           503733,
           503733,
           11411472,
           11411472,
           11411472,
           11411472,
           0,
           0,
           0,
           0,
           459604,
           459604,
           459604,
           459604,
           8078380,
           8078380,
           8078380,
           8078380,
           2133040,
           2133040,
           2133040,
           2133040,
           9548404,
           9548404,
           9548404,
           9548404,
           120975,
           120975,
           120975,
           120975,
           5413,
           5413,
           5413,
           5413,
           36668317,
           36668317,
           36668317,
           36668317,
           2833571,
           2833571,
           2833571,
           2833571,
           23310643,
           23310643,
           23310643,
           23310643,
           53721,
           53721,
           53721,
           53721,
           789897,
           789897,
           789897,
           789897,
           49667,
           49667,
           49667,
           49667,
           13327556,
           13327556,
           13327556,
           13327556,
           34296,
           34296,
           34296,
           34296,
           114467,
           114467,
           114467,
           114467,
           0,
           0,
           0,
           0,
           19619,
           19619,
           19619,
           19619,
           457383,
           457383,
           457383,
           457383,
           10361778,
           10361778,
           10361778,
           10361778,
           0,
           0,
           0,
           0,
           417304,
           417304,
           417304,
           417304,
           15286553,
           15286553,
           15286553,
           15286553,
           2770595,
           2770595,
           2770595,
           2770595,
           14302442,
           14302442,
           14302442,
           14302442,
           229326,
           229326,
           229326,
           229326,
           10354,
           10354,
           10354,
           10354,
           74853114,
           74853114,
           74853114,
           74853114,
           12491410,
           12491410,
           12491410,
           12491410,
           63776558,
           63776558,
           63776558,
           63776558,
           167170,
           167170,
           167170,
           167170,
           4996325,
           4996325,
           4996325,
           4996325,
           3365899726,
           3365899726,
           3365899726,
           3365899726,
           1384443625,
           1384443625,
           1384443625,
           1384443625,
           235649520,
           235649520,
           235649520,
           235649520,
           2778023392,
           2778023392,
           2778023392,
           2778023392,
           6136304,
           6136304,
           6136304,
           6136304,
           2819520639,
           2819520639,
           2819520639,
           2819520639,
           24545352,
           24545352,
           24545352,
           24545352,
           342256986,
           342256986,
           342256986,
           342256986,
           3256283381,
           3256283381,
           3256283381,
           3256283381,
           2362721768,
           2362721768,
           2362721768,
           2362721768,
           75264268,
           75264268,
           75264268,
           75264268,
           0,
           0,
           0,
           0,
           112364,
           112364,
           112364,
           112364,
           197516,
           197516,
           197516,
           197516,
           9608015773,
           9608015773,
           9608015773,
           9608015773,
           0,
           0,
           0,
           0,
           17387,
           17387,
           17387,
           17387,
           198523532,
           198523532,
           198523532,
           198523532,
           520627762,
           520627762,
           520627762,
           520627762,
           1391066098,
           1391066098,
           1391066098,
           1391066098,
           2804952,
           2804952,
           2804952,
           2804952,
           119287104,
           119287104,
           119287104,
           119287104,
           30051847,
           30051847,
           30051847,
           30051847,
           6906294188,
           6906294188,
           6906294188,
           6906294188,
           512885289,
           512885289,
           512885289,
           512885289,
           45938780,
           45938780,
           45938780,
           45938780,
           0,
           0,
           0,
           0,
           68476,
           68476,
           68476,
           68476,
           181767,
           181767,
           181767,
           181767,
           1380175069,
           1380175069,
           1380175069,
           1380175069,
           0,
           0,
           0,
           0,
           15939,
           15939,
           15939,
           15939,
           29956315,
           29956315,
           29956315,
           29956315,
           78560801,
           78560801,
           78560801,
           78560801,
           1849807285,
           1849807285,
           1849807285,
           1849807285,
           423166,
           423166,
           423166,
           423166,
           17999940,
           17999940,
           17999940,
           17999940,
           82396742,
           82396742,
           82396742,
           82396742,
           1848200798,
           1848200798,
           1848200798,
           1848200798,
           18090055054,
           18090055054,
           18090055054,
           18090055054,
           49480267,
           49480267,
           49480267,
           49480267,
           25036037869,
           25036037869,
           25036037869,
           25036037869,
           289507619,
           289507619,
           289507619,
           289507619,
           399624151,
           399624151,
           399624151,
           399624151,
           8009887,
           8009887,
           8009887,
           8009887,
           181420506,
           181420506,
           181420506,
           181420506,
           0,
           0,
           0,
           0,
           7307827,
           7307827,
           7307827,
           7307827,
           712731977,
           712731977,
           712731977,
           712731977,
           198781287,
           198781287,
           198781287,
           198781287,
           611031520,
           611031520,
           611031520,
           611031520,
           1651217,
           1651217,
           1651217,
           1651217,
           75117,
           75117,
           75117,
           75117,
           873405599,
           873405599,
           873405599,
           873405599,
           39647758,
           39647758,
           39647758,
           39647758,
           252468253,
           252468253,
           252468253,
           252468253,
           192723,
           192723,
           192723,
           192723,
           16201545,
           16201545,
           16201545,
           16201545,
           845437,
           845437,
           845437,
           845437,
           555625083,
           555625083,
           555625083,
           555625083,
           585727,
           585727,
           585727,
           585727,
           1950564,
           1950564,
           1950564,
           1950564,
           0,
           0,
           0,
           0,
           335183,
           335183,
           335183,
           335183,
           40797649,
           40797649,
           40797649,
           40797649,
           924030426,
           924030426,
           924030426,
           924030426,
           0,
           0,
           0,
           0,
           37221450,
           37221450,
           37221450,
           37221450,
           654128305,
           654128305,
           654128305,
           654128305,
           172746436,
           172746436,
           172746436,
           172746436,
           773188008,
           773188008,
           773188008,
           773188008,
           9799294,
           9799294,
           9799294,
           9799294,
           446567,
           446567,
           446567,
           446567,
           2969121505,
           2969121505,
           2969121505,
           2969121505,
           229468994,
           229468994,
           229468994,
           229468994,
           1887564637,
           1887564637,
           1887564637,
           1887564637,
           4354500,
           4354500,
           4354500,
           4354500,
           63983509,
           63983509,
           63983509,
           63983509,
           455545,
           455545,
           455545,
           455545,
           4022714695,
           4022714695,
           4022714695,
           4022714695,
           315585,
           315585,
           315585,
           315585,
           1050992,
           1050992,
           1050992,
           1050992,
           0,
           0,
           0,
           0,
           180605,
           180605,
           180605,
           180605,
           84852492,
           84852492,
           84852492,
           84852492,
           1921831194,
           1921831194,
           1921831194,
           1921831194,
           0,
           0,
           0,
           0,
           77414520,
           77414520,
           77414520,
           77414520,
           8107717742,
           8107717742,
           8107717742,
           8107717742,
           1753376785,
           1753376785,
           1753376785,
           1753376785,
           5413922825,
           5413922825,
           5413922825,
           5413922825,
           16468203,
           16468203,
           16468203,
           16468203,
           750546,
           750546,
           750546,
           750546,
           8233192225,
           8233192225,
           8233192225,
           8233192225,
           959107241,
           959107241,
           959107241,
           959107241,
           4802339680,
           4802339680,
           4802339680,
           4802339680,
           28999072,
           28999072,
           28999072,
           28999072,
           270112045,
           270112045,
           270112045,
           270112045,
           0,
           0,
           0,
           0,
           10215438325,
           10215438325,
           10215438325,
           10215438325
          ]
         },
         "node": {
          "color": [
           "#FF6961",
           "#FF6961",
           "#FF6961",
           "#FF6961",
           "#FF6961",
           "#CFCFC4",
           "#CFCFC4",
           "#CFCFC4",
           "#CFCFC4",
           "#CFCFC4",
           "#77DD77",
           "#77DD77",
           "#77DD77",
           "#77DD77",
           "#77DD77",
           "#89CFF0",
           "#89CFF0",
           "#89CFF0",
           "#89CFF0",
           "#89CFF0",
           "#CB99C9",
           "#CB99C9",
           "#CB99C9",
           "#CB99C9",
           "#CB99C9",
           "#D1E8E2",
           "#D1E8E2",
           "#D1E8E2",
           "#D1E8E2",
           "#D1E8E2",
           "#FFD1DC",
           "#FFD1DC",
           "#FFD1DC",
           "#FFD1DC",
           "#FFD1DC",
           "#B0E0E6",
           "#B0E0E6",
           "#B0E0E6",
           "#B0E0E6",
           "#B0E0E6",
           "#CBF3D2",
           "#CBF3D2",
           "#CBF3D2",
           "#CBF3D2",
           "#CBF3D2",
           "#B39EB5",
           "#B39EB5",
           "#B39EB5",
           "#B39EB5",
           "#B39EB5",
           "#FDFD96",
           "#FDFD96",
           "#FDFD96",
           "#FDFD96",
           "#FDFD96",
           "#FFB347",
           "#FFB347",
           "#FFB347",
           "#FFB347",
           "#FFB347",
           "#ECC8EC",
           "#ECC8EC",
           "#ECC8EC",
           "#ECC8EC",
           "#ECC8EC",
           "#FAD5A5",
           "#FAD5A5",
           "#FAD5A5",
           "#FAD5A5",
           "#FAD5A5"
          ],
          "label": [
           "BAN LANH DAO_Lv0",
           "BAN LANH DAO_Lv1",
           "BAN LANH DAO_Lv2",
           "BAN LANH DAO_Lv3",
           "BAN LANH DAO_Lv4",
           "BO PHAN CHUNG_Lv0",
           "BO PHAN CHUNG_Lv1",
           "BO PHAN CHUNG_Lv2",
           "BO PHAN CHUNG_Lv3",
           "BO PHAN CHUNG_Lv4",
           "KHOI BAN BUON_Lv0",
           "KHOI BAN BUON_Lv1",
           "KHOI BAN BUON_Lv2",
           "KHOI BAN BUON_Lv3",
           "KHOI BAN BUON_Lv4",
           "KHOI BAN LE_Lv0",
           "KHOI BAN LE_Lv1",
           "KHOI BAN LE_Lv2",
           "KHOI BAN LE_Lv3",
           "KHOI BAN LE_Lv4",
           "KHOI CNTT VA NGAN HANG SO_Lv0",
           "KHOI CNTT VA NGAN HANG SO_Lv1",
           "KHOI CNTT VA NGAN HANG SO_Lv2",
           "KHOI CNTT VA NGAN HANG SO_Lv3",
           "KHOI CNTT VA NGAN HANG SO_Lv4",
           "KHOI DANG-DOAN THE_Lv0",
           "KHOI DANG-DOAN THE_Lv1",
           "KHOI DANG-DOAN THE_Lv2",
           "KHOI DANG-DOAN THE_Lv3",
           "KHOI DANG-DOAN THE_Lv4",
           "KHOI DAU TU_Lv0",
           "KHOI DAU TU_Lv1",
           "KHOI DAU TU_Lv2",
           "KHOI DAU TU_Lv3",
           "KHOI DAU TU_Lv4",
           "KHOI GIAM SAT VA TUAN THU_Lv0",
           "KHOI GIAM SAT VA TUAN THU_Lv1",
           "KHOI GIAM SAT VA TUAN THU_Lv2",
           "KHOI GIAM SAT VA TUAN THU_Lv3",
           "KHOI GIAM SAT VA TUAN THU_Lv4",
           "KHOI HO TRO_Lv0",
           "KHOI HO TRO_Lv1",
           "KHOI HO TRO_Lv2",
           "KHOI HO TRO_Lv3",
           "KHOI HO TRO_Lv4",
           "KHOI KINH DOANH VON VA TIEN TE_Lv0",
           "KHOI KINH DOANH VON VA TIEN TE_Lv1",
           "KHOI KINH DOANH VON VA TIEN TE_Lv2",
           "KHOI KINH DOANH VON VA TIEN TE_Lv3",
           "KHOI KINH DOANH VON VA TIEN TE_Lv4",
           "KHOI QUAN LY RUI RO_Lv0",
           "KHOI QUAN LY RUI RO_Lv1",
           "KHOI QUAN LY RUI RO_Lv2",
           "KHOI QUAN LY RUI RO_Lv3",
           "KHOI QUAN LY RUI RO_Lv4",
           "KHOI TAC NGHIEP_Lv0",
           "KHOI TAC NGHIEP_Lv1",
           "KHOI TAC NGHIEP_Lv2",
           "KHOI TAC NGHIEP_Lv3",
           "KHOI TAC NGHIEP_Lv4",
           "KHOI TAI CHINH-KE TOAN_Lv0",
           "KHOI TAI CHINH-KE TOAN_Lv1",
           "KHOI TAI CHINH-KE TOAN_Lv2",
           "KHOI TAI CHINH-KE TOAN_Lv3",
           "KHOI TAI CHINH-KE TOAN_Lv4",
           "KHOI THAM DINH VA PHE DUYET_Lv0",
           "KHOI THAM DINH VA PHE DUYET_Lv1",
           "KHOI THAM DINH VA PHE DUYET_Lv2",
           "KHOI THAM DINH VA PHE DUYET_Lv3",
           "KHOI THAM DINH VA PHE DUYET_Lv4"
          ],
          "line": {
           "color": "black",
           "width": 0.5
          },
          "pad": 15,
          "thickness": 20
         },
         "type": "sankey"
        }
       ],
       "layout": {
        "autosize": false,
        "font": {
         "color": "blue",
         "family": "Arial",
         "size": 14
        },
        "height": 1080,
        "template": {
         "data": {
          "bar": [
           {
            "error_x": {
             "color": "#2a3f5f"
            },
            "error_y": {
             "color": "#2a3f5f"
            },
            "marker": {
             "line": {
              "color": "#E5ECF6",
              "width": 0.5
             },
             "pattern": {
              "fillmode": "overlay",
              "size": 10,
              "solidity": 0.2
             }
            },
            "type": "bar"
           }
          ],
          "barpolar": [
           {
            "marker": {
             "line": {
              "color": "#E5ECF6",
              "width": 0.5
             },
             "pattern": {
              "fillmode": "overlay",
              "size": 10,
              "solidity": 0.2
             }
            },
            "type": "barpolar"
           }
          ],
          "carpet": [
           {
            "aaxis": {
             "endlinecolor": "#2a3f5f",
             "gridcolor": "white",
             "linecolor": "white",
             "minorgridcolor": "white",
             "startlinecolor": "#2a3f5f"
            },
            "baxis": {
             "endlinecolor": "#2a3f5f",
             "gridcolor": "white",
             "linecolor": "white",
             "minorgridcolor": "white",
             "startlinecolor": "#2a3f5f"
            },
            "type": "carpet"
           }
          ],
          "choropleth": [
           {
            "colorbar": {
             "outlinewidth": 0,
             "ticks": ""
            },
            "type": "choropleth"
           }
          ],
          "contour": [
           {
            "colorbar": {
             "outlinewidth": 0,
             "ticks": ""
            },
            "colorscale": [
             [
              0,
              "#0d0887"
             ],
             [
              0.1111111111111111,
              "#46039f"
             ],
             [
              0.2222222222222222,
              "#7201a8"
             ],
             [
              0.3333333333333333,
              "#9c179e"
             ],
             [
              0.4444444444444444,
              "#bd3786"
             ],
             [
              0.5555555555555556,
              "#d8576b"
             ],
             [
              0.6666666666666666,
              "#ed7953"
             ],
             [
              0.7777777777777778,
              "#fb9f3a"
             ],
             [
              0.8888888888888888,
              "#fdca26"
             ],
             [
              1,
              "#f0f921"
             ]
            ],
            "type": "contour"
           }
          ],
          "contourcarpet": [
           {
            "colorbar": {
             "outlinewidth": 0,
             "ticks": ""
            },
            "type": "contourcarpet"
           }
          ],
          "heatmap": [
           {
            "colorbar": {
             "outlinewidth": 0,
             "ticks": ""
            },
            "colorscale": [
             [
              0,
              "#0d0887"
             ],
             [
              0.1111111111111111,
              "#46039f"
             ],
             [
              0.2222222222222222,
              "#7201a8"
             ],
             [
              0.3333333333333333,
              "#9c179e"
             ],
             [
              0.4444444444444444,
              "#bd3786"
             ],
             [
              0.5555555555555556,
              "#d8576b"
             ],
             [
              0.6666666666666666,
              "#ed7953"
             ],
             [
              0.7777777777777778,
              "#fb9f3a"
             ],
             [
              0.8888888888888888,
              "#fdca26"
             ],
             [
              1,
              "#f0f921"
             ]
            ],
            "type": "heatmap"
           }
          ],
          "heatmapgl": [
           {
            "colorbar": {
             "outlinewidth": 0,
             "ticks": ""
            },
            "colorscale": [
             [
              0,
              "#0d0887"
             ],
             [
              0.1111111111111111,
              "#46039f"
             ],
             [
              0.2222222222222222,
              "#7201a8"
             ],
             [
              0.3333333333333333,
              "#9c179e"
             ],
             [
              0.4444444444444444,
              "#bd3786"
             ],
             [
              0.5555555555555556,
              "#d8576b"
             ],
             [
              0.6666666666666666,
              "#ed7953"
             ],
             [
              0.7777777777777778,
              "#fb9f3a"
             ],
             [
              0.8888888888888888,
              "#fdca26"
             ],
             [
              1,
              "#f0f921"
             ]
            ],
            "type": "heatmapgl"
           }
          ],
          "histogram": [
           {
            "marker": {
             "pattern": {
              "fillmode": "overlay",
              "size": 10,
              "solidity": 0.2
             }
            },
            "type": "histogram"
           }
          ],
          "histogram2d": [
           {
            "colorbar": {
             "outlinewidth": 0,
             "ticks": ""
            },
            "colorscale": [
             [
              0,
              "#0d0887"
             ],
             [
              0.1111111111111111,
              "#46039f"
             ],
             [
              0.2222222222222222,
              "#7201a8"
             ],
             [
              0.3333333333333333,
              "#9c179e"
             ],
             [
              0.4444444444444444,
              "#bd3786"
             ],
             [
              0.5555555555555556,
              "#d8576b"
             ],
             [
              0.6666666666666666,
              "#ed7953"
             ],
             [
              0.7777777777777778,
              "#fb9f3a"
             ],
             [
              0.8888888888888888,
              "#fdca26"
             ],
             [
              1,
              "#f0f921"
             ]
            ],
            "type": "histogram2d"
           }
          ],
          "histogram2dcontour": [
           {
            "colorbar": {
             "outlinewidth": 0,
             "ticks": ""
            },
            "colorscale": [
             [
              0,
              "#0d0887"
             ],
             [
              0.1111111111111111,
              "#46039f"
             ],
             [
              0.2222222222222222,
              "#7201a8"
             ],
             [
              0.3333333333333333,
              "#9c179e"
             ],
             [
              0.4444444444444444,
              "#bd3786"
             ],
             [
              0.5555555555555556,
              "#d8576b"
             ],
             [
              0.6666666666666666,
              "#ed7953"
             ],
             [
              0.7777777777777778,
              "#fb9f3a"
             ],
             [
              0.8888888888888888,
              "#fdca26"
             ],
             [
              1,
              "#f0f921"
             ]
            ],
            "type": "histogram2dcontour"
           }
          ],
          "mesh3d": [
           {
            "colorbar": {
             "outlinewidth": 0,
             "ticks": ""
            },
            "type": "mesh3d"
           }
          ],
          "parcoords": [
           {
            "line": {
             "colorbar": {
              "outlinewidth": 0,
              "ticks": ""
             }
            },
            "type": "parcoords"
           }
          ],
          "pie": [
           {
            "automargin": true,
            "type": "pie"
           }
          ],
          "scatter": [
           {
            "fillpattern": {
             "fillmode": "overlay",
             "size": 10,
             "solidity": 0.2
            },
            "type": "scatter"
           }
          ],
          "scatter3d": [
           {
            "line": {
             "colorbar": {
              "outlinewidth": 0,
              "ticks": ""
             }
            },
            "marker": {
             "colorbar": {
              "outlinewidth": 0,
              "ticks": ""
             }
            },
            "type": "scatter3d"
           }
          ],
          "scattercarpet": [
           {
            "marker": {
             "colorbar": {
              "outlinewidth": 0,
              "ticks": ""
             }
            },
            "type": "scattercarpet"
           }
          ],
          "scattergeo": [
           {
            "marker": {
             "colorbar": {
              "outlinewidth": 0,
              "ticks": ""
             }
            },
            "type": "scattergeo"
           }
          ],
          "scattergl": [
           {
            "marker": {
             "colorbar": {
              "outlinewidth": 0,
              "ticks": ""
             }
            },
            "type": "scattergl"
           }
          ],
          "scattermapbox": [
           {
            "marker": {
             "colorbar": {
              "outlinewidth": 0,
              "ticks": ""
             }
            },
            "type": "scattermapbox"
           }
          ],
          "scatterpolar": [
           {
            "marker": {
             "colorbar": {
              "outlinewidth": 0,
              "ticks": ""
             }
            },
            "type": "scatterpolar"
           }
          ],
          "scatterpolargl": [
           {
            "marker": {
             "colorbar": {
              "outlinewidth": 0,
              "ticks": ""
             }
            },
            "type": "scatterpolargl"
           }
          ],
          "scatterternary": [
           {
            "marker": {
             "colorbar": {
              "outlinewidth": 0,
              "ticks": ""
             }
            },
            "type": "scatterternary"
           }
          ],
          "surface": [
           {
            "colorbar": {
             "outlinewidth": 0,
             "ticks": ""
            },
            "colorscale": [
             [
              0,
              "#0d0887"
             ],
             [
              0.1111111111111111,
              "#46039f"
             ],
             [
              0.2222222222222222,
              "#7201a8"
             ],
             [
              0.3333333333333333,
              "#9c179e"
             ],
             [
              0.4444444444444444,
              "#bd3786"
             ],
             [
              0.5555555555555556,
              "#d8576b"
             ],
             [
              0.6666666666666666,
              "#ed7953"
             ],
             [
              0.7777777777777778,
              "#fb9f3a"
             ],
             [
              0.8888888888888888,
              "#fdca26"
             ],
             [
              1,
              "#f0f921"
             ]
            ],
            "type": "surface"
           }
          ],
          "table": [
           {
            "cells": {
             "fill": {
              "color": "#EBF0F8"
             },
             "line": {
              "color": "white"
             }
            },
            "header": {
             "fill": {
              "color": "#C8D4E3"
             },
             "line": {
              "color": "white"
             }
            },
            "type": "table"
           }
          ]
         },
         "layout": {
          "annotationdefaults": {
           "arrowcolor": "#2a3f5f",
           "arrowhead": 0,
           "arrowwidth": 1
          },
          "autotypenumbers": "strict",
          "coloraxis": {
           "colorbar": {
            "outlinewidth": 0,
            "ticks": ""
           }
          },
          "colorscale": {
           "diverging": [
            [
             0,
             "#8e0152"
            ],
            [
             0.1,
             "#c51b7d"
            ],
            [
             0.2,
             "#de77ae"
            ],
            [
             0.3,
             "#f1b6da"
            ],
            [
             0.4,
             "#fde0ef"
            ],
            [
             0.5,
             "#f7f7f7"
            ],
            [
             0.6,
             "#e6f5d0"
            ],
            [
             0.7,
             "#b8e186"
            ],
            [
             0.8,
             "#7fbc41"
            ],
            [
             0.9,
             "#4d9221"
            ],
            [
             1,
             "#276419"
            ]
           ],
           "sequential": [
            [
             0,
             "#0d0887"
            ],
            [
             0.1111111111111111,
             "#46039f"
            ],
            [
             0.2222222222222222,
             "#7201a8"
            ],
            [
             0.3333333333333333,
             "#9c179e"
            ],
            [
             0.4444444444444444,
             "#bd3786"
            ],
            [
             0.5555555555555556,
             "#d8576b"
            ],
            [
             0.6666666666666666,
             "#ed7953"
            ],
            [
             0.7777777777777778,
             "#fb9f3a"
            ],
            [
             0.8888888888888888,
             "#fdca26"
            ],
            [
             1,
             "#f0f921"
            ]
           ],
           "sequentialminus": [
            [
             0,
             "#0d0887"
            ],
            [
             0.1111111111111111,
             "#46039f"
            ],
            [
             0.2222222222222222,
             "#7201a8"
            ],
            [
             0.3333333333333333,
             "#9c179e"
            ],
            [
             0.4444444444444444,
             "#bd3786"
            ],
            [
             0.5555555555555556,
             "#d8576b"
            ],
            [
             0.6666666666666666,
             "#ed7953"
            ],
            [
             0.7777777777777778,
             "#fb9f3a"
            ],
            [
             0.8888888888888888,
             "#fdca26"
            ],
            [
             1,
             "#f0f921"
            ]
           ]
          },
          "colorway": [
           "#636efa",
           "#EF553B",
           "#00cc96",
           "#ab63fa",
           "#FFA15A",
           "#19d3f3",
           "#FF6692",
           "#B6E880",
           "#FF97FF",
           "#FECB52"
          ],
          "font": {
           "color": "#2a3f5f"
          },
          "geo": {
           "bgcolor": "white",
           "lakecolor": "white",
           "landcolor": "#E5ECF6",
           "showlakes": true,
           "showland": true,
           "subunitcolor": "white"
          },
          "hoverlabel": {
           "align": "left"
          },
          "hovermode": "closest",
          "mapbox": {
           "style": "light"
          },
          "paper_bgcolor": "white",
          "plot_bgcolor": "#E5ECF6",
          "polar": {
           "angularaxis": {
            "gridcolor": "white",
            "linecolor": "white",
            "ticks": ""
           },
           "bgcolor": "#E5ECF6",
           "radialaxis": {
            "gridcolor": "white",
            "linecolor": "white",
            "ticks": ""
           }
          },
          "scene": {
           "xaxis": {
            "backgroundcolor": "#E5ECF6",
            "gridcolor": "white",
            "gridwidth": 2,
            "linecolor": "white",
            "showbackground": true,
            "ticks": "",
            "zerolinecolor": "white"
           },
           "yaxis": {
            "backgroundcolor": "#E5ECF6",
            "gridcolor": "white",
            "gridwidth": 2,
            "linecolor": "white",
            "showbackground": true,
            "ticks": "",
            "zerolinecolor": "white"
           },
           "zaxis": {
            "backgroundcolor": "#E5ECF6",
            "gridcolor": "white",
            "gridwidth": 2,
            "linecolor": "white",
            "showbackground": true,
            "ticks": "",
            "zerolinecolor": "white"
           }
          },
          "shapedefaults": {
           "line": {
            "color": "#2a3f5f"
           }
          },
          "ternary": {
           "aaxis": {
            "gridcolor": "white",
            "linecolor": "white",
            "ticks": ""
           },
           "baxis": {
            "gridcolor": "white",
            "linecolor": "white",
            "ticks": ""
           },
           "bgcolor": "#E5ECF6",
           "caxis": {
            "gridcolor": "white",
            "linecolor": "white",
            "ticks": ""
           }
          },
          "title": {
           "x": 0.05
          },
          "xaxis": {
           "automargin": true,
           "gridcolor": "white",
           "linecolor": "white",
           "ticks": "",
           "title": {
            "standoff": 15
           },
           "zerolinecolor": "white",
           "zerolinewidth": 2
          },
          "yaxis": {
           "automargin": true,
           "gridcolor": "white",
           "linecolor": "white",
           "ticks": "",
           "title": {
            "standoff": 15
           },
           "zerolinecolor": "white",
           "zerolinewidth": 2
          }
         }
        },
        "title": {
         "font": {
          "size": 24
         },
         "text": "<b>Phân bổ giai đoạn 1: Từ trung tâm đến trung tâm</b>"
        },
        "width": 1620,
        "xaxis": {
         "showticklabels": false,
         "visible": false
        },
        "yaxis": {
         "showticklabels": false,
         "visible": false
        }
       }
      }
     },
     "metadata": {},
     "output_type": "display_data"
    }
   ],
   "source": [
    "highlighted_nodes_1 = [ \"KHOI BAN LE_Lv0\", \"KHOI BAN BUON_Lv4\"]\n",
    "selected_columns = ['Lv0_mapped', 'Lv1_mapped', 'Lv2_mapped', 'Lv3_mapped', 'Lv4_mapped'] # ['Lv0_mapped', 'Lv4_mapped']\n",
    "fig = sankey_graph(all_lv_df, selected_columns, highlighted_nodes_1, title= \"<b>Phân bổ giai đoạn 1: Từ trung tâm đến trung tâm</b>\", color_map= color_map_v2)\n",
    "fig       "
   ]
  },
  {
   "cell_type": "code",
   "execution_count": 10,
   "metadata": {},
   "outputs": [
    {
     "name": "stderr",
     "output_type": "stream",
     "text": [
      "C:\\Users\\Admin\\AppData\\Local\\Temp\\ipykernel_18444\\429772272.py:117: SettingWithCopyWarning:\n",
      "\n",
      "\n",
      "A value is trying to be set on a copy of a slice from a DataFrame.\n",
      "Try using .loc[row_indexer,col_indexer] = value instead\n",
      "\n",
      "See the caveats in the documentation: https://pandas.pydata.org/pandas-docs/stable/user_guide/indexing.html#returning-a-view-versus-a-copy\n",
      "\n"
     ]
    },
    {
     "data": {
      "text/html": [
       "<div>\n",
       "<style scoped>\n",
       "    .dataframe tbody tr th:only-of-type {\n",
       "        vertical-align: middle;\n",
       "    }\n",
       "\n",
       "    .dataframe tbody tr th {\n",
       "        vertical-align: top;\n",
       "    }\n",
       "\n",
       "    .dataframe thead th {\n",
       "        text-align: right;\n",
       "    }\n",
       "</style>\n",
       "<table border=\"1\" class=\"dataframe\">\n",
       "  <thead>\n",
       "    <tr style=\"text-align: right;\">\n",
       "      <th></th>\n",
       "      <th>Lv0_mapped</th>\n",
       "      <th>Percentage_Lv0_mapped</th>\n",
       "      <th>Lv1_mapped</th>\n",
       "      <th>Percentage_Lv1_mapped</th>\n",
       "      <th>Lv2_mapped</th>\n",
       "      <th>Percentage_Lv2_mapped</th>\n",
       "      <th>Lv3_mapped</th>\n",
       "      <th>Percentage_Lv3_mapped</th>\n",
       "      <th>Lv4_mapped</th>\n",
       "      <th>Percentage_Lv4_mapped</th>\n",
       "    </tr>\n",
       "  </thead>\n",
       "  <tbody>\n",
       "    <tr>\n",
       "      <th>5</th>\n",
       "      <td>KHOI KINH DOANH VON VA TIEN TE</td>\n",
       "      <td>0.000445</td>\n",
       "      <td>KHOI KINH DOANH VON VA TIEN TE</td>\n",
       "      <td>0.000493</td>\n",
       "      <td>KHOI KINH DOANH VON VA TIEN TE</td>\n",
       "      <td>0.001329</td>\n",
       "      <td>KHOI QUAN LY RUI RO</td>\n",
       "      <td>0.189841</td>\n",
       "      <td>NaN</td>\n",
       "      <td>NaN</td>\n",
       "    </tr>\n",
       "    <tr>\n",
       "      <th>6</th>\n",
       "      <td>KHOI QUAN LY RUI RO</td>\n",
       "      <td>0.119650</td>\n",
       "      <td>KHOI QUAN LY RUI RO</td>\n",
       "      <td>0.120295</td>\n",
       "      <td>KHOI QUAN LY RUI RO</td>\n",
       "      <td>0.178534</td>\n",
       "      <td>KHOI TAC NGHIEP</td>\n",
       "      <td>3.003541</td>\n",
       "      <td>NaN</td>\n",
       "      <td>NaN</td>\n",
       "    </tr>\n",
       "    <tr>\n",
       "      <th>3</th>\n",
       "      <td>KHOI GIAM SAT VA TUAN THU</td>\n",
       "      <td>0.332288</td>\n",
       "      <td>KHOI GIAM SAT VA TUAN THU</td>\n",
       "      <td>0.332330</td>\n",
       "      <td>KHOI GIAM SAT VA TUAN THU</td>\n",
       "      <td>0.332330</td>\n",
       "      <td>KHOI GIAM SAT VA TUAN THU</td>\n",
       "      <td>0.332330</td>\n",
       "      <td>KHOI KINH DOANH VON VA TIEN TE</td>\n",
       "      <td>0.000006</td>\n",
       "    </tr>\n",
       "    <tr>\n",
       "      <th>2</th>\n",
       "      <td>KHOI CNTT VA NGAN HANG SO</td>\n",
       "      <td>0.669469</td>\n",
       "      <td>KHOI CNTT VA NGAN HANG SO</td>\n",
       "      <td>0.526925</td>\n",
       "      <td>KHOI CNTT VA NGAN HANG SO</td>\n",
       "      <td>0.810318</td>\n",
       "      <td>KHOI CNTT VA NGAN HANG SO</td>\n",
       "      <td>0.852607</td>\n",
       "      <td>KHOI DAU TU</td>\n",
       "      <td>0.000000</td>\n",
       "    </tr>\n",
       "    <tr>\n",
       "      <th>8</th>\n",
       "      <td>KHOI TAI CHINH-KE TOAN</td>\n",
       "      <td>1.352430</td>\n",
       "      <td>KHOI TAI CHINH-KE TOAN</td>\n",
       "      <td>1.370044</td>\n",
       "      <td>KHOI TAI CHINH-KE TOAN</td>\n",
       "      <td>1.697613</td>\n",
       "      <td>NaN</td>\n",
       "      <td>NaN</td>\n",
       "      <td>NaN</td>\n",
       "      <td>NaN</td>\n",
       "    </tr>\n",
       "    <tr>\n",
       "      <th>7</th>\n",
       "      <td>KHOI TAC NGHIEP</td>\n",
       "      <td>2.472424</td>\n",
       "      <td>KHOI TAC NGHIEP</td>\n",
       "      <td>2.476331</td>\n",
       "      <td>KHOI TAC NGHIEP</td>\n",
       "      <td>2.722927</td>\n",
       "      <td>KHOI TAI CHINH-KE TOAN</td>\n",
       "      <td>1.754911</td>\n",
       "      <td>NaN</td>\n",
       "      <td>NaN</td>\n",
       "    </tr>\n",
       "    <tr>\n",
       "      <th>4</th>\n",
       "      <td>KHOI HO TRO</td>\n",
       "      <td>7.956738</td>\n",
       "      <td>KHOI HO TRO</td>\n",
       "      <td>8.015775</td>\n",
       "      <td>KHOI HO TRO</td>\n",
       "      <td>3.726057</td>\n",
       "      <td>KHOI HO TRO</td>\n",
       "      <td>2.611595</td>\n",
       "      <td>NaN</td>\n",
       "      <td>NaN</td>\n",
       "    </tr>\n",
       "    <tr>\n",
       "      <th>0</th>\n",
       "      <td>KHOI BAN BUON</td>\n",
       "      <td>29.875148</td>\n",
       "      <td>KHOI BAN BUON</td>\n",
       "      <td>29.936392</td>\n",
       "      <td>KHOI BAN BUON</td>\n",
       "      <td>33.309195</td>\n",
       "      <td>KHOI BAN BUON</td>\n",
       "      <td>34.033223</td>\n",
       "      <td>KHOI BAN BUON</td>\n",
       "      <td>43.417709</td>\n",
       "    </tr>\n",
       "    <tr>\n",
       "      <th>1</th>\n",
       "      <td>KHOI BAN LE</td>\n",
       "      <td>57.221408</td>\n",
       "      <td>KHOI BAN LE</td>\n",
       "      <td>57.221415</td>\n",
       "      <td>KHOI BAN LE</td>\n",
       "      <td>57.221696</td>\n",
       "      <td>KHOI BAN LE</td>\n",
       "      <td>57.221953</td>\n",
       "      <td>KHOI BAN LE</td>\n",
       "      <td>56.582285</td>\n",
       "    </tr>\n",
       "  </tbody>\n",
       "</table>\n",
       "</div>"
      ],
      "text/plain": [
       "                       Lv0_mapped  Percentage_Lv0_mapped  \\\n",
       "5  KHOI KINH DOANH VON VA TIEN TE               0.000445   \n",
       "6             KHOI QUAN LY RUI RO               0.119650   \n",
       "3       KHOI GIAM SAT VA TUAN THU               0.332288   \n",
       "2       KHOI CNTT VA NGAN HANG SO               0.669469   \n",
       "8          KHOI TAI CHINH-KE TOAN               1.352430   \n",
       "7                 KHOI TAC NGHIEP               2.472424   \n",
       "4                     KHOI HO TRO               7.956738   \n",
       "0                   KHOI BAN BUON              29.875148   \n",
       "1                     KHOI BAN LE              57.221408   \n",
       "\n",
       "                       Lv1_mapped  Percentage_Lv1_mapped  \\\n",
       "5  KHOI KINH DOANH VON VA TIEN TE               0.000493   \n",
       "6             KHOI QUAN LY RUI RO               0.120295   \n",
       "3       KHOI GIAM SAT VA TUAN THU               0.332330   \n",
       "2       KHOI CNTT VA NGAN HANG SO               0.526925   \n",
       "8          KHOI TAI CHINH-KE TOAN               1.370044   \n",
       "7                 KHOI TAC NGHIEP               2.476331   \n",
       "4                     KHOI HO TRO               8.015775   \n",
       "0                   KHOI BAN BUON              29.936392   \n",
       "1                     KHOI BAN LE              57.221415   \n",
       "\n",
       "                       Lv2_mapped  Percentage_Lv2_mapped  \\\n",
       "5  KHOI KINH DOANH VON VA TIEN TE               0.001329   \n",
       "6             KHOI QUAN LY RUI RO               0.178534   \n",
       "3       KHOI GIAM SAT VA TUAN THU               0.332330   \n",
       "2       KHOI CNTT VA NGAN HANG SO               0.810318   \n",
       "8          KHOI TAI CHINH-KE TOAN               1.697613   \n",
       "7                 KHOI TAC NGHIEP               2.722927   \n",
       "4                     KHOI HO TRO               3.726057   \n",
       "0                   KHOI BAN BUON              33.309195   \n",
       "1                     KHOI BAN LE              57.221696   \n",
       "\n",
       "                  Lv3_mapped  Percentage_Lv3_mapped  \\\n",
       "5        KHOI QUAN LY RUI RO               0.189841   \n",
       "6            KHOI TAC NGHIEP               3.003541   \n",
       "3  KHOI GIAM SAT VA TUAN THU               0.332330   \n",
       "2  KHOI CNTT VA NGAN HANG SO               0.852607   \n",
       "8                        NaN                    NaN   \n",
       "7     KHOI TAI CHINH-KE TOAN               1.754911   \n",
       "4                KHOI HO TRO               2.611595   \n",
       "0              KHOI BAN BUON              34.033223   \n",
       "1                KHOI BAN LE              57.221953   \n",
       "\n",
       "                       Lv4_mapped  Percentage_Lv4_mapped  \n",
       "5                             NaN                    NaN  \n",
       "6                             NaN                    NaN  \n",
       "3  KHOI KINH DOANH VON VA TIEN TE               0.000006  \n",
       "2                     KHOI DAU TU               0.000000  \n",
       "8                             NaN                    NaN  \n",
       "7                             NaN                    NaN  \n",
       "4                             NaN                    NaN  \n",
       "0                   KHOI BAN BUON              43.417709  \n",
       "1                     KHOI BAN LE              56.582285  "
      ]
     },
     "execution_count": 10,
     "metadata": {},
     "output_type": "execute_result"
    }
   ],
   "source": [
    "dist_result = calculate_distribution(all_lv_df, highlighted_nodes_1)\n",
    "dist_result"
   ]
  },
  {
   "cell_type": "code",
   "execution_count": 11,
   "metadata": {},
   "outputs": [
    {
     "name": "stderr",
     "output_type": "stream",
     "text": [
      "C:\\Users\\Admin\\AppData\\Local\\Temp\\ipykernel_18444\\429772272.py:2: SettingWithCopyWarning:\n",
      "\n",
      "\n",
      "A value is trying to be set on a copy of a slice from a DataFrame.\n",
      "Try using .loc[row_indexer,col_indexer] = value instead\n",
      "\n",
      "See the caveats in the documentation: https://pandas.pydata.org/pandas-docs/stable/user_guide/indexing.html#returning-a-view-versus-a-copy\n",
      "\n"
     ]
    },
    {
     "data": {
      "application/vnd.plotly.v1+json": {
       "config": {
        "plotlyServerURL": "https://plot.ly"
       },
       "data": [
        {
         "link": {
          "color": [
           "rgba(0, 107, 105, 0.2)",
           "rgba(0, 107, 105, 0.2)",
           "rgba(0, 107, 105, 0.2)",
           "rgba(0, 107, 105, 0.2)",
           "rgba(0, 107, 105, 0.2)",
           "rgba(0, 107, 105, 0.2)",
           "rgba(0, 107, 105, 0.2)",
           "rgba(0, 107, 105, 0.2)",
           "rgba(0, 107, 105, 0.2)",
           "rgba(0, 107, 105, 0.2)",
           "rgba(0, 107, 105, 0.2)",
           "rgba(0, 107, 105, 0.2)",
           "rgba(0, 107, 105, 0.2)",
           "rgba(0, 107, 105, 0.2)",
           "rgba(0, 107, 105, 0.2)",
           "rgba(0, 107, 105, 0.2)",
           "rgba(0, 107, 105, 0.2)",
           "rgba(0, 107, 105, 0.2)",
           "rgba(0, 107, 105, 0.2)",
           "rgba(0, 107, 105, 0.2)",
           "rgba(0, 107, 105, 0.2)",
           "rgba(0, 107, 105, 0.2)",
           "rgba(0, 107, 105, 0.2)",
           "rgba(0, 107, 105, 0.2)",
           "rgba(0, 107, 105, 0.2)",
           "rgba(0, 107, 105, 0.2)",
           "rgba(0, 107, 105, 0.2)",
           "rgba(0, 107, 105, 0.2)",
           "rgba(0, 107, 105, 0.2)",
           "rgba(0, 107, 105, 0.2)",
           "rgba(0, 107, 105, 0.2)",
           "rgba(0, 107, 105, 0.2)",
           "rgba(0, 107, 105, 0.2)",
           "rgba(0, 107, 105, 0.2)",
           "rgba(0, 107, 105, 0.2)",
           "rgba(0, 107, 105, 0.2)",
           "rgba(0, 107, 105, 0.2)",
           "rgba(0, 107, 105, 0.2)",
           "rgba(0, 107, 105, 0.2)",
           "rgba(0, 107, 105, 0.2)",
           "rgba(0, 107, 105, 0.2)",
           "rgba(0, 107, 105, 0.2)",
           "rgba(0, 107, 105, 0.2)",
           "rgba(0, 107, 105, 0.2)",
           "rgba(0, 107, 105, 0.2)",
           "rgba(0, 107, 105, 0.2)",
           "rgba(0, 107, 105, 0.2)",
           "rgba(0, 107, 105, 0.2)",
           "rgba(0, 107, 105, 0.2)",
           "rgba(0, 107, 105, 0.2)",
           "rgba(0, 107, 105, 0.2)",
           "rgba(0, 107, 105, 0.2)",
           "rgba(0, 107, 105, 0.2)",
           "rgba(0, 107, 105, 0.2)",
           "rgba(0, 107, 105, 0.2)",
           "rgba(0, 107, 105, 0.2)",
           "rgba(0, 107, 105, 0.2)",
           "rgba(0, 107, 105, 0.2)",
           "rgba(0, 107, 105, 0.2)",
           "rgba(0, 107, 105, 0.2)",
           "rgba(0, 107, 105, 0.2)",
           "rgba(0, 107, 105, 0.2)",
           "rgba(0, 107, 105, 0.2)",
           "rgba(0, 107, 105, 0.2)",
           "rgba(0, 107, 105, 0.2)",
           "rgba(0, 107, 105, 0.2)",
           "rgba(0, 107, 105, 0.2)",
           "rgba(0, 107, 105, 0.2)",
           "rgba(0, 107, 105, 0.2)",
           "rgba(0, 107, 105, 0.2)",
           "rgba(0, 107, 105, 0.2)",
           "rgba(0, 107, 105, 0.2)",
           "rgba(0, 107, 105, 0.2)",
           "rgba(0, 107, 105, 0.2)",
           "rgba(0, 107, 105, 0.2)",
           "rgba(0, 107, 105, 0.2)",
           "rgba(0, 107, 105, 0.2)",
           "rgba(0, 107, 105, 0.2)",
           "rgba(0, 107, 105, 0.2)",
           "rgba(0, 107, 105, 0.2)",
           "rgba(0, 107, 105, 0.2)",
           "rgba(0, 107, 105, 0.2)",
           "rgba(0, 107, 105, 0.2)",
           "rgba(0, 107, 105, 0.2)",
           "rgba(0, 107, 105, 0.2)",
           "rgba(0, 107, 105, 0.2)",
           "rgba(0, 107, 105, 0.2)",
           "rgba(0, 107, 105, 0.2)",
           "rgba(0, 107, 105, 0.2)",
           "rgba(0, 107, 105, 0.2)",
           "rgba(0, 107, 105, 0.2)",
           "rgba(0, 107, 105, 0.2)",
           "rgba(0, 107, 105, 0.2)",
           "rgba(0, 107, 105, 0.2)",
           "rgba(0, 107, 105, 0.2)",
           "rgba(0, 107, 105, 0.2)",
           "rgba(0, 107, 105, 0.2)",
           "rgba(0, 107, 105, 0.2)",
           "rgba(0, 107, 105, 0.2)",
           "rgba(0, 107, 105, 0.2)",
           "rgba(0, 107, 105, 0.2)",
           "rgba(0, 107, 105, 0.2)",
           "rgba(0, 107, 105, 0.2)",
           "rgba(0, 107, 105, 0.2)",
           "rgba(0, 107, 105, 0.2)",
           "rgba(0, 107, 105, 0.2)",
           "rgba(0, 107, 105, 0.2)",
           "rgba(0, 107, 105, 0.2)",
           "rgba(0, 107, 105, 0.2)",
           "rgba(0, 107, 105, 0.2)",
           "rgba(0, 107, 105, 0.2)",
           "rgba(0, 107, 105, 0.2)",
           "rgba(0, 107, 105, 0.2)",
           "rgba(0, 107, 105, 0.2)",
           "rgba(0, 107, 105, 0.2)",
           "rgba(0, 107, 105, 0.2)",
           "rgba(0, 107, 105, 0.2)",
           "rgba(0, 107, 105, 0.2)",
           "rgba(0, 107, 105, 0.2)",
           "rgba(0, 107, 105, 0.2)",
           "rgba(0, 107, 105, 0.2)",
           "rgba(0, 107, 105, 0.2)",
           "rgba(0, 107, 105, 0.2)",
           "rgba(0, 107, 105, 0.2)",
           "rgba(0, 107, 105, 0.2)",
           "rgba(0, 107, 105, 0.2)",
           "rgba(0, 107, 105, 0.2)",
           "rgba(0, 107, 105, 0.2)",
           "rgba(0, 107, 105, 0.2)",
           "rgba(0, 107, 105, 0.2)",
           "rgba(0, 107, 105, 0.2)",
           "rgba(0, 107, 105, 0.2)",
           "rgba(0, 107, 105, 0.2)",
           "rgba(0, 107, 105, 0.2)",
           "rgba(0, 107, 105, 0.2)",
           "rgba(0, 107, 105, 0.2)",
           "rgba(0, 107, 105, 0.2)",
           "rgba(0, 107, 105, 0.2)",
           "rgba(0, 107, 105, 0.2)",
           "rgba(0, 107, 105, 0.2)",
           "rgba(0, 107, 105, 0.2)",
           "rgba(0, 107, 105, 0.2)",
           "rgba(0, 107, 105, 0.2)",
           "rgba(0, 107, 105, 0.2)",
           "rgba(0, 107, 105, 0.2)",
           "rgba(0, 107, 105, 0.2)",
           "rgba(0, 107, 105, 0.2)",
           "rgba(0, 107, 105, 0.2)",
           "rgba(0, 107, 105, 0.2)",
           "rgba(0, 107, 105, 0.2)",
           "rgba(0, 107, 105, 0.2)",
           "rgba(0, 107, 105, 0.2)",
           "rgba(0, 107, 105, 0.2)",
           "rgba(0, 107, 105, 0.2)",
           "rgba(0, 107, 105, 0.2)",
           "rgba(0, 107, 105, 0.2)",
           "rgba(0, 107, 105, 0.2)",
           "rgba(0, 107, 105, 0.2)",
           "rgba(0, 107, 105, 0.2)",
           "rgba(0, 107, 105, 0.2)",
           "rgba(0, 107, 105, 0.2)",
           "rgba(0, 107, 105, 0.2)",
           "rgba(0, 107, 105, 0.2)",
           "rgba(0, 107, 105, 0.2)",
           "rgba(0, 107, 105, 0.2)",
           "rgba(0, 107, 105, 0.2)",
           "rgba(0, 107, 105, 0.2)",
           "rgba(0, 107, 105, 0.2)",
           "rgba(0, 107, 105, 0.2)",
           "rgba(0, 107, 105, 0.2)",
           "rgba(0, 107, 105, 0.2)",
           "rgba(0, 107, 105, 0.2)",
           "rgba(0, 107, 105, 0.2)",
           "rgba(0, 107, 105, 0.2)",
           "rgba(0, 107, 105, 0.2)",
           "rgba(0, 107, 105, 0.2)",
           "rgba(0, 107, 105, 0.2)",
           "rgba(0, 107, 105, 0.2)",
           "rgba(0, 107, 105, 0.2)",
           "rgba(0, 107, 105, 0.2)",
           "rgba(0, 107, 105, 0.2)",
           "rgba(0, 107, 105, 0.2)",
           "rgba(0, 107, 105, 0.2)",
           "rgba(0, 107, 105, 0.2)"
          ],
          "source": [
           0,
           1,
           2,
           3,
           5,
           6,
           7,
           8,
           5,
           6,
           7,
           8,
           5,
           6,
           7,
           8,
           5,
           6,
           7,
           8,
           10,
           1,
           2,
           3,
           10,
           6,
           7,
           8,
           10,
           11,
           12,
           13,
           10,
           16,
           17,
           18,
           10,
           20,
           2,
           3,
           10,
           20,
           7,
           8,
           10,
           20,
           12,
           13,
           10,
           20,
           21,
           3,
           10,
           20,
           21,
           8,
           10,
           20,
           21,
           13,
           10,
           20,
           21,
           22,
           10,
           20,
           21,
           30,
           10,
           20,
           21,
           34,
           10,
           20,
           21,
           38,
           10,
           20,
           25,
           38,
           10,
           20,
           29,
           30,
           10,
           20,
           33,
           34,
           10,
           20,
           37,
           38,
           10,
           24,
           25,
           38,
           10,
           28,
           29,
           30,
           10,
           32,
           33,
           34,
           10,
           36,
           37,
           38,
           15,
           16,
           17,
           18,
           19,
           20,
           2,
           3,
           19,
           20,
           7,
           8,
           19,
           20,
           12,
           13,
           19,
           20,
           21,
           3,
           19,
           20,
           21,
           8,
           19,
           20,
           21,
           13,
           19,
           20,
           21,
           22,
           19,
           20,
           21,
           30,
           19,
           20,
           21,
           34,
           19,
           20,
           21,
           38,
           19,
           20,
           25,
           38,
           19,
           20,
           29,
           30,
           19,
           20,
           33,
           34,
           19,
           20,
           37,
           38,
           23,
           24,
           25,
           38,
           27,
           28,
           29,
           30,
           31,
           32,
           33,
           34,
           35,
           36,
           37,
           38
          ],
          "target": [
           1,
           2,
           3,
           4,
           6,
           7,
           8,
           4,
           6,
           7,
           8,
           9,
           6,
           7,
           8,
           14,
           6,
           7,
           8,
           26,
           1,
           2,
           3,
           4,
           6,
           7,
           8,
           4,
           11,
           12,
           13,
           4,
           16,
           17,
           18,
           4,
           20,
           2,
           3,
           4,
           20,
           7,
           8,
           4,
           20,
           12,
           13,
           4,
           20,
           21,
           3,
           4,
           20,
           21,
           8,
           4,
           20,
           21,
           13,
           4,
           20,
           21,
           22,
           4,
           20,
           21,
           30,
           4,
           20,
           21,
           34,
           4,
           20,
           21,
           38,
           4,
           20,
           25,
           38,
           4,
           20,
           29,
           30,
           4,
           20,
           33,
           34,
           4,
           20,
           37,
           38,
           4,
           24,
           25,
           38,
           4,
           28,
           29,
           30,
           4,
           32,
           33,
           34,
           4,
           36,
           37,
           38,
           4,
           16,
           17,
           18,
           4,
           20,
           2,
           3,
           4,
           20,
           7,
           8,
           4,
           20,
           12,
           13,
           4,
           20,
           21,
           3,
           4,
           20,
           21,
           8,
           4,
           20,
           21,
           13,
           4,
           20,
           21,
           22,
           4,
           20,
           21,
           30,
           4,
           20,
           21,
           34,
           4,
           20,
           21,
           38,
           4,
           20,
           25,
           38,
           4,
           20,
           29,
           30,
           4,
           20,
           33,
           34,
           4,
           20,
           37,
           38,
           4,
           24,
           25,
           38,
           4,
           28,
           29,
           30,
           4,
           32,
           33,
           34,
           4,
           36,
           37,
           38,
           4
          ],
          "value": [
           21186651925,
           21186651925,
           21186651925,
           21186651925,
           453244627,
           453244627,
           453244627,
           453244627,
           40126635669,
           40126635669,
           40126635669,
           40126635669,
           0,
           0,
           0,
           0,
           4157,
           4157,
           4157,
           4157,
           43432603,
           43432603,
           43432603,
           43432603,
           4615,
           4615,
           4615,
           4615,
           373680801,
           373680801,
           373680801,
           373680801,
           30205,
           30205,
           30205,
           30205,
           29179192,
           29179192,
           29179192,
           29179192,
           2348,
           2348,
           2348,
           2348,
           2451671,
           2451671,
           2451671,
           2451671,
           575835,
           575835,
           575835,
           575835,
           143,
           143,
           143,
           143,
           33347,
           33347,
           33347,
           33347,
           3872179,
           3872179,
           3872179,
           3872179,
           8786,
           8786,
           8786,
           8786,
           222566,
           222566,
           222566,
           222566,
           43724,
           43724,
           43724,
           43724,
           7085,
           7085,
           7085,
           7085,
           503733,
           503733,
           503733,
           503733,
           2133040,
           2133040,
           2133040,
           2133040,
           2833571,
           2833571,
           2833571,
           2833571,
           34296,
           34296,
           34296,
           34296,
           457383,
           457383,
           457383,
           457383,
           2770595,
           2770595,
           2770595,
           2770595,
           12491410,
           12491410,
           12491410,
           12491410,
           235649520,
           235649520,
           235649520,
           235649520,
           2362721768,
           2362721768,
           2362721768,
           2362721768,
           197516,
           197516,
           197516,
           197516,
           198523532,
           198523532,
           198523532,
           198523532,
           512885289,
           512885289,
           512885289,
           512885289,
           181767,
           181767,
           181767,
           181767,
           29956315,
           29956315,
           29956315,
           29956315,
           1848200798,
           1848200798,
           1848200798,
           1848200798,
           8009887,
           8009887,
           8009887,
           8009887,
           198781287,
           198781287,
           198781287,
           198781287,
           39647758,
           39647758,
           39647758,
           39647758,
           585727,
           585727,
           585727,
           585727,
           40797649,
           40797649,
           40797649,
           40797649,
           172746436,
           172746436,
           172746436,
           172746436,
           229468994,
           229468994,
           229468994,
           229468994,
           315585,
           315585,
           315585,
           315585,
           84852492,
           84852492,
           84852492,
           84852492,
           1753376785,
           1753376785,
           1753376785,
           1753376785,
           959107241,
           959107241,
           959107241,
           959107241
          ]
         },
         "node": {
          "color": [
           "#77DD77",
           "#77DD77",
           "#77DD77",
           "#77DD77",
           "#77DD77",
           "#89CFF0",
           "#89CFF0",
           "#89CFF0",
           "#89CFF0",
           "#89CFF0",
           "#CB99C9",
           "#CB99C9",
           "#CB99C9",
           "#CB99C9",
           "#FFD1DC",
           "#B0E0E6",
           "#B0E0E6",
           "#B0E0E6",
           "#B0E0E6",
           "#CBF3D2",
           "#CBF3D2",
           "#CBF3D2",
           "#CBF3D2",
           "#B39EB5",
           "#B39EB5",
           "#B39EB5",
           "#B39EB5",
           "#FDFD96",
           "#FDFD96",
           "#FDFD96",
           "#FDFD96",
           "#FFB347",
           "#FFB347",
           "#FFB347",
           "#FFB347",
           "#ECC8EC",
           "#ECC8EC",
           "#ECC8EC",
           "#ECC8EC"
          ],
          "label": [
           "KHOI BAN BUON_Lv0",
           "KHOI BAN BUON_Lv1",
           "KHOI BAN BUON_Lv2",
           "KHOI BAN BUON_Lv3",
           "KHOI BAN BUON_Lv4",
           "KHOI BAN LE_Lv0",
           "KHOI BAN LE_Lv1",
           "KHOI BAN LE_Lv2",
           "KHOI BAN LE_Lv3",
           "KHOI BAN LE_Lv4",
           "KHOI CNTT VA NGAN HANG SO_Lv0",
           "KHOI CNTT VA NGAN HANG SO_Lv1",
           "KHOI CNTT VA NGAN HANG SO_Lv2",
           "KHOI CNTT VA NGAN HANG SO_Lv3",
           "KHOI DAU TU_Lv4",
           "KHOI GIAM SAT VA TUAN THU_Lv0",
           "KHOI GIAM SAT VA TUAN THU_Lv1",
           "KHOI GIAM SAT VA TUAN THU_Lv2",
           "KHOI GIAM SAT VA TUAN THU_Lv3",
           "KHOI HO TRO_Lv0",
           "KHOI HO TRO_Lv1",
           "KHOI HO TRO_Lv2",
           "KHOI HO TRO_Lv3",
           "KHOI KINH DOANH VON VA TIEN TE_Lv0",
           "KHOI KINH DOANH VON VA TIEN TE_Lv1",
           "KHOI KINH DOANH VON VA TIEN TE_Lv2",
           "KHOI KINH DOANH VON VA TIEN TE_Lv4",
           "KHOI QUAN LY RUI RO_Lv0",
           "KHOI QUAN LY RUI RO_Lv1",
           "KHOI QUAN LY RUI RO_Lv2",
           "KHOI QUAN LY RUI RO_Lv3",
           "KHOI TAC NGHIEP_Lv0",
           "KHOI TAC NGHIEP_Lv1",
           "KHOI TAC NGHIEP_Lv2",
           "KHOI TAC NGHIEP_Lv3",
           "KHOI TAI CHINH-KE TOAN_Lv0",
           "KHOI TAI CHINH-KE TOAN_Lv1",
           "KHOI TAI CHINH-KE TOAN_Lv2",
           "KHOI TAI CHINH-KE TOAN_Lv3"
          ],
          "line": {
           "color": "black",
           "width": 0.5
          },
          "pad": 15,
          "thickness": 20
         },
         "type": "sankey"
        }
       ],
       "layout": {
        "autosize": false,
        "font": {
         "color": "blue",
         "family": "Arial",
         "size": 14
        },
        "height": 1080,
        "template": {
         "data": {
          "bar": [
           {
            "error_x": {
             "color": "#2a3f5f"
            },
            "error_y": {
             "color": "#2a3f5f"
            },
            "marker": {
             "line": {
              "color": "#E5ECF6",
              "width": 0.5
             },
             "pattern": {
              "fillmode": "overlay",
              "size": 10,
              "solidity": 0.2
             }
            },
            "type": "bar"
           }
          ],
          "barpolar": [
           {
            "marker": {
             "line": {
              "color": "#E5ECF6",
              "width": 0.5
             },
             "pattern": {
              "fillmode": "overlay",
              "size": 10,
              "solidity": 0.2
             }
            },
            "type": "barpolar"
           }
          ],
          "carpet": [
           {
            "aaxis": {
             "endlinecolor": "#2a3f5f",
             "gridcolor": "white",
             "linecolor": "white",
             "minorgridcolor": "white",
             "startlinecolor": "#2a3f5f"
            },
            "baxis": {
             "endlinecolor": "#2a3f5f",
             "gridcolor": "white",
             "linecolor": "white",
             "minorgridcolor": "white",
             "startlinecolor": "#2a3f5f"
            },
            "type": "carpet"
           }
          ],
          "choropleth": [
           {
            "colorbar": {
             "outlinewidth": 0,
             "ticks": ""
            },
            "type": "choropleth"
           }
          ],
          "contour": [
           {
            "colorbar": {
             "outlinewidth": 0,
             "ticks": ""
            },
            "colorscale": [
             [
              0,
              "#0d0887"
             ],
             [
              0.1111111111111111,
              "#46039f"
             ],
             [
              0.2222222222222222,
              "#7201a8"
             ],
             [
              0.3333333333333333,
              "#9c179e"
             ],
             [
              0.4444444444444444,
              "#bd3786"
             ],
             [
              0.5555555555555556,
              "#d8576b"
             ],
             [
              0.6666666666666666,
              "#ed7953"
             ],
             [
              0.7777777777777778,
              "#fb9f3a"
             ],
             [
              0.8888888888888888,
              "#fdca26"
             ],
             [
              1,
              "#f0f921"
             ]
            ],
            "type": "contour"
           }
          ],
          "contourcarpet": [
           {
            "colorbar": {
             "outlinewidth": 0,
             "ticks": ""
            },
            "type": "contourcarpet"
           }
          ],
          "heatmap": [
           {
            "colorbar": {
             "outlinewidth": 0,
             "ticks": ""
            },
            "colorscale": [
             [
              0,
              "#0d0887"
             ],
             [
              0.1111111111111111,
              "#46039f"
             ],
             [
              0.2222222222222222,
              "#7201a8"
             ],
             [
              0.3333333333333333,
              "#9c179e"
             ],
             [
              0.4444444444444444,
              "#bd3786"
             ],
             [
              0.5555555555555556,
              "#d8576b"
             ],
             [
              0.6666666666666666,
              "#ed7953"
             ],
             [
              0.7777777777777778,
              "#fb9f3a"
             ],
             [
              0.8888888888888888,
              "#fdca26"
             ],
             [
              1,
              "#f0f921"
             ]
            ],
            "type": "heatmap"
           }
          ],
          "heatmapgl": [
           {
            "colorbar": {
             "outlinewidth": 0,
             "ticks": ""
            },
            "colorscale": [
             [
              0,
              "#0d0887"
             ],
             [
              0.1111111111111111,
              "#46039f"
             ],
             [
              0.2222222222222222,
              "#7201a8"
             ],
             [
              0.3333333333333333,
              "#9c179e"
             ],
             [
              0.4444444444444444,
              "#bd3786"
             ],
             [
              0.5555555555555556,
              "#d8576b"
             ],
             [
              0.6666666666666666,
              "#ed7953"
             ],
             [
              0.7777777777777778,
              "#fb9f3a"
             ],
             [
              0.8888888888888888,
              "#fdca26"
             ],
             [
              1,
              "#f0f921"
             ]
            ],
            "type": "heatmapgl"
           }
          ],
          "histogram": [
           {
            "marker": {
             "pattern": {
              "fillmode": "overlay",
              "size": 10,
              "solidity": 0.2
             }
            },
            "type": "histogram"
           }
          ],
          "histogram2d": [
           {
            "colorbar": {
             "outlinewidth": 0,
             "ticks": ""
            },
            "colorscale": [
             [
              0,
              "#0d0887"
             ],
             [
              0.1111111111111111,
              "#46039f"
             ],
             [
              0.2222222222222222,
              "#7201a8"
             ],
             [
              0.3333333333333333,
              "#9c179e"
             ],
             [
              0.4444444444444444,
              "#bd3786"
             ],
             [
              0.5555555555555556,
              "#d8576b"
             ],
             [
              0.6666666666666666,
              "#ed7953"
             ],
             [
              0.7777777777777778,
              "#fb9f3a"
             ],
             [
              0.8888888888888888,
              "#fdca26"
             ],
             [
              1,
              "#f0f921"
             ]
            ],
            "type": "histogram2d"
           }
          ],
          "histogram2dcontour": [
           {
            "colorbar": {
             "outlinewidth": 0,
             "ticks": ""
            },
            "colorscale": [
             [
              0,
              "#0d0887"
             ],
             [
              0.1111111111111111,
              "#46039f"
             ],
             [
              0.2222222222222222,
              "#7201a8"
             ],
             [
              0.3333333333333333,
              "#9c179e"
             ],
             [
              0.4444444444444444,
              "#bd3786"
             ],
             [
              0.5555555555555556,
              "#d8576b"
             ],
             [
              0.6666666666666666,
              "#ed7953"
             ],
             [
              0.7777777777777778,
              "#fb9f3a"
             ],
             [
              0.8888888888888888,
              "#fdca26"
             ],
             [
              1,
              "#f0f921"
             ]
            ],
            "type": "histogram2dcontour"
           }
          ],
          "mesh3d": [
           {
            "colorbar": {
             "outlinewidth": 0,
             "ticks": ""
            },
            "type": "mesh3d"
           }
          ],
          "parcoords": [
           {
            "line": {
             "colorbar": {
              "outlinewidth": 0,
              "ticks": ""
             }
            },
            "type": "parcoords"
           }
          ],
          "pie": [
           {
            "automargin": true,
            "type": "pie"
           }
          ],
          "scatter": [
           {
            "fillpattern": {
             "fillmode": "overlay",
             "size": 10,
             "solidity": 0.2
            },
            "type": "scatter"
           }
          ],
          "scatter3d": [
           {
            "line": {
             "colorbar": {
              "outlinewidth": 0,
              "ticks": ""
             }
            },
            "marker": {
             "colorbar": {
              "outlinewidth": 0,
              "ticks": ""
             }
            },
            "type": "scatter3d"
           }
          ],
          "scattercarpet": [
           {
            "marker": {
             "colorbar": {
              "outlinewidth": 0,
              "ticks": ""
             }
            },
            "type": "scattercarpet"
           }
          ],
          "scattergeo": [
           {
            "marker": {
             "colorbar": {
              "outlinewidth": 0,
              "ticks": ""
             }
            },
            "type": "scattergeo"
           }
          ],
          "scattergl": [
           {
            "marker": {
             "colorbar": {
              "outlinewidth": 0,
              "ticks": ""
             }
            },
            "type": "scattergl"
           }
          ],
          "scattermapbox": [
           {
            "marker": {
             "colorbar": {
              "outlinewidth": 0,
              "ticks": ""
             }
            },
            "type": "scattermapbox"
           }
          ],
          "scatterpolar": [
           {
            "marker": {
             "colorbar": {
              "outlinewidth": 0,
              "ticks": ""
             }
            },
            "type": "scatterpolar"
           }
          ],
          "scatterpolargl": [
           {
            "marker": {
             "colorbar": {
              "outlinewidth": 0,
              "ticks": ""
             }
            },
            "type": "scatterpolargl"
           }
          ],
          "scatterternary": [
           {
            "marker": {
             "colorbar": {
              "outlinewidth": 0,
              "ticks": ""
             }
            },
            "type": "scatterternary"
           }
          ],
          "surface": [
           {
            "colorbar": {
             "outlinewidth": 0,
             "ticks": ""
            },
            "colorscale": [
             [
              0,
              "#0d0887"
             ],
             [
              0.1111111111111111,
              "#46039f"
             ],
             [
              0.2222222222222222,
              "#7201a8"
             ],
             [
              0.3333333333333333,
              "#9c179e"
             ],
             [
              0.4444444444444444,
              "#bd3786"
             ],
             [
              0.5555555555555556,
              "#d8576b"
             ],
             [
              0.6666666666666666,
              "#ed7953"
             ],
             [
              0.7777777777777778,
              "#fb9f3a"
             ],
             [
              0.8888888888888888,
              "#fdca26"
             ],
             [
              1,
              "#f0f921"
             ]
            ],
            "type": "surface"
           }
          ],
          "table": [
           {
            "cells": {
             "fill": {
              "color": "#EBF0F8"
             },
             "line": {
              "color": "white"
             }
            },
            "header": {
             "fill": {
              "color": "#C8D4E3"
             },
             "line": {
              "color": "white"
             }
            },
            "type": "table"
           }
          ]
         },
         "layout": {
          "annotationdefaults": {
           "arrowcolor": "#2a3f5f",
           "arrowhead": 0,
           "arrowwidth": 1
          },
          "autotypenumbers": "strict",
          "coloraxis": {
           "colorbar": {
            "outlinewidth": 0,
            "ticks": ""
           }
          },
          "colorscale": {
           "diverging": [
            [
             0,
             "#8e0152"
            ],
            [
             0.1,
             "#c51b7d"
            ],
            [
             0.2,
             "#de77ae"
            ],
            [
             0.3,
             "#f1b6da"
            ],
            [
             0.4,
             "#fde0ef"
            ],
            [
             0.5,
             "#f7f7f7"
            ],
            [
             0.6,
             "#e6f5d0"
            ],
            [
             0.7,
             "#b8e186"
            ],
            [
             0.8,
             "#7fbc41"
            ],
            [
             0.9,
             "#4d9221"
            ],
            [
             1,
             "#276419"
            ]
           ],
           "sequential": [
            [
             0,
             "#0d0887"
            ],
            [
             0.1111111111111111,
             "#46039f"
            ],
            [
             0.2222222222222222,
             "#7201a8"
            ],
            [
             0.3333333333333333,
             "#9c179e"
            ],
            [
             0.4444444444444444,
             "#bd3786"
            ],
            [
             0.5555555555555556,
             "#d8576b"
            ],
            [
             0.6666666666666666,
             "#ed7953"
            ],
            [
             0.7777777777777778,
             "#fb9f3a"
            ],
            [
             0.8888888888888888,
             "#fdca26"
            ],
            [
             1,
             "#f0f921"
            ]
           ],
           "sequentialminus": [
            [
             0,
             "#0d0887"
            ],
            [
             0.1111111111111111,
             "#46039f"
            ],
            [
             0.2222222222222222,
             "#7201a8"
            ],
            [
             0.3333333333333333,
             "#9c179e"
            ],
            [
             0.4444444444444444,
             "#bd3786"
            ],
            [
             0.5555555555555556,
             "#d8576b"
            ],
            [
             0.6666666666666666,
             "#ed7953"
            ],
            [
             0.7777777777777778,
             "#fb9f3a"
            ],
            [
             0.8888888888888888,
             "#fdca26"
            ],
            [
             1,
             "#f0f921"
            ]
           ]
          },
          "colorway": [
           "#636efa",
           "#EF553B",
           "#00cc96",
           "#ab63fa",
           "#FFA15A",
           "#19d3f3",
           "#FF6692",
           "#B6E880",
           "#FF97FF",
           "#FECB52"
          ],
          "font": {
           "color": "#2a3f5f"
          },
          "geo": {
           "bgcolor": "white",
           "lakecolor": "white",
           "landcolor": "#E5ECF6",
           "showlakes": true,
           "showland": true,
           "subunitcolor": "white"
          },
          "hoverlabel": {
           "align": "left"
          },
          "hovermode": "closest",
          "mapbox": {
           "style": "light"
          },
          "paper_bgcolor": "white",
          "plot_bgcolor": "#E5ECF6",
          "polar": {
           "angularaxis": {
            "gridcolor": "white",
            "linecolor": "white",
            "ticks": ""
           },
           "bgcolor": "#E5ECF6",
           "radialaxis": {
            "gridcolor": "white",
            "linecolor": "white",
            "ticks": ""
           }
          },
          "scene": {
           "xaxis": {
            "backgroundcolor": "#E5ECF6",
            "gridcolor": "white",
            "gridwidth": 2,
            "linecolor": "white",
            "showbackground": true,
            "ticks": "",
            "zerolinecolor": "white"
           },
           "yaxis": {
            "backgroundcolor": "#E5ECF6",
            "gridcolor": "white",
            "gridwidth": 2,
            "linecolor": "white",
            "showbackground": true,
            "ticks": "",
            "zerolinecolor": "white"
           },
           "zaxis": {
            "backgroundcolor": "#E5ECF6",
            "gridcolor": "white",
            "gridwidth": 2,
            "linecolor": "white",
            "showbackground": true,
            "ticks": "",
            "zerolinecolor": "white"
           }
          },
          "shapedefaults": {
           "line": {
            "color": "#2a3f5f"
           }
          },
          "ternary": {
           "aaxis": {
            "gridcolor": "white",
            "linecolor": "white",
            "ticks": ""
           },
           "baxis": {
            "gridcolor": "white",
            "linecolor": "white",
            "ticks": ""
           },
           "bgcolor": "#E5ECF6",
           "caxis": {
            "gridcolor": "white",
            "linecolor": "white",
            "ticks": ""
           }
          },
          "title": {
           "x": 0.05
          },
          "xaxis": {
           "automargin": true,
           "gridcolor": "white",
           "linecolor": "white",
           "ticks": "",
           "title": {
            "standoff": 15
           },
           "zerolinecolor": "white",
           "zerolinewidth": 2
          },
          "yaxis": {
           "automargin": true,
           "gridcolor": "white",
           "linecolor": "white",
           "ticks": "",
           "title": {
            "standoff": 15
           },
           "zerolinecolor": "white",
           "zerolinewidth": 2
          }
         }
        },
        "title": {
         "font": {
          "size": 24
         },
         "text": "Highlighted"
        },
        "width": 1620,
        "xaxis": {
         "showticklabels": false,
         "visible": false
        },
        "yaxis": {
         "showticklabels": false,
         "visible": false
        }
       }
      }
     },
     "metadata": {},
     "output_type": "display_data"
    }
   ],
   "source": [
    "highlighted_df = all_lv_df[all_lv_df.isin(highlighted_nodes_1).any(axis=1)]\n",
    "# st.dataframe(highlighted_df)\n",
    "sub_fig = sankey_graph(highlighted_df, selected_columns, highlighted_nodes_1, title= \"Highlighted\", color_map= color_map_v2)\n",
    "sub_fig"
   ]
  }
 ],
 "metadata": {
  "kernelspec": {
   "display_name": "base",
   "language": "python",
   "name": "python3"
  },
  "language_info": {
   "codemirror_mode": {
    "name": "ipython",
    "version": 3
   },
   "file_extension": ".py",
   "mimetype": "text/x-python",
   "name": "python",
   "nbconvert_exporter": "python",
   "pygments_lexer": "ipython3",
   "version": "3.10.9"
  }
 },
 "nbformat": 4,
 "nbformat_minor": 2
}
