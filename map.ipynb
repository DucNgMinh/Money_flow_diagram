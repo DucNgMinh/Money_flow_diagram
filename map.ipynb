{
 "cells": [
  {
   "cell_type": "code",
   "execution_count": 1,
   "metadata": {},
   "outputs": [],
   "source": [
    "import numpy as np\n",
    "import pandas as pd\n",
    "import plotly.graph_objects as go"
   ]
  },
  {
   "cell_type": "code",
   "execution_count": 2,
   "metadata": {},
   "outputs": [],
   "source": [
    "# map_df = pd.read_excel('2023-12-13 lv hierachy.xlsx')\n",
    "# map_df[['ORG_UNIT_ID', 'ORG_UNIT_NAME', 'LEVEL_02_CODE', 'LEVEL_02_NAME']].to_csv('map.csv', index= False)\n",
    "# map_df"
   ]
  },
  {
   "cell_type": "code",
   "execution_count": 3,
   "metadata": {},
   "outputs": [
    {
     "data": {
      "text/html": [
       "<div>\n",
       "<style scoped>\n",
       "    .dataframe tbody tr th:only-of-type {\n",
       "        vertical-align: middle;\n",
       "    }\n",
       "\n",
       "    .dataframe tbody tr th {\n",
       "        vertical-align: top;\n",
       "    }\n",
       "\n",
       "    .dataframe thead th {\n",
       "        text-align: right;\n",
       "    }\n",
       "</style>\n",
       "<table border=\"1\" class=\"dataframe\">\n",
       "  <thead>\n",
       "    <tr style=\"text-align: right;\">\n",
       "      <th></th>\n",
       "      <th>Join</th>\n",
       "      <th>Lv 4 name</th>\n",
       "      <th>Lv 3 name</th>\n",
       "      <th>Lv 2 name</th>\n",
       "      <th>Lv 1 name</th>\n",
       "      <th>Lv 0 name</th>\n",
       "      <th>Size</th>\n",
       "      <th>Lv0</th>\n",
       "      <th>Lv1</th>\n",
       "      <th>Lv2</th>\n",
       "      <th>Lv3</th>\n",
       "      <th>Lv4</th>\n",
       "      <th>LvPK</th>\n",
       "    </tr>\n",
       "  </thead>\n",
       "  <tbody>\n",
       "    <tr>\n",
       "      <th>0</th>\n",
       "      <td>1</td>\n",
       "      <td>BAN DINH CHE TAI CHINH_100</td>\n",
       "      <td>BAN MIS ALCO_500</td>\n",
       "      <td>VP_400</td>\n",
       "      <td>VP_400</td>\n",
       "      <td>BAN CONG NGHE</td>\n",
       "      <td>198</td>\n",
       "      <td>122400996221</td>\n",
       "      <td>117400996690</td>\n",
       "      <td>117400996690</td>\n",
       "      <td>116500996530</td>\n",
       "      <td>111100996040</td>\n",
       "      <td>90</td>\n",
       "    </tr>\n",
       "    <tr>\n",
       "      <th>1</th>\n",
       "      <td>1</td>\n",
       "      <td>BAN PHAT TRIEN NHBL_300</td>\n",
       "      <td>BAN MIS ALCO_500</td>\n",
       "      <td>BAN MIS ALCO_500</td>\n",
       "      <td>TT CNTT_400</td>\n",
       "      <td>BAN CONG NGHE</td>\n",
       "      <td>17488</td>\n",
       "      <td>122400996221</td>\n",
       "      <td>117400071000</td>\n",
       "      <td>116500996530</td>\n",
       "      <td>116500996530</td>\n",
       "      <td>112300996110</td>\n",
       "      <td>31</td>\n",
       "    </tr>\n",
       "    <tr>\n",
       "      <th>2</th>\n",
       "      <td>1</td>\n",
       "      <td>TT THE_200_QLRR</td>\n",
       "      <td>TTQTDL</td>\n",
       "      <td>VP_400</td>\n",
       "      <td>TT CNTT_400</td>\n",
       "      <td>BAN CONG NGHE</td>\n",
       "      <td>0</td>\n",
       "      <td>122400996221</td>\n",
       "      <td>117400071000</td>\n",
       "      <td>117400996690</td>\n",
       "      <td>122500996223</td>\n",
       "      <td>1122009961401</td>\n",
       "      <td>90</td>\n",
       "    </tr>\n",
       "    <tr>\n",
       "      <th>3</th>\n",
       "      <td>1</td>\n",
       "      <td>BAN KHDN  LON_100</td>\n",
       "      <td>BAN QLTS NOI NGANH_500</td>\n",
       "      <td>VP_400</td>\n",
       "      <td>TT CNTT_400</td>\n",
       "      <td>TT CNTT_400</td>\n",
       "      <td>8</td>\n",
       "      <td>117400071000</td>\n",
       "      <td>117400071000</td>\n",
       "      <td>117400996690</td>\n",
       "      <td>117500996620</td>\n",
       "      <td>111100996010</td>\n",
       "      <td>61</td>\n",
       "    </tr>\n",
       "    <tr>\n",
       "      <th>4</th>\n",
       "      <td>1</td>\n",
       "      <td>BAN NGUON VON UY THAC QUOC TE</td>\n",
       "      <td>BAN TAI CHINH</td>\n",
       "      <td>VP_400</td>\n",
       "      <td>VP_400</td>\n",
       "      <td>BAN CONG NGHE</td>\n",
       "      <td>0</td>\n",
       "      <td>122400996221</td>\n",
       "      <td>117400996690</td>\n",
       "      <td>117400996690</td>\n",
       "      <td>116500996510</td>\n",
       "      <td>111300996070</td>\n",
       "      <td>61</td>\n",
       "    </tr>\n",
       "    <tr>\n",
       "      <th>...</th>\n",
       "      <td>...</td>\n",
       "      <td>...</td>\n",
       "      <td>...</td>\n",
       "      <td>...</td>\n",
       "      <td>...</td>\n",
       "      <td>...</td>\n",
       "      <td>...</td>\n",
       "      <td>...</td>\n",
       "      <td>...</td>\n",
       "      <td>...</td>\n",
       "      <td>...</td>\n",
       "      <td>...</td>\n",
       "      <td>...</td>\n",
       "    </tr>\n",
       "    <tr>\n",
       "      <th>31899</th>\n",
       "      <td>1</td>\n",
       "      <td>VPDD LAO</td>\n",
       "      <td>VPDD LAO</td>\n",
       "      <td>VPDD LAO</td>\n",
       "      <td>TT CNTT_400</td>\n",
       "      <td>TT CNTT_400</td>\n",
       "      <td>38217</td>\n",
       "      <td>117400071000</td>\n",
       "      <td>117400071000</td>\n",
       "      <td>119500990848</td>\n",
       "      <td>119500990848</td>\n",
       "      <td>119500990848</td>\n",
       "      <td>99</td>\n",
       "    </tr>\n",
       "    <tr>\n",
       "      <th>31900</th>\n",
       "      <td>1</td>\n",
       "      <td>VPDD MYANMAR</td>\n",
       "      <td>VPDD MYANMAR</td>\n",
       "      <td>VPDD MYANMAR</td>\n",
       "      <td>TT CNTT_400</td>\n",
       "      <td>BAN CONG NGHE</td>\n",
       "      <td>30918</td>\n",
       "      <td>122400996221</td>\n",
       "      <td>117400071000</td>\n",
       "      <td>119500990838</td>\n",
       "      <td>119500990838</td>\n",
       "      <td>119500990838</td>\n",
       "      <td>99</td>\n",
       "    </tr>\n",
       "    <tr>\n",
       "      <th>31901</th>\n",
       "      <td>1</td>\n",
       "      <td>VPDD MYANMAR</td>\n",
       "      <td>VPDD MYANMAR</td>\n",
       "      <td>VPDD MYANMAR</td>\n",
       "      <td>TT CNTT_400</td>\n",
       "      <td>TT CNTT_400</td>\n",
       "      <td>2503142</td>\n",
       "      <td>117400071000</td>\n",
       "      <td>117400071000</td>\n",
       "      <td>119500990838</td>\n",
       "      <td>119500990838</td>\n",
       "      <td>119500990838</td>\n",
       "      <td>99</td>\n",
       "    </tr>\n",
       "    <tr>\n",
       "      <th>31902</th>\n",
       "      <td>1</td>\n",
       "      <td>VPDD SEC</td>\n",
       "      <td>VPDD SEC</td>\n",
       "      <td>VPDD SEC</td>\n",
       "      <td>TT CNTT_400</td>\n",
       "      <td>BAN CONG NGHE</td>\n",
       "      <td>233</td>\n",
       "      <td>122400996221</td>\n",
       "      <td>117400071000</td>\n",
       "      <td>119500990858</td>\n",
       "      <td>119500990858</td>\n",
       "      <td>119500990858</td>\n",
       "      <td>99</td>\n",
       "    </tr>\n",
       "    <tr>\n",
       "      <th>31903</th>\n",
       "      <td>1</td>\n",
       "      <td>VPDD SEC</td>\n",
       "      <td>VPDD SEC</td>\n",
       "      <td>VPDD SEC</td>\n",
       "      <td>TT CNTT_400</td>\n",
       "      <td>TT CNTT_400</td>\n",
       "      <td>19104</td>\n",
       "      <td>117400071000</td>\n",
       "      <td>117400071000</td>\n",
       "      <td>119500990858</td>\n",
       "      <td>119500990858</td>\n",
       "      <td>119500990858</td>\n",
       "      <td>99</td>\n",
       "    </tr>\n",
       "  </tbody>\n",
       "</table>\n",
       "<p>31904 rows × 13 columns</p>\n",
       "</div>"
      ],
      "text/plain": [
       "       Join                      Lv 4 name               Lv 3 name  \\\n",
       "0         1     BAN DINH CHE TAI CHINH_100        BAN MIS ALCO_500   \n",
       "1         1        BAN PHAT TRIEN NHBL_300        BAN MIS ALCO_500   \n",
       "2         1                TT THE_200_QLRR                  TTQTDL   \n",
       "3         1              BAN KHDN  LON_100  BAN QLTS NOI NGANH_500   \n",
       "4         1  BAN NGUON VON UY THAC QUOC TE           BAN TAI CHINH   \n",
       "...     ...                            ...                     ...   \n",
       "31899     1                       VPDD LAO                VPDD LAO   \n",
       "31900     1                   VPDD MYANMAR            VPDD MYANMAR   \n",
       "31901     1                   VPDD MYANMAR            VPDD MYANMAR   \n",
       "31902     1                       VPDD SEC                VPDD SEC   \n",
       "31903     1                       VPDD SEC                VPDD SEC   \n",
       "\n",
       "              Lv 2 name    Lv 1 name      Lv 0 name     Size           Lv0  \\\n",
       "0                VP_400       VP_400  BAN CONG NGHE      198  122400996221   \n",
       "1      BAN MIS ALCO_500  TT CNTT_400  BAN CONG NGHE    17488  122400996221   \n",
       "2                VP_400  TT CNTT_400  BAN CONG NGHE        0  122400996221   \n",
       "3                VP_400  TT CNTT_400    TT CNTT_400        8  117400071000   \n",
       "4                VP_400       VP_400  BAN CONG NGHE        0  122400996221   \n",
       "...                 ...          ...            ...      ...           ...   \n",
       "31899          VPDD LAO  TT CNTT_400    TT CNTT_400    38217  117400071000   \n",
       "31900      VPDD MYANMAR  TT CNTT_400  BAN CONG NGHE    30918  122400996221   \n",
       "31901      VPDD MYANMAR  TT CNTT_400    TT CNTT_400  2503142  117400071000   \n",
       "31902          VPDD SEC  TT CNTT_400  BAN CONG NGHE      233  122400996221   \n",
       "31903          VPDD SEC  TT CNTT_400    TT CNTT_400    19104  117400071000   \n",
       "\n",
       "                Lv1           Lv2           Lv3            Lv4  LvPK  \n",
       "0      117400996690  117400996690  116500996530   111100996040    90  \n",
       "1      117400071000  116500996530  116500996530   112300996110    31  \n",
       "2      117400071000  117400996690  122500996223  1122009961401    90  \n",
       "3      117400071000  117400996690  117500996620   111100996010    61  \n",
       "4      117400996690  117400996690  116500996510   111300996070    61  \n",
       "...             ...           ...           ...            ...   ...  \n",
       "31899  117400071000  119500990848  119500990848   119500990848    99  \n",
       "31900  117400071000  119500990838  119500990838   119500990838    99  \n",
       "31901  117400071000  119500990838  119500990838   119500990838    99  \n",
       "31902  117400071000  119500990858  119500990858   119500990858    99  \n",
       "31903  117400071000  119500990858  119500990858   119500990858    99  \n",
       "\n",
       "[31904 rows x 13 columns]"
      ]
     },
     "execution_count": 3,
     "metadata": {},
     "output_type": "execute_result"
    }
   ],
   "source": [
    "trans_df = pd.read_csv(\"sample data lv pk.csv\")\n",
    "trans_df"
   ]
  },
  {
   "cell_type": "code",
   "execution_count": 4,
   "metadata": {},
   "outputs": [
    {
     "data": {
      "text/html": [
       "<div>\n",
       "<style scoped>\n",
       "    .dataframe tbody tr th:only-of-type {\n",
       "        vertical-align: middle;\n",
       "    }\n",
       "\n",
       "    .dataframe tbody tr th {\n",
       "        vertical-align: top;\n",
       "    }\n",
       "\n",
       "    .dataframe thead th {\n",
       "        text-align: right;\n",
       "    }\n",
       "</style>\n",
       "<table border=\"1\" class=\"dataframe\">\n",
       "  <thead>\n",
       "    <tr style=\"text-align: right;\">\n",
       "      <th></th>\n",
       "      <th>ORG_UNIT_ID</th>\n",
       "      <th>ORG_UNIT_NAME</th>\n",
       "      <th>LEVEL_02_CODE</th>\n",
       "      <th>LEVEL_02_NAME</th>\n",
       "    </tr>\n",
       "  </thead>\n",
       "  <tbody>\n",
       "    <tr>\n",
       "      <th>0</th>\n",
       "      <td>7199</td>\n",
       "      <td>PHONG MISSING_TT CNTT</td>\n",
       "      <td>400</td>\n",
       "      <td>TT DICH VU NOI BO</td>\n",
       "    </tr>\n",
       "    <tr>\n",
       "      <th>1</th>\n",
       "      <td>7299</td>\n",
       "      <td>PHONG MISSING_VIEN DAO TAO VA NGHIEN CUU</td>\n",
       "      <td>500</td>\n",
       "      <td>TT QUAN LY CHUNG TOAN HANG</td>\n",
       "    </tr>\n",
       "    <tr>\n",
       "      <th>2</th>\n",
       "      <td>7399</td>\n",
       "      <td>PHONG MISSING_VAN PHONG DAI DIEN DA NANG</td>\n",
       "      <td>500</td>\n",
       "      <td>TT QUAN LY CHUNG TOAN HANG</td>\n",
       "    </tr>\n",
       "    <tr>\n",
       "      <th>3</th>\n",
       "      <td>7499</td>\n",
       "      <td>PHONG MISSING_VAN PHONG DAI DIEN CAN THO</td>\n",
       "      <td>500</td>\n",
       "      <td>TT QUAN LY CHUNG TOAN HANG</td>\n",
       "    </tr>\n",
       "    <tr>\n",
       "      <th>4</th>\n",
       "      <td>11199</td>\n",
       "      <td>PHONG MISSING_CN TT SAI GON</td>\n",
       "      <td>0</td>\n",
       "      <td>TT AO</td>\n",
       "    </tr>\n",
       "    <tr>\n",
       "      <th>...</th>\n",
       "      <td>...</td>\n",
       "      <td>...</td>\n",
       "      <td>...</td>\n",
       "      <td>...</td>\n",
       "    </tr>\n",
       "    <tr>\n",
       "      <th>4764</th>\n",
       "      <td>1131009962102</td>\n",
       "      <td>BDS 996_BAN KINH DOANH VON VA TIEN TE_TU DOANH</td>\n",
       "      <td>100</td>\n",
       "      <td>TT DOANH THU</td>\n",
       "    </tr>\n",
       "    <tr>\n",
       "      <th>4765</th>\n",
       "      <td>1174009906901</td>\n",
       "      <td>VAN PHONG_BAN LANH DAO</td>\n",
       "      <td>400</td>\n",
       "      <td>TT DICH VU NOI BO</td>\n",
       "    </tr>\n",
       "    <tr>\n",
       "      <th>4766</th>\n",
       "      <td>1174009906902</td>\n",
       "      <td>VAN PHONG_QUAN LY CHUNG</td>\n",
       "      <td>400</td>\n",
       "      <td>TT DICH VU NOI BO</td>\n",
       "    </tr>\n",
       "    <tr>\n",
       "      <th>4767</th>\n",
       "      <td>1174009966901</td>\n",
       "      <td>BDS 996_VAN PHONG_BAN LANH DAO</td>\n",
       "      <td>400</td>\n",
       "      <td>TT DICH VU NOI BO</td>\n",
       "    </tr>\n",
       "    <tr>\n",
       "      <th>4768</th>\n",
       "      <td>1174009966902</td>\n",
       "      <td>BDS 996_VAN PHONG_QUAN LY CHUNG</td>\n",
       "      <td>400</td>\n",
       "      <td>TT DICH VU NOI BO</td>\n",
       "    </tr>\n",
       "  </tbody>\n",
       "</table>\n",
       "<p>4769 rows × 4 columns</p>\n",
       "</div>"
      ],
      "text/plain": [
       "        ORG_UNIT_ID                                   ORG_UNIT_NAME  \\\n",
       "0              7199                           PHONG MISSING_TT CNTT   \n",
       "1              7299        PHONG MISSING_VIEN DAO TAO VA NGHIEN CUU   \n",
       "2              7399        PHONG MISSING_VAN PHONG DAI DIEN DA NANG   \n",
       "3              7499        PHONG MISSING_VAN PHONG DAI DIEN CAN THO   \n",
       "4             11199                     PHONG MISSING_CN TT SAI GON   \n",
       "...             ...                                             ...   \n",
       "4764  1131009962102  BDS 996_BAN KINH DOANH VON VA TIEN TE_TU DOANH   \n",
       "4765  1174009906901                          VAN PHONG_BAN LANH DAO   \n",
       "4766  1174009906902                         VAN PHONG_QUAN LY CHUNG   \n",
       "4767  1174009966901                  BDS 996_VAN PHONG_BAN LANH DAO   \n",
       "4768  1174009966902                 BDS 996_VAN PHONG_QUAN LY CHUNG   \n",
       "\n",
       "      LEVEL_02_CODE               LEVEL_02_NAME  \n",
       "0               400           TT DICH VU NOI BO  \n",
       "1               500  TT QUAN LY CHUNG TOAN HANG  \n",
       "2               500  TT QUAN LY CHUNG TOAN HANG  \n",
       "3               500  TT QUAN LY CHUNG TOAN HANG  \n",
       "4                 0                       TT AO  \n",
       "...             ...                         ...  \n",
       "4764            100                TT DOANH THU  \n",
       "4765            400           TT DICH VU NOI BO  \n",
       "4766            400           TT DICH VU NOI BO  \n",
       "4767            400           TT DICH VU NOI BO  \n",
       "4768            400           TT DICH VU NOI BO  \n",
       "\n",
       "[4769 rows x 4 columns]"
      ]
     },
     "execution_count": 4,
     "metadata": {},
     "output_type": "execute_result"
    }
   ],
   "source": [
    "map_df = pd.read_csv('map.csv')\n",
    "map_df"
   ]
  },
  {
   "cell_type": "code",
   "execution_count": 5,
   "metadata": {},
   "outputs": [
    {
     "data": {
      "text/plain": [
       "array(['TT DICH VU NOI BO', 'TT QUAN LY CHUNG TOAN HANG', 'TT AO',\n",
       "       'KHONG CO TRONG CAY', 'TT DOANH THU',\n",
       "       'TT QUAN LY CHUNG KHOI KINH DOANH', 'TT HO TRO TRUC TIEP',\n",
       "       'TT HO TRO SAN PHAM', 'TT QUAN LY CHUNG CHI NHANH'], dtype=object)"
      ]
     },
     "execution_count": 5,
     "metadata": {},
     "output_type": "execute_result"
    }
   ],
   "source": [
    "map_df['LEVEL_02_NAME'].unique()"
   ]
  },
  {
   "cell_type": "code",
   "execution_count": 6,
   "metadata": {},
   "outputs": [
    {
     "data": {
      "text/plain": [
       "{7199: 'TT DICH VU NOI BO',\n",
       " 7299: 'TT QUAN LY CHUNG TOAN HANG',\n",
       " 7399: 'TT QUAN LY CHUNG TOAN HANG',\n",
       " 7499: 'TT QUAN LY CHUNG TOAN HANG',\n",
       " 11199: 'TT AO',\n",
       " 11699: 'TT AO',\n",
       " 11799: 'TT AO',\n",
       " 11899: 'TT AO',\n",
       " 11999: 'TT AO',\n",
       " 12099: 'TT AO',\n",
       " 12199: 'TT AO',\n",
       " 12299: 'TT AO',\n",
       " 12399: 'TT AO',\n",
       " 12499: 'TT AO',\n",
       " 12599: 'TT AO',\n",
       " 12699: 'TT AO',\n",
       " 12899: 'TT AO',\n",
       " 12999: 'TT AO',\n",
       " 13099: 'TT AO',\n",
       " 13199: 'TT QUAN LY CHUNG TOAN HANG',\n",
       " 13299: 'TT AO',\n",
       " 13399: 'TT AO',\n",
       " 13499: 'TT AO',\n",
       " 13599: 'TT AO',\n",
       " 13699: 'TT AO',\n",
       " 13899: 'TT AO',\n",
       " 13999: 'TT AO',\n",
       " 14099: 'TT AO',\n",
       " 14199: 'TT AO',\n",
       " 14499: 'TT AO',\n",
       " 14599: 'TT AO',\n",
       " 14799: 'TT AO',\n",
       " 14999: 'TT AO',\n",
       " 15099: 'TT AO',\n",
       " 15199: 'TT AO',\n",
       " 15999: 'TT AO',\n",
       " 16099: 'TT AO',\n",
       " 16699: 'TT AO',\n",
       " 16899: 'TT AO',\n",
       " 16999: 'TT AO',\n",
       " 17799: 'TT AO',\n",
       " 17999: 'TT AO',\n",
       " 18099: 'TT AO',\n",
       " 18199: 'TT AO',\n",
       " 18699: 'TT AO',\n",
       " 18899: 'TT AO',\n",
       " 18999: 'TT AO',\n",
       " 19999: 'TT AO',\n",
       " 21199: 'TT AO',\n",
       " 21299: 'TT AO',\n",
       " 21399: 'TT AO',\n",
       " 21499: 'TT AO',\n",
       " 21599: 'TT AO',\n",
       " 21699: 'TT AO',\n",
       " 21799: 'TT AO',\n",
       " 22099: 'TT AO',\n",
       " 22299: 'TT AO',\n",
       " 25699: 'TT AO',\n",
       " 26099: 'TT AO',\n",
       " 26199: 'TT AO',\n",
       " 26899: 'TT AO',\n",
       " 27999: 'TT AO',\n",
       " 28999: 'TT AO',\n",
       " 31099: 'TT AO',\n",
       " 31199: 'TT AO',\n",
       " 31299: 'TT AO',\n",
       " 31399: 'TT AO',\n",
       " 31499: 'TT AO',\n",
       " 31599: 'TT AO',\n",
       " 31699: 'TT AO',\n",
       " 31799: 'TT AO',\n",
       " 31899: 'TT AO',\n",
       " 31999: 'TT AO',\n",
       " 32199: 'TT AO',\n",
       " 32399: 'TT AO',\n",
       " 32899: 'TT AO',\n",
       " 33099: 'TT AO',\n",
       " 34199: 'TT AO',\n",
       " 34599: 'TT AO',\n",
       " 34699: 'TT AO',\n",
       " 35199: 'TT AO',\n",
       " 35299: 'TT AO',\n",
       " 35399: 'TT AO',\n",
       " 36099: 'TT AO',\n",
       " 36299: 'TT AO',\n",
       " 36899: 'TT AO',\n",
       " 37199: 'TT AO',\n",
       " 37599: 'TT AO',\n",
       " 37699: 'TT AO',\n",
       " 37899: 'TT AO',\n",
       " 39099: 'TT AO',\n",
       " 39599: 'TT AO',\n",
       " 39899: 'TT AO',\n",
       " 41199: 'TT AO',\n",
       " 41299: 'TT AO',\n",
       " 41399: 'TT AO',\n",
       " 42199: 'TT AO',\n",
       " 42299: 'TT AO',\n",
       " 42399: 'TT AO',\n",
       " 42499: 'TT AO',\n",
       " 42599: 'TT AO',\n",
       " 42699: 'TT AO',\n",
       " 42799: 'TT AO',\n",
       " 42899: 'TT AO',\n",
       " 43099: 'TT AO',\n",
       " 43199: 'TT AO',\n",
       " 43299: 'TT AO',\n",
       " 43399: 'TT AO',\n",
       " 44099: 'TT AO',\n",
       " 44199: 'TT AO',\n",
       " 44299: 'TT AO',\n",
       " 44399: 'TT AO',\n",
       " 44499: 'TT AO',\n",
       " 44599: 'TT AO',\n",
       " 44699: 'TT AO',\n",
       " 44899: 'TT AO',\n",
       " 45099: 'TT AO',\n",
       " 45199: 'TT AO',\n",
       " 45299: 'TT AO',\n",
       " 45599: 'TT AO',\n",
       " 46099: 'TT AO',\n",
       " 46199: 'TT AO',\n",
       " 46299: 'TT AO',\n",
       " 46399: 'TT AO',\n",
       " 46599: 'TT AO',\n",
       " 46699: 'TT AO',\n",
       " 46899: 'TT AO',\n",
       " 47199: 'TT AO',\n",
       " 48099: 'TT AO',\n",
       " 48299: 'TT AO',\n",
       " 48399: 'TT AO',\n",
       " 48699: 'TT AO',\n",
       " 48899: 'TT AO',\n",
       " 50199: 'TT AO',\n",
       " 50299: 'TT AO',\n",
       " 50599: 'TT AO',\n",
       " 51099: 'TT AO',\n",
       " 51199: 'TT AO',\n",
       " 51299: 'TT AO',\n",
       " 51399: 'TT AO',\n",
       " 51499: 'TT AO',\n",
       " 51599: 'TT AO',\n",
       " 51899: 'TT AO',\n",
       " 52099: 'TT AO',\n",
       " 52199: 'TT AO',\n",
       " 52299: 'TT AO',\n",
       " 53199: 'TT AO',\n",
       " 53299: 'TT AO',\n",
       " 53399: 'TT AO',\n",
       " 53499: 'TT AO',\n",
       " 54099: 'TT AO',\n",
       " 55199: 'TT AO',\n",
       " 55699: 'TT AO',\n",
       " 55899: 'TT AO',\n",
       " 56099: 'TT AO',\n",
       " 56199: 'TT AO',\n",
       " 56299: 'TT AO',\n",
       " 56399: 'TT AO',\n",
       " 56499: 'TT AO',\n",
       " 56599: 'TT AO',\n",
       " 56699: 'TT AO',\n",
       " 57099: 'TT AO',\n",
       " 57399: 'TT AO',\n",
       " 58099: 'TT AO',\n",
       " 58199: 'TT AO',\n",
       " 58299: 'TT AO',\n",
       " 59099: 'TT AO',\n",
       " 60199: 'TT AO',\n",
       " 60299: 'TT AO',\n",
       " 61199: 'TT AO',\n",
       " 61599: 'TT AO',\n",
       " 61699: 'TT AO',\n",
       " 62099: 'TT AO',\n",
       " 62199: 'TT AO',\n",
       " 62299: 'TT AO',\n",
       " 62399: 'TT AO',\n",
       " 62499: 'TT AO',\n",
       " 62599: 'TT AO',\n",
       " 62699: 'TT AO',\n",
       " 63199: 'TT AO',\n",
       " 63299: 'TT AO',\n",
       " 63399: 'TT AO',\n",
       " 63499: 'TT AO',\n",
       " 63599: 'TT AO',\n",
       " 63699: 'TT AO',\n",
       " 64199: 'TT AO',\n",
       " 64299: 'TT AO',\n",
       " 64399: 'TT AO',\n",
       " 64699: 'TT AO',\n",
       " 65099: 'TT AO',\n",
       " 65199: 'TT AO',\n",
       " 65299: 'TT AO',\n",
       " 65399: 'TT AO',\n",
       " 65599: 'TT AO',\n",
       " 65699: 'TT AO',\n",
       " 66199: 'TT AO',\n",
       " 67099: 'TT AO',\n",
       " 67199: 'TT AO',\n",
       " 67299: 'TT AO',\n",
       " 67999: 'TT AO',\n",
       " 68099: 'TT AO',\n",
       " 68199: 'TT AO',\n",
       " 68699: 'TT AO',\n",
       " 69199: 'TT AO',\n",
       " 69299: 'TT AO',\n",
       " 69399: 'TT AO',\n",
       " 69499: 'TT AO',\n",
       " 69699: 'TT AO',\n",
       " 70199: 'TT AO',\n",
       " 70299: 'TT AO',\n",
       " 70899: 'TT AO',\n",
       " 70999: 'TT AO',\n",
       " 71099: 'TT AO',\n",
       " 71199: 'TT AO',\n",
       " 72199: 'TT AO',\n",
       " 72999: 'TT AO',\n",
       " 73099: 'TT AO',\n",
       " 73199: 'TT AO',\n",
       " 73499: 'TT AO',\n",
       " 73599: 'TT AO',\n",
       " 73699: 'TT AO',\n",
       " 73799: 'TT AO',\n",
       " 73999: 'TT AO',\n",
       " 74099: 'TT AO',\n",
       " 74199: 'TT AO',\n",
       " 74299: 'TT AO',\n",
       " 74499: 'TT AO',\n",
       " 74599: 'TT AO',\n",
       " 74899: 'TT AO',\n",
       " 75099: 'TT AO',\n",
       " 75199: 'TT AO',\n",
       " 75299: 'TT AO',\n",
       " 75399: 'TT AO',\n",
       " 75499: 'TT AO',\n",
       " 76099: 'TT AO',\n",
       " 76199: 'TT AO',\n",
       " 76299: 'TT AO',\n",
       " 76699: 'TT AO',\n",
       " 76899: 'TT AO',\n",
       " 78099: 'TT AO',\n",
       " 78599: 'TT AO',\n",
       " 78699: 'TT AO',\n",
       " 78899: 'TT AO',\n",
       " 81899: 'TT AO',\n",
       " 87899: 'TT AO',\n",
       " 99099: 'TT AO',\n",
       " 99199: 'TT AO',\n",
       " 99699: 'TT AO',\n",
       " 99899: 'TT AO',\n",
       " 999999999: 'KHONG CO TRONG CAY',\n",
       " 110000990250: 'TT AO',\n",
       " 110000996250: 'TT AO',\n",
       " 110100990250: 'TT DOANH THU',\n",
       " 110100996250: 'TT DOANH THU',\n",
       " 110300990000: 'TT QUAN LY CHUNG KHOI KINH DOANH',\n",
       " 110400990250: 'TT DICH VU NOI BO',\n",
       " 110400996250: 'TT DICH VU NOI BO',\n",
       " 111000990010: 'TT AO',\n",
       " 111000990012: 'TT AO',\n",
       " 111000990016: 'TT AO',\n",
       " 111000990040: 'TT AO',\n",
       " 111000996010: 'TT AO',\n",
       " 111000996012: 'TT AO',\n",
       " 111000996016: 'TT AO',\n",
       " 111000996040: 'TT AO',\n",
       " 111100111021: 'TT DOANH THU',\n",
       " 111100116021: 'TT DOANH THU',\n",
       " 111100117021: 'TT DOANH THU',\n",
       " 111100118021: 'TT DOANH THU',\n",
       " 111100119021: 'TT DOANH THU',\n",
       " 111100119027: 'TT DOANH THU',\n",
       " 111100120021: 'TT DOANH THU',\n",
       " 111100120022: 'TT DOANH THU',\n",
       " 111100120023: 'TT DOANH THU',\n",
       " 111100120024: 'TT DOANH THU',\n",
       " 111100120025: 'TT DOANH THU',\n",
       " 111100120026: 'TT DOANH THU',\n",
       " 111100121021: 'TT DOANH THU',\n",
       " 111100121022: 'TT DOANH THU',\n",
       " 111100121023: 'TT DOANH THU',\n",
       " 111100122021: 'TT DOANH THU',\n",
       " 111100122022: 'TT DOANH THU',\n",
       " 111100122023: 'TT DOANH THU',\n",
       " 111100122024: 'TT DOANH THU',\n",
       " 111100122025: 'TT DOANH THU',\n",
       " 111100122028: 'TT DOANH THU',\n",
       " 111100123021: 'TT DOANH THU',\n",
       " 111100123022: 'TT DOANH THU',\n",
       " 111100123023: 'TT DOANH THU',\n",
       " 111100124021: 'TT DOANH THU',\n",
       " 111100124022: 'TT DOANH THU',\n",
       " 111100124023: 'TT DOANH THU',\n",
       " 111100124024: 'TT DOANH THU',\n",
       " 111100125021: 'TT DOANH THU',\n",
       " 111100125022: 'TT DOANH THU',\n",
       " 111100125023: 'TT DOANH THU',\n",
       " 111100126021: 'TT DOANH THU',\n",
       " 111100126022: 'TT DOANH THU',\n",
       " 111100126023: 'TT DOANH THU',\n",
       " 111100128021: 'TT DOANH THU',\n",
       " 111100128022: 'TT DOANH THU',\n",
       " 111100129021: 'TT DOANH THU',\n",
       " 111100129022: 'TT DOANH THU',\n",
       " 111100129023: 'TT DOANH THU',\n",
       " 111100130021: 'TT DOANH THU',\n",
       " 111100130022: 'TT DOANH THU',\n",
       " 111100130023: 'TT DOANH THU',\n",
       " 111100130024: 'TT DOANH THU',\n",
       " 111100130025: 'TT DOANH THU',\n",
       " 111100130026: 'TT DOANH THU',\n",
       " 111100132021: 'TT DOANH THU',\n",
       " 111100132022: 'TT DOANH THU',\n",
       " 111100133021: 'TT DOANH THU',\n",
       " 111100134021: 'TT DOANH THU',\n",
       " 111100135021: 'TT DOANH THU',\n",
       " 111100135022: 'TT DOANH THU',\n",
       " 111100136021: 'TT DOANH THU',\n",
       " 111100138021: 'TT DOANH THU',\n",
       " 111100138022: 'TT DOANH THU',\n",
       " 111100139021: 'TT DOANH THU',\n",
       " 111100140021: 'TT DOANH THU',\n",
       " 111100140022: 'TT DOANH THU',\n",
       " 111100140023: 'TT DOANH THU',\n",
       " 111100141021: 'TT DOANH THU',\n",
       " 111100141022: 'TT DOANH THU',\n",
       " 111100141023: 'TT DOANH THU',\n",
       " 111100141024: 'TT DOANH THU',\n",
       " 111100144021: 'TT DOANH THU',\n",
       " 111100144022: 'TT DOANH THU',\n",
       " 111100145021: 'TT DOANH THU',\n",
       " 111100147021: 'TT DOANH THU',\n",
       " 111100147022: 'TT DOANH THU',\n",
       " 111100147023: 'TT DOANH THU',\n",
       " 111100147024: 'TT DOANH THU',\n",
       " 111100149021: 'TT DOANH THU',\n",
       " 111100149022: 'TT DOANH THU',\n",
       " 111100150021: 'TT DOANH THU',\n",
       " 111100150022: 'TT DOANH THU',\n",
       " 111100150023: 'TT DOANH THU',\n",
       " 111100150025: 'TT DOANH THU',\n",
       " 111100151021: 'TT DOANH THU',\n",
       " 111100151022: 'TT DOANH THU',\n",
       " 111100151023: 'TT DOANH THU',\n",
       " 111100151024: 'TT DOANH THU',\n",
       " 111100159021: 'TT DOANH THU',\n",
       " 111100160021: 'TT DOANH THU',\n",
       " 111100160022: 'TT DOANH THU',\n",
       " 111100160023: 'TT DOANH THU',\n",
       " 111100160024: 'TT DOANH THU',\n",
       " 111100160081: 'TT DOANH THU',\n",
       " 111100160082: 'TT DOANH THU',\n",
       " 111100166021: 'TT DOANH THU',\n",
       " 111100168021: 'TT DOANH THU',\n",
       " 111100168022: 'TT DOANH THU',\n",
       " 111100169021: 'TT DOANH THU',\n",
       " 111100177021: 'TT DOANH THU',\n",
       " 111100179021: 'TT DOANH THU',\n",
       " 111100180021: 'TT DOANH THU',\n",
       " 111100180022: 'TT DOANH THU',\n",
       " 111100181021: 'TT DOANH THU',\n",
       " 111100186021: 'TT DOANH THU',\n",
       " 111100188021: 'TT DOANH THU',\n",
       " 111100189021: 'TT DOANH THU',\n",
       " 111100199021: 'TT DOANH THU',\n",
       " 111100199023: 'TT DOANH THU',\n",
       " 111100211021: 'TT DOANH THU',\n",
       " 111100211022: 'TT DOANH THU',\n",
       " 111100211023: 'TT DOANH THU',\n",
       " 111100211024: 'TT DOANH THU',\n",
       " 111100211025: 'TT DOANH THU',\n",
       " 111100212021: 'TT DOANH THU',\n",
       " 111100212022: 'TT DOANH THU',\n",
       " 111100212023: 'TT DOANH THU',\n",
       " 111100213021: 'TT DOANH THU',\n",
       " 111100213022: 'TT DOANH THU',\n",
       " 111100214021: 'TT DOANH THU',\n",
       " 111100214022: 'TT DOANH THU',\n",
       " 111100214023: 'TT DOANH THU',\n",
       " 111100214025: 'TT DOANH THU',\n",
       " 111100215021: 'TT DOANH THU',\n",
       " 111100215022: 'TT DOANH THU',\n",
       " 111100215023: 'TT DOANH THU',\n",
       " 111100215026: 'TT DOANH THU',\n",
       " 111100216021: 'TT DOANH THU',\n",
       " 111100216022: 'TT DOANH THU',\n",
       " 111100217021: 'TT DOANH THU',\n",
       " 111100217022: 'TT DOANH THU',\n",
       " 111100217024: 'TT DOANH THU',\n",
       " 111100220021: 'TT DOANH THU',\n",
       " 111100220022: 'TT DOANH THU',\n",
       " 111100220023: 'TT DOANH THU',\n",
       " 111100222021: 'TT DOANH THU',\n",
       " 111100222022: 'TT DOANH THU',\n",
       " 111100222023: 'TT DOANH THU',\n",
       " 111100222025: 'TT DOANH THU',\n",
       " 111100222026: 'TT DOANH THU',\n",
       " 111100222031: 'TT DOANH THU',\n",
       " 111100256021: 'TT DOANH THU',\n",
       " 111100256022: 'TT DOANH THU',\n",
       " 111100260021: 'TT DOANH THU',\n",
       " 111100260022: 'TT DOANH THU',\n",
       " 111100260023: 'TT DOANH THU',\n",
       " 111100268021: 'TT DOANH THU',\n",
       " 111100268022: 'TT DOANH THU',\n",
       " 111100268023: 'TT DOANH THU',\n",
       " 111100279021: 'TT DOANH THU',\n",
       " 111100289021: 'TT DOANH THU',\n",
       " 111100289022: 'TT DOANH THU',\n",
       " 111100310021: 'TT DOANH THU',\n",
       " 111100310022: 'TT DOANH THU',\n",
       " 111100310023: 'TT DOANH THU',\n",
       " 111100310024: 'TT DOANH THU',\n",
       " 111100310025: 'TT DOANH THU',\n",
       " 111100311021: 'TT DOANH THU',\n",
       " 111100311022: 'TT DOANH THU',\n",
       " 111100313021: 'TT DOANH THU',\n",
       " 111100313022: 'TT DOANH THU',\n",
       " 111100313023: 'TT DOANH THU',\n",
       " 111100314021: 'TT DOANH THU',\n",
       " 111100314022: 'TT DOANH THU',\n",
       " 111100315021: 'TT DOANH THU',\n",
       " 111100315022: 'TT DOANH THU',\n",
       " 111100317021: 'TT DOANH THU',\n",
       " 111100317022: 'TT DOANH THU',\n",
       " 111100318021: 'TT DOANH THU',\n",
       " 111100318022: 'TT DOANH THU',\n",
       " 111100319021: 'TT DOANH THU',\n",
       " 111100321021: 'TT DOANH THU',\n",
       " 111100321022: 'TT DOANH THU',\n",
       " 111100323021: 'TT DOANH THU',\n",
       " 111100323022: 'TT DOANH THU',\n",
       " 111100328021: 'TT DOANH THU',\n",
       " 111100330021: 'TT DOANH THU',\n",
       " 111100341021: 'TT DOANH THU',\n",
       " 111100345021: 'TT DOANH THU',\n",
       " 111100351021: 'TT DOANH THU',\n",
       " 111100360021: 'TT DOANH THU',\n",
       " 111100362021: 'TT DOANH THU',\n",
       " 111100368021: 'TT DOANH THU',\n",
       " 111100371021: 'TT DOANH THU',\n",
       " 111100375021: 'TT DOANH THU',\n",
       " 111100375022: 'TT DOANH THU',\n",
       " 111100376021: 'TT DOANH THU',\n",
       " 111100390021: 'TT DOANH THU',\n",
       " 111100390022: 'TT DOANH THU',\n",
       " 111100390023: 'TT DOANH THU',\n",
       " 111100395021: 'TT DOANH THU',\n",
       " 111100398021: 'TT DOANH THU',\n",
       " 111100398022: 'TT DOANH THU',\n",
       " 111100411021: 'TT DOANH THU',\n",
       " 111100421021: 'TT DOANH THU',\n",
       " 111100421022: 'TT DOANH THU',\n",
       " 111100421023: 'TT DOANH THU',\n",
       " 111100425021: 'TT DOANH THU',\n",
       " 111100425022: 'TT DOANH THU',\n",
       " 111100425024: 'TT DOANH THU',\n",
       " 111100426021: 'TT DOANH THU',\n",
       " 111100427021: 'TT DOANH THU',\n",
       " 111100428021: 'TT DOANH THU',\n",
       " 111100431021: 'TT DOANH THU',\n",
       " 111100431022: 'TT DOANH THU',\n",
       " 111100432021: 'TT DOANH THU',\n",
       " 111100432022: 'TT DOANH THU',\n",
       " 111100433021: 'TT DOANH THU',\n",
       " 111100440021: 'TT DOANH THU',\n",
       " 111100441021: 'TT DOANH THU',\n",
       " 111100443021: 'TT DOANH THU',\n",
       " 111100444021: 'TT DOANH THU',\n",
       " 111100448021: 'TT DOANH THU',\n",
       " 111100450021: 'TT DOANH THU',\n",
       " 111100450022: 'TT DOANH THU',\n",
       " 111100450023: 'TT DOANH THU',\n",
       " 111100451021: 'TT DOANH THU',\n",
       " 111100451022: 'TT DOANH THU',\n",
       " 111100452021: 'TT DOANH THU',\n",
       " 111100452022: 'TT DOANH THU',\n",
       " 111100455021: 'TT DOANH THU',\n",
       " 111100460021: 'TT DOANH THU',\n",
       " 111100460022: 'TT DOANH THU',\n",
       " 111100460023: 'TT DOANH THU',\n",
       " 111100461021: 'TT DOANH THU',\n",
       " 111100465021: 'TT DOANH THU',\n",
       " 111100465022: 'TT DOANH THU',\n",
       " 111100466021: 'TT DOANH THU',\n",
       " 111100466022: 'TT DOANH THU',\n",
       " 111100468021: 'TT DOANH THU',\n",
       " 111100471021: 'TT DOANH THU',\n",
       " 111100480021: 'TT DOANH THU',\n",
       " 111100480022: 'TT DOANH THU',\n",
       " 111100482021: 'TT DOANH THU',\n",
       " 111100483021: 'TT DOANH THU',\n",
       " 111100483022: 'TT DOANH THU',\n",
       " 111100483026: 'TT DOANH THU',\n",
       " 111100486021: 'TT DOANH THU',\n",
       " 111100488021: 'TT DOANH THU',\n",
       " 111100501021: 'TT DOANH THU',\n",
       " 111100501022: 'TT DOANH THU',\n",
       " 111100501023: 'TT DOANH THU',\n",
       " 111100502021: 'TT DOANH THU',\n",
       " 111100505021: 'TT DOANH THU',\n",
       " 111100510021: 'TT DOANH THU',\n",
       " 111100510022: 'TT DOANH THU',\n",
       " 111100510023: 'TT DOANH THU',\n",
       " 111100510024: 'TT DOANH THU',\n",
       " 111100512021: 'TT DOANH THU',\n",
       " 111100513021: 'TT DOANH THU',\n",
       " 111100518021: 'TT DOANH THU',\n",
       " 111100520021: 'TT DOANH THU',\n",
       " 111100520022: 'TT DOANH THU',\n",
       " 111100522021: 'TT DOANH THU',\n",
       " 111100531021: 'TT DOANH THU',\n",
       " 111100531022: 'TT DOANH THU',\n",
       " 111100531023: 'TT DOANH THU',\n",
       " 111100532021: 'TT DOANH THU',\n",
       " 111100540021: 'TT DOANH THU',\n",
       " 111100551021: 'TT DOANH THU',\n",
       " 111100556021: 'TT DOANH THU',\n",
       " 111100558021: 'TT DOANH THU',\n",
       " 111100558120: 'TT DOANH THU',\n",
       " 111100560021: 'TT DOANH THU',\n",
       " 111100561021: 'TT DOANH THU',\n",
       " 111100561022: 'TT DOANH THU',\n",
       " 111100562021: 'TT DOANH THU',\n",
       " 111100565021: 'TT DOANH THU',\n",
       " 111100566021: 'TT DOANH THU',\n",
       " 111100570021: 'TT DOANH THU',\n",
       " 111100570022: 'TT DOANH THU',\n",
       " 111100570026: 'TT DOANH THU',\n",
       " 111100573021: 'TT DOANH THU',\n",
       " 111100580021: 'TT DOANH THU',\n",
       " 111100580022: 'TT DOANH THU',\n",
       " 111100580023: 'TT DOANH THU',\n",
       " 111100581021: 'TT DOANH THU',\n",
       " 111100581022: 'TT DOANH THU',\n",
       " 111100581023: 'TT DOANH THU',\n",
       " 111100590021: 'TT DOANH THU',\n",
       " 111100601021: 'TT DOANH THU',\n",
       " 111100601022: 'TT DOANH THU',\n",
       " 111100602021: 'TT DOANH THU',\n",
       " 111100611021: 'TT DOANH THU',\n",
       " 111100615021: 'TT DOANH THU',\n",
       " 111100620021: 'TT DOANH THU',\n",
       " 111100620022: 'TT DOANH THU',\n",
       " 111100620023: 'TT DOANH THU',\n",
       " 111100621021: 'TT DOANH THU',\n",
       " 111100621022: 'TT DOANH THU',\n",
       " 111100621023: 'TT DOANH THU',\n",
       " 111100625021: 'TT DOANH THU',\n",
       " 111100626021: 'TT DOANH THU',\n",
       " 111100631021: 'TT DOANH THU',\n",
       " 111100631022: 'TT DOANH THU',\n",
       " 111100632021: 'TT DOANH THU',\n",
       " 111100633021: 'TT DOANH THU',\n",
       " 111100635021: 'TT DOANH THU',\n",
       " 111100636021: 'TT DOANH THU',\n",
       " 111100636120: 'TT DOANH THU',\n",
       " 111100641021: 'TT DOANH THU',\n",
       " 111100642021: 'TT DOANH THU',\n",
       " 111100650021: 'TT DOANH THU',\n",
       " 111100650022: 'TT DOANH THU',\n",
       " 111100650023: 'TT DOANH THU',\n",
       " 111100651021: 'TT DOANH THU',\n",
       " 111100651022: 'TT DOANH THU',\n",
       " 111100652021: 'TT DOANH THU',\n",
       " 111100653021: 'TT DOANH THU',\n",
       " 111100655021: 'TT DOANH THU',\n",
       " 111100656021: 'TT DOANH THU',\n",
       " 111100661021: 'TT DOANH THU',\n",
       " 111100670021: 'TT DOANH THU',\n",
       " 111100670022: 'TT DOANH THU',\n",
       " 111100670023: 'TT DOANH THU',\n",
       " 111100671021: 'TT DOANH THU',\n",
       " 111100671022: 'TT DOANH THU',\n",
       " 111100672021: 'TT DOANH THU',\n",
       " 111100679021: 'TT DOANH THU',\n",
       " 111100680021: 'TT DOANH THU',\n",
       " 111100680022: 'TT DOANH THU',\n",
       " 111100686021: 'TT DOANH THU',\n",
       " 111100691021: 'TT DOANH THU',\n",
       " 111100696021: 'TT DOANH THU',\n",
       " 111100701021: 'TT DOANH THU',\n",
       " 111100702021: 'TT DOANH THU',\n",
       " 111100710021: 'TT DOANH THU',\n",
       " 111100710022: 'TT DOANH THU',\n",
       " 111100710023: 'TT DOANH THU',\n",
       " 111100711021: 'TT DOANH THU',\n",
       " 111100721021: 'TT DOANH THU',\n",
       " 111100729021: 'TT DOANH THU',\n",
       " 111100730021: 'TT DOANH THU',\n",
       " 111100731021: 'TT DOANH THU',\n",
       " 111100735021: 'TT DOANH THU',\n",
       " 111100736021: 'TT DOANH THU',\n",
       " 111100736022: 'TT DOANH THU',\n",
       " 111100737021: 'TT DOANH THU',\n",
       " 111100737022: 'TT DOANH THU',\n",
       " 111100741021: 'TT DOANH THU',\n",
       " 111100741022: 'TT DOANH THU',\n",
       " 111100742021: 'TT DOANH THU',\n",
       " 111100745021: 'TT DOANH THU',\n",
       " 111100748021: 'TT DOANH THU',\n",
       " 111100748022: 'TT DOANH THU',\n",
       " 111100750021: 'TT DOANH THU',\n",
       " 111100753021: 'TT DOANH THU',\n",
       " 111100760021: 'TT DOANH THU',\n",
       " 111100760022: 'TT DOANH THU',\n",
       " 111100760023: 'TT DOANH THU',\n",
       " 111100761021: 'TT DOANH THU',\n",
       " 111100762021: 'TT DOANH THU',\n",
       " 111100762022: 'TT DOANH THU',\n",
       " 111100766021: 'TT DOANH THU',\n",
       " 111100780021: 'TT DOANH THU',\n",
       " 111100785021: 'TT DOANH THU',\n",
       " 111100786021: 'TT DOANH THU',\n",
       " 111100788021: 'TT DOANH THU',\n",
       " 111100990010: 'TT DOANH THU',\n",
       " 111100990012: 'TT DOANH THU',\n",
       " 111100990016: 'TT DOANH THU',\n",
       " 111100990040: 'TT DOANH THU',\n",
       " 111100996010: 'TT DOANH THU',\n",
       " 111100996012: 'TT DOANH THU',\n",
       " 111100996016: 'TT DOANH THU',\n",
       " 111100996040: 'TT DOANH THU',\n",
       " 111300990000: 'TT QUAN LY CHUNG KHOI KINH DOANH',\n",
       " 111300990010: 'TT QUAN LY CHUNG KHOI KINH DOANH',\n",
       " 111300990012: 'TT QUAN LY CHUNG KHOI KINH DOANH',\n",
       " 111300990015: 'TT QUAN LY CHUNG KHOI KINH DOANH',\n",
       " 111300990016: 'TT QUAN LY CHUNG KHOI KINH DOANH',\n",
       " 111300990030: 'TT QUAN LY CHUNG KHOI KINH DOANH',\n",
       " 111300990050: 'TT QUAN LY CHUNG KHOI KINH DOANH',\n",
       " 111300990060: 'TT QUAN LY CHUNG KHOI KINH DOANH',\n",
       " 111300990070: 'TT QUAN LY CHUNG KHOI KINH DOANH',\n",
       " 111300996010: 'TT QUAN LY CHUNG KHOI KINH DOANH',\n",
       " 111300996012: 'TT QUAN LY CHUNG KHOI KINH DOANH',\n",
       " 111300996015: 'TT QUAN LY CHUNG KHOI KINH DOANH',\n",
       " 111300996016: 'TT QUAN LY CHUNG KHOI KINH DOANH',\n",
       " 111300996030: 'TT QUAN LY CHUNG KHOI KINH DOANH',\n",
       " 111300996050: 'TT QUAN LY CHUNG KHOI KINH DOANH',\n",
       " 111300996060: 'TT QUAN LY CHUNG KHOI KINH DOANH',\n",
       " 111300996070: 'TT QUAN LY CHUNG KHOI KINH DOANH',\n",
       " 111400990010: 'TT DICH VU NOI BO',\n",
       " 111400990012: 'TT DICH VU NOI BO',\n",
       " 111400990040: 'TT DICH VU NOI BO',\n",
       " 111400996010: 'TT DICH VU NOI BO',\n",
       " 111400996012: 'TT DICH VU NOI BO',\n",
       " 111400996040: 'TT DICH VU NOI BO',\n",
       " 111500990017: 'TT QUAN LY CHUNG TOAN HANG',\n",
       " 111500990018: 'TT QUAN LY CHUNG TOAN HANG',\n",
       " 111500990040: 'TT QUAN LY CHUNG TOAN HANG',\n",
       " 111500996017: 'TT QUAN LY CHUNG TOAN HANG',\n",
       " 111500996018: 'TT QUAN LY CHUNG TOAN HANG',\n",
       " 111500996040: 'TT QUAN LY CHUNG TOAN HANG',\n",
       " 111600160091: 'TT HO TRO TRUC TIEP',\n",
       " 111600160092: 'TT HO TRO TRUC TIEP',\n",
       " 111600160093: 'TT HO TRO TRUC TIEP',\n",
       " 111600160094: 'TT HO TRO TRUC TIEP',\n",
       " 111600160095: 'TT HO TRO TRUC TIEP',\n",
       " 112000353150: 'TT DOANH THU',\n",
       " 112000353151: 'TT DOANH THU',\n",
       " 112000353152: 'TT DOANH THU',\n",
       " 112000990110: 'TT AO',\n",
       " 112000990130: 'TT AO',\n",
       " 112000990140: 'TT AO',\n",
       " 112000990180: 'TT AO',\n",
       " 112000996110: 'TT AO',\n",
       " 112000996130: 'TT AO',\n",
       " 112000996140: 'TT AO',\n",
       " 112000996180: 'TT AO',\n",
       " 112100111121: 'TT DOANH THU',\n",
       " 112100111150: 'TT DOANH THU',\n",
       " 112100111151: 'TT DOANH THU',\n",
       " 112100116121: 'TT DOANH THU',\n",
       " 112100116150: 'TT DOANH THU',\n",
       " 112100116151: 'TT DOANH THU',\n",
       " 112100116152: 'TT DOANH THU',\n",
       " 112100116153: 'TT DOANH THU',\n",
       " 112100116154: 'TT DOANH THU',\n",
       " 112100117121: 'TT DOANH THU',\n",
       " 112100117150: 'TT DOANH THU',\n",
       " 112100117151: 'TT DOANH THU',\n",
       " 112100118121: 'TT DOANH THU',\n",
       " 112100118150: 'TT DOANH THU',\n",
       " 112100118151: 'TT DOANH THU',\n",
       " 112100118157: 'TT DOANH THU',\n",
       " 112100119121: 'TT DOANH THU',\n",
       " 112100119150: 'TT DOANH THU',\n",
       " 112100119151: 'TT DOANH THU',\n",
       " 112100119152: 'TT DOANH THU',\n",
       " 112100119153: 'TT DOANH THU',\n",
       " 112100119154: 'TT DOANH THU',\n",
       " 112100119155: 'TT DOANH THU',\n",
       " 112100120121: 'TT DOANH THU',\n",
       " 112100120122: 'TT DOANH THU',\n",
       " 112100120123: 'TT DOANH THU',\n",
       " 112100120141: 'TT DOANH THU',\n",
       " 112100120150: 'TT DOANH THU',\n",
       " 112100120153: 'TT DOANH THU',\n",
       " 112100120154: 'TT DOANH THU',\n",
       " 112100120155: 'TT DOANH THU',\n",
       " 112100120156: 'TT DOANH THU',\n",
       " 112100120447: 'TT DOANH THU',\n",
       " 112100121121: 'TT DOANH THU',\n",
       " 112100121150: 'TT DOANH THU',\n",
       " 112100121151: 'TT DOANH THU',\n",
       " 112100121152: 'TT DOANH THU',\n",
       " 112100121153: 'TT DOANH THU',\n",
       " 112100121154: 'TT DOANH THU',\n",
       " 112100121155: 'TT DOANH THU',\n",
       " 112100121171: 'TT DOANH THU',\n",
       " 112100121172: 'TT DOANH THU',\n",
       " 112100122121: 'TT DOANH THU',\n",
       " 112100122122: 'TT DOANH THU',\n",
       " 112100122141: 'TT DOANH THU',\n",
       " 112100122153: 'TT DOANH THU',\n",
       " 112100122154: 'TT DOANH THU',\n",
       " 112100122155: 'TT DOANH THU',\n",
       " 112100122158: 'TT DOANH THU',\n",
       " 112100122159: 'TT DOANH THU',\n",
       " 112100122166: 'TT DOANH THU',\n",
       " 112100122170: 'TT DOANH THU',\n",
       " 112100123121: 'TT DOANH THU',\n",
       " 112100123122: 'TT DOANH THU',\n",
       " 112100123123: 'TT DOANH THU',\n",
       " 112100123141: 'TT DOANH THU',\n",
       " 112100123150: 'TT DOANH THU',\n",
       " 112100123151: 'TT DOANH THU',\n",
       " 112100123152: 'TT DOANH THU',\n",
       " 112100123153: 'TT DOANH THU',\n",
       " 112100123154: 'TT DOANH THU',\n",
       " 112100123155: 'TT DOANH THU',\n",
       " 112100123156: 'TT DOANH THU',\n",
       " 112100123157: 'TT DOANH THU',\n",
       " 112100123158: 'TT DOANH THU',\n",
       " 112100124121: 'TT DOANH THU',\n",
       " 112100124122: 'TT DOANH THU',\n",
       " 112100124123: 'TT DOANH THU',\n",
       " 112100124141: 'TT DOANH THU',\n",
       " 112100124150: 'TT DOANH THU',\n",
       " 112100124151: 'TT DOANH THU',\n",
       " 112100124152: 'TT DOANH THU',\n",
       " 112100124153: 'TT DOANH THU',\n",
       " 112100124154: 'TT DOANH THU',\n",
       " 112100125120: 'TT DOANH THU',\n",
       " 112100125121: 'TT DOANH THU',\n",
       " 112100125122: 'TT DOANH THU',\n",
       " 112100125141: 'TT DOANH THU',\n",
       " 112100125150: 'TT DOANH THU',\n",
       " 112100125151: 'TT DOANH THU',\n",
       " 112100125152: 'TT DOANH THU',\n",
       " 112100125153: 'TT DOANH THU',\n",
       " 112100125155: 'TT DOANH THU',\n",
       " 112100125156: 'TT DOANH THU',\n",
       " 112100125157: 'TT DOANH THU',\n",
       " 112100125158: 'TT DOANH THU',\n",
       " 112100125447: 'TT DOANH THU',\n",
       " 112100126121: 'TT DOANH THU',\n",
       " 112100126122: 'TT DOANH THU',\n",
       " 112100126150: 'TT DOANH THU',\n",
       " 112100126151: 'TT DOANH THU',\n",
       " 112100126152: 'TT DOANH THU',\n",
       " 112100126153: 'TT DOANH THU',\n",
       " 112100126154: 'TT DOANH THU',\n",
       " 112100126155: 'TT DOANH THU',\n",
       " 112100126170: 'TT DOANH THU',\n",
       " 112100128121: 'TT DOANH THU',\n",
       " 112100128150: 'TT DOANH THU',\n",
       " 112100128151: 'TT DOANH THU',\n",
       " 112100128152: 'TT DOANH THU',\n",
       " 112100128153: 'TT DOANH THU',\n",
       " 112100128170: 'TT DOANH THU',\n",
       " 112100128171: 'TT DOANH THU',\n",
       " 112100128172: 'TT DOANH THU',\n",
       " 112100129121: 'TT DOANH THU',\n",
       " 112100129122: 'TT DOANH THU',\n",
       " 112100129150: 'TT DOANH THU',\n",
       " 112100129151: 'TT DOANH THU',\n",
       " 112100129152: 'TT DOANH THU',\n",
       " 112100129153: 'TT DOANH THU',\n",
       " 112100129154: 'TT DOANH THU',\n",
       " 112100130121: 'TT DOANH THU',\n",
       " 112100130122: 'TT DOANH THU',\n",
       " 112100130123: 'TT DOANH THU',\n",
       " 112100130141: 'TT DOANH THU',\n",
       " 112100130150: 'TT DOANH THU',\n",
       " 112100130151: 'TT DOANH THU',\n",
       " 112100130152: 'TT DOANH THU',\n",
       " 112100130155: 'TT DOANH THU',\n",
       " 112100130156: 'TT DOANH THU',\n",
       " 112100130157: 'TT DOANH THU',\n",
       " 112100130158: 'TT DOANH THU',\n",
       " 112100130159: 'TT DOANH THU',\n",
       " 112100132121: 'TT DOANH THU',\n",
       " 112100132150: 'TT DOANH THU',\n",
       " 112100132151: 'TT DOANH THU',\n",
       " 112100132152: 'TT DOANH THU',\n",
       " 112100132153: 'TT DOANH THU',\n",
       " 112100132155: 'TT DOANH THU',\n",
       " 112100132156: 'TT DOANH THU',\n",
       " 112100133121: 'TT DOANH THU',\n",
       " 112100133150: 'TT DOANH THU',\n",
       " 112100133151: 'TT DOANH THU',\n",
       " 112100133152: 'TT DOANH THU',\n",
       " 112100134121: 'TT DOANH THU',\n",
       " 112100134150: 'TT DOANH THU',\n",
       " 112100134151: 'TT DOANH THU',\n",
       " 112100135121: 'TT DOANH THU',\n",
       " 112100135122: 'TT DOANH THU',\n",
       " 112100135123: 'TT DOANH THU',\n",
       " 112100135141: 'TT DOANH THU',\n",
       " 112100135150: 'TT DOANH THU',\n",
       " 112100135151: 'TT DOANH THU',\n",
       " 112100135152: 'TT DOANH THU',\n",
       " 112100135153: 'TT DOANH THU',\n",
       " 112100136121: 'TT DOANH THU',\n",
       " 112100136150: 'TT DOANH THU',\n",
       " 112100136151: 'TT DOANH THU',\n",
       " 112100138121: 'TT DOANH THU',\n",
       " 112100138150: 'TT DOANH THU',\n",
       " 112100138151: 'TT DOANH THU',\n",
       " 112100138152: 'TT DOANH THU',\n",
       " 112100138154: 'TT DOANH THU',\n",
       " 112100138155: 'TT DOANH THU',\n",
       " 112100138156: 'TT DOANH THU',\n",
       " 112100139121: 'TT DOANH THU',\n",
       " 112100139150: 'TT DOANH THU',\n",
       " 112100139151: 'TT DOANH THU',\n",
       " 112100139152: 'TT DOANH THU',\n",
       " 112100139168: 'TT DOANH THU',\n",
       " 112100140121: 'TT DOANH THU',\n",
       " 112100140122: 'TT DOANH THU',\n",
       " 112100140141: 'TT DOANH THU',\n",
       " 112100140151: 'TT DOANH THU',\n",
       " 112100140153: 'TT DOANH THU',\n",
       " 112100140157: 'TT DOANH THU',\n",
       " 112100140158: 'TT DOANH THU',\n",
       " 112100140447: 'TT DOANH THU',\n",
       " 112100141121: 'TT DOANH THU',\n",
       " 112100141123: 'TT DOANH THU',\n",
       " 112100141151: 'TT DOANH THU',\n",
       " 112100141152: 'TT DOANH THU',\n",
       " 112100141153: 'TT DOANH THU',\n",
       " 112100141154: 'TT DOANH THU',\n",
       " 112100144121: 'TT DOANH THU',\n",
       " 112100144150: 'TT DOANH THU',\n",
       " 112100144151: 'TT DOANH THU',\n",
       " 112100145121: 'TT DOANH THU',\n",
       " 112100145151: 'TT DOANH THU',\n",
       " 112100145152: 'TT DOANH THU',\n",
       " 112100147121: 'TT DOANH THU',\n",
       " 112100147122: 'TT DOANH THU',\n",
       " 112100147150: 'TT DOANH THU',\n",
       " 112100147151: 'TT DOANH THU',\n",
       " 112100147152: 'TT DOANH THU',\n",
       " 112100147153: 'TT DOANH THU',\n",
       " 112100149121: 'TT DOANH THU',\n",
       " 112100149150: 'TT DOANH THU',\n",
       " 112100149151: 'TT DOANH THU',\n",
       " 112100149152: 'TT DOANH THU',\n",
       " 112100149153: 'TT DOANH THU',\n",
       " 112100150121: 'TT DOANH THU',\n",
       " 112100150122: 'TT DOANH THU',\n",
       " 112100150141: 'TT DOANH THU',\n",
       " 112100150150: 'TT DOANH THU',\n",
       " 112100150151: 'TT DOANH THU',\n",
       " 112100150152: 'TT DOANH THU',\n",
       " 112100150153: 'TT DOANH THU',\n",
       " 112100150154: 'TT DOANH THU',\n",
       " 112100151120: 'TT DOANH THU',\n",
       " 112100151121: 'TT DOANH THU',\n",
       " 112100151122: 'TT DOANH THU',\n",
       " 112100151150: 'TT DOANH THU',\n",
       " 112100151151: 'TT DOANH THU',\n",
       " 112100151152: 'TT DOANH THU',\n",
       " 112100151153: 'TT DOANH THU',\n",
       " 112100151154: 'TT DOANH THU',\n",
       " 112100151155: 'TT DOANH THU',\n",
       " 112100151170: 'TT DOANH THU',\n",
       " 112100159121: 'TT DOANH THU',\n",
       " 112100159150: 'TT DOANH THU',\n",
       " 112100159151: 'TT DOANH THU',\n",
       " 112100159152: 'TT DOANH THU',\n",
       " 112100159154: 'TT DOANH THU',\n",
       " 112100160121: 'TT DOANH THU',\n",
       " 112100160122: 'TT DOANH THU',\n",
       " 112100160151: 'TT DOANH THU',\n",
       " 112100160152: 'TT DOANH THU',\n",
       " 112100160153: 'TT DOANH THU',\n",
       " 112100160154: 'TT DOANH THU',\n",
       " 112100166121: 'TT DOANH THU',\n",
       " 112100166150: 'TT DOANH THU',\n",
       " 112100166151: 'TT DOANH THU',\n",
       " 112100168121: 'TT DOANH THU',\n",
       " 112100168141: 'TT DOANH THU',\n",
       " 112100168150: 'TT DOANH THU',\n",
       " 112100168151: 'TT DOANH THU',\n",
       " 112100168152: 'TT DOANH THU',\n",
       " 112100169120: 'TT DOANH THU',\n",
       " 112100169121: 'TT DOANH THU',\n",
       " 112100169150: 'TT DOANH THU',\n",
       " 112100169151: 'TT DOANH THU',\n",
       " 112100169152: 'TT DOANH THU',\n",
       " 112100177120: 'TT DOANH THU',\n",
       " 112100177121: 'TT DOANH THU',\n",
       " 112100177150: 'TT DOANH THU',\n",
       " 112100177151: 'TT DOANH THU',\n",
       " 112100177152: 'TT DOANH THU',\n",
       " 112100177153: 'TT DOANH THU',\n",
       " 112100177154: 'TT DOANH THU',\n",
       " 112100179121: 'TT DOANH THU',\n",
       " 112100179150: 'TT DOANH THU',\n",
       " 112100179151: 'TT DOANH THU',\n",
       " 112100179152: 'TT DOANH THU',\n",
       " 112100180120: 'TT DOANH THU',\n",
       " 112100180121: 'TT DOANH THU',\n",
       " 112100180150: 'TT DOANH THU',\n",
       " 112100180151: 'TT DOANH THU',\n",
       " 112100180152: 'TT DOANH THU',\n",
       " 112100180154: 'TT DOANH THU',\n",
       " 112100180156: 'TT DOANH THU',\n",
       " 112100181121: 'TT DOANH THU',\n",
       " 112100181150: 'TT DOANH THU',\n",
       " 112100181151: 'TT DOANH THU',\n",
       " 112100186121: 'TT DOANH THU',\n",
       " 112100186150: 'TT DOANH THU',\n",
       " 112100186151: 'TT DOANH THU',\n",
       " 112100186153: 'TT DOANH THU',\n",
       " 112100186154: 'TT DOANH THU',\n",
       " 112100186157: 'TT DOANH THU',\n",
       " 112100188121: 'TT DOANH THU',\n",
       " 112100188150: 'TT DOANH THU',\n",
       " 112100188151: 'TT DOANH THU',\n",
       " 112100188152: 'TT DOANH THU',\n",
       " 112100189120: 'TT DOANH THU',\n",
       " 112100189121: 'TT DOANH THU',\n",
       " 112100189150: 'TT DOANH THU',\n",
       " 112100189151: 'TT DOANH THU',\n",
       " 112100189152: 'TT DOANH THU',\n",
       " 112100189153: 'TT DOANH THU',\n",
       " 112100189154: 'TT DOANH THU',\n",
       " 112100189157: 'TT DOANH THU',\n",
       " 112100199120: 'TT DOANH THU',\n",
       " 112100199121: 'TT DOANH THU',\n",
       " 112100199150: 'TT DOANH THU',\n",
       " 112100199151: 'TT DOANH THU',\n",
       " 112100199152: 'TT DOANH THU',\n",
       " 112100199153: 'TT DOANH THU',\n",
       " 112100199154: 'TT DOANH THU',\n",
       " 112100199155: 'TT DOANH THU',\n",
       " 112100199156: 'TT DOANH THU',\n",
       " 112100199158: 'TT DOANH THU',\n",
       " 112100199171: 'TT DOANH THU',\n",
       " 112100211121: 'TT DOANH THU',\n",
       " 112100211122: 'TT DOANH THU',\n",
       " 112100211123: 'TT DOANH THU',\n",
       " 112100211141: 'TT DOANH THU',\n",
       " 112100211155: 'TT DOANH THU',\n",
       " 112100211156: 'TT DOANH THU',\n",
       " 112100211157: 'TT DOANH THU',\n",
       " 112100211158: 'TT DOANH THU',\n",
       " 112100211159: 'TT DOANH THU',\n",
       " 112100211170: 'TT DOANH THU',\n",
       " 112100211447: 'TT DOANH THU',\n",
       " 112100212121: 'TT DOANH THU',\n",
       " 112100212122: 'TT DOANH THU',\n",
       " 112100212123: 'TT DOANH THU',\n",
       " 112100212151: 'TT DOANH THU',\n",
       " 112100212152: 'TT DOANH THU',\n",
       " 112100212153: 'TT DOANH THU',\n",
       " 112100212154: 'TT DOANH THU',\n",
       " 112100212170: 'TT DOANH THU',\n",
       " 112100213121: 'TT DOANH THU',\n",
       " 112100213122: 'TT DOANH THU',\n",
       " 112100213151: 'TT DOANH THU',\n",
       " 112100213152: 'TT DOANH THU',\n",
       " 112100213153: 'TT DOANH THU',\n",
       " 112100213154: 'TT DOANH THU',\n",
       " 112100213155: 'TT DOANH THU',\n",
       " 112100213159: 'TT DOANH THU',\n",
       " 112100214121: 'TT DOANH THU',\n",
       " 112100214122: 'TT DOANH THU',\n",
       " 112100214150: 'TT DOANH THU',\n",
       " 112100214151: 'TT DOANH THU',\n",
       " 112100214152: 'TT DOANH THU',\n",
       " 112100214153: 'TT DOANH THU',\n",
       " 112100214154: 'TT DOANH THU',\n",
       " 112100215121: 'TT DOANH THU',\n",
       " 112100215122: 'TT DOANH THU',\n",
       " 112100215123: 'TT DOANH THU',\n",
       " 112100215141: 'TT DOANH THU',\n",
       " 112100215150: 'TT DOANH THU',\n",
       " 112100215151: 'TT DOANH THU',\n",
       " 112100215152: 'TT DOANH THU',\n",
       " 112100215153: 'TT DOANH THU',\n",
       " 112100215155: 'TT DOANH THU',\n",
       " 112100215156: 'TT DOANH THU',\n",
       " 112100215157: 'TT DOANH THU',\n",
       " 112100215158: 'TT DOANH THU',\n",
       " 112100215160: 'TT DOANH THU',\n",
       " 112100215173: 'TT DOANH THU',\n",
       " 112100215177: 'TT DOANH THU',\n",
       " 112100215447: 'TT DOANH THU',\n",
       " ...}"
      ]
     },
     "execution_count": 6,
     "metadata": {},
     "output_type": "execute_result"
    }
   ],
   "source": [
    "map_name = map_df.set_index('ORG_UNIT_ID')['LEVEL_02_NAME'].to_dict()\n",
    "map_name"
   ]
  },
  {
   "cell_type": "code",
   "execution_count": 7,
   "metadata": {},
   "outputs": [],
   "source": [
    "level_columns = ['Lv0', 'Lv1', 'Lv2', 'Lv3', 'Lv4']"
   ]
  },
  {
   "cell_type": "code",
   "execution_count": 8,
   "metadata": {},
   "outputs": [
    {
     "data": {
      "text/html": [
       "<div>\n",
       "<style scoped>\n",
       "    .dataframe tbody tr th:only-of-type {\n",
       "        vertical-align: middle;\n",
       "    }\n",
       "\n",
       "    .dataframe tbody tr th {\n",
       "        vertical-align: top;\n",
       "    }\n",
       "\n",
       "    .dataframe thead th {\n",
       "        text-align: right;\n",
       "    }\n",
       "</style>\n",
       "<table border=\"1\" class=\"dataframe\">\n",
       "  <thead>\n",
       "    <tr style=\"text-align: right;\">\n",
       "      <th></th>\n",
       "      <th>Join</th>\n",
       "      <th>Lv 4 name</th>\n",
       "      <th>Lv 3 name</th>\n",
       "      <th>Lv 2 name</th>\n",
       "      <th>Lv 1 name</th>\n",
       "      <th>Lv 0 name</th>\n",
       "      <th>Size</th>\n",
       "      <th>Lv0</th>\n",
       "      <th>Lv1</th>\n",
       "      <th>Lv2</th>\n",
       "      <th>Lv3</th>\n",
       "      <th>Lv4</th>\n",
       "      <th>LvPK</th>\n",
       "      <th>Lv0_mapped_Node_v0</th>\n",
       "      <th>Lv1_mapped_Node_v1</th>\n",
       "      <th>Lv2_mapped_Node_v2</th>\n",
       "      <th>Lv3_mapped_Node_v3</th>\n",
       "      <th>Lv4_mapped_Node_v4</th>\n",
       "    </tr>\n",
       "  </thead>\n",
       "  <tbody>\n",
       "    <tr>\n",
       "      <th>0</th>\n",
       "      <td>1</td>\n",
       "      <td>BAN DINH CHE TAI CHINH_100</td>\n",
       "      <td>BAN MIS ALCO_500</td>\n",
       "      <td>VP_400</td>\n",
       "      <td>VP_400</td>\n",
       "      <td>BAN CONG NGHE</td>\n",
       "      <td>198</td>\n",
       "      <td>122400996221</td>\n",
       "      <td>117400996690</td>\n",
       "      <td>117400996690</td>\n",
       "      <td>116500996530</td>\n",
       "      <td>111100996040</td>\n",
       "      <td>90</td>\n",
       "      <td>TT DICH VU NOI BO_N0</td>\n",
       "      <td>TT DICH VU NOI BO_N1</td>\n",
       "      <td>TT DICH VU NOI BO_N2</td>\n",
       "      <td>TT QUAN LY CHUNG TOAN HANG_N3</td>\n",
       "      <td>TT DOANH THU_N4</td>\n",
       "    </tr>\n",
       "    <tr>\n",
       "      <th>1</th>\n",
       "      <td>1</td>\n",
       "      <td>BAN PHAT TRIEN NHBL_300</td>\n",
       "      <td>BAN MIS ALCO_500</td>\n",
       "      <td>BAN MIS ALCO_500</td>\n",
       "      <td>TT CNTT_400</td>\n",
       "      <td>BAN CONG NGHE</td>\n",
       "      <td>17488</td>\n",
       "      <td>122400996221</td>\n",
       "      <td>117400071000</td>\n",
       "      <td>116500996530</td>\n",
       "      <td>116500996530</td>\n",
       "      <td>112300996110</td>\n",
       "      <td>31</td>\n",
       "      <td>TT DICH VU NOI BO_N0</td>\n",
       "      <td>TT DICH VU NOI BO_N1</td>\n",
       "      <td>TT QUAN LY CHUNG TOAN HANG_N2</td>\n",
       "      <td>TT QUAN LY CHUNG TOAN HANG_N3</td>\n",
       "      <td>TT QUAN LY CHUNG KHOI KINH DOANH_N4</td>\n",
       "    </tr>\n",
       "    <tr>\n",
       "      <th>2</th>\n",
       "      <td>1</td>\n",
       "      <td>TT THE_200_QLRR</td>\n",
       "      <td>TTQTDL</td>\n",
       "      <td>VP_400</td>\n",
       "      <td>TT CNTT_400</td>\n",
       "      <td>BAN CONG NGHE</td>\n",
       "      <td>0</td>\n",
       "      <td>122400996221</td>\n",
       "      <td>117400071000</td>\n",
       "      <td>117400996690</td>\n",
       "      <td>122500996223</td>\n",
       "      <td>1122009961401</td>\n",
       "      <td>90</td>\n",
       "      <td>TT DICH VU NOI BO_N0</td>\n",
       "      <td>TT DICH VU NOI BO_N1</td>\n",
       "      <td>TT DICH VU NOI BO_N2</td>\n",
       "      <td>TT QUAN LY CHUNG TOAN HANG_N3</td>\n",
       "      <td>TT HO TRO SAN PHAM_N4</td>\n",
       "    </tr>\n",
       "    <tr>\n",
       "      <th>3</th>\n",
       "      <td>1</td>\n",
       "      <td>BAN KHDN  LON_100</td>\n",
       "      <td>BAN QLTS NOI NGANH_500</td>\n",
       "      <td>VP_400</td>\n",
       "      <td>TT CNTT_400</td>\n",
       "      <td>TT CNTT_400</td>\n",
       "      <td>8</td>\n",
       "      <td>117400071000</td>\n",
       "      <td>117400071000</td>\n",
       "      <td>117400996690</td>\n",
       "      <td>117500996620</td>\n",
       "      <td>111100996010</td>\n",
       "      <td>61</td>\n",
       "      <td>TT DICH VU NOI BO_N0</td>\n",
       "      <td>TT DICH VU NOI BO_N1</td>\n",
       "      <td>TT DICH VU NOI BO_N2</td>\n",
       "      <td>TT QUAN LY CHUNG TOAN HANG_N3</td>\n",
       "      <td>TT DOANH THU_N4</td>\n",
       "    </tr>\n",
       "    <tr>\n",
       "      <th>4</th>\n",
       "      <td>1</td>\n",
       "      <td>BAN NGUON VON UY THAC QUOC TE</td>\n",
       "      <td>BAN TAI CHINH</td>\n",
       "      <td>VP_400</td>\n",
       "      <td>VP_400</td>\n",
       "      <td>BAN CONG NGHE</td>\n",
       "      <td>0</td>\n",
       "      <td>122400996221</td>\n",
       "      <td>117400996690</td>\n",
       "      <td>117400996690</td>\n",
       "      <td>116500996510</td>\n",
       "      <td>111300996070</td>\n",
       "      <td>61</td>\n",
       "      <td>TT DICH VU NOI BO_N0</td>\n",
       "      <td>TT DICH VU NOI BO_N1</td>\n",
       "      <td>TT DICH VU NOI BO_N2</td>\n",
       "      <td>TT QUAN LY CHUNG TOAN HANG_N3</td>\n",
       "      <td>TT QUAN LY CHUNG KHOI KINH DOANH_N4</td>\n",
       "    </tr>\n",
       "    <tr>\n",
       "      <th>...</th>\n",
       "      <td>...</td>\n",
       "      <td>...</td>\n",
       "      <td>...</td>\n",
       "      <td>...</td>\n",
       "      <td>...</td>\n",
       "      <td>...</td>\n",
       "      <td>...</td>\n",
       "      <td>...</td>\n",
       "      <td>...</td>\n",
       "      <td>...</td>\n",
       "      <td>...</td>\n",
       "      <td>...</td>\n",
       "      <td>...</td>\n",
       "      <td>...</td>\n",
       "      <td>...</td>\n",
       "      <td>...</td>\n",
       "      <td>...</td>\n",
       "      <td>...</td>\n",
       "    </tr>\n",
       "    <tr>\n",
       "      <th>31899</th>\n",
       "      <td>1</td>\n",
       "      <td>VPDD LAO</td>\n",
       "      <td>VPDD LAO</td>\n",
       "      <td>VPDD LAO</td>\n",
       "      <td>TT CNTT_400</td>\n",
       "      <td>TT CNTT_400</td>\n",
       "      <td>38217</td>\n",
       "      <td>117400071000</td>\n",
       "      <td>117400071000</td>\n",
       "      <td>119500990848</td>\n",
       "      <td>119500990848</td>\n",
       "      <td>119500990848</td>\n",
       "      <td>99</td>\n",
       "      <td>TT DICH VU NOI BO_N0</td>\n",
       "      <td>TT DICH VU NOI BO_N1</td>\n",
       "      <td>TT QUAN LY CHUNG TOAN HANG_N2</td>\n",
       "      <td>TT QUAN LY CHUNG TOAN HANG_N3</td>\n",
       "      <td>TT QUAN LY CHUNG TOAN HANG_N4</td>\n",
       "    </tr>\n",
       "    <tr>\n",
       "      <th>31900</th>\n",
       "      <td>1</td>\n",
       "      <td>VPDD MYANMAR</td>\n",
       "      <td>VPDD MYANMAR</td>\n",
       "      <td>VPDD MYANMAR</td>\n",
       "      <td>TT CNTT_400</td>\n",
       "      <td>BAN CONG NGHE</td>\n",
       "      <td>30918</td>\n",
       "      <td>122400996221</td>\n",
       "      <td>117400071000</td>\n",
       "      <td>119500990838</td>\n",
       "      <td>119500990838</td>\n",
       "      <td>119500990838</td>\n",
       "      <td>99</td>\n",
       "      <td>TT DICH VU NOI BO_N0</td>\n",
       "      <td>TT DICH VU NOI BO_N1</td>\n",
       "      <td>TT QUAN LY CHUNG TOAN HANG_N2</td>\n",
       "      <td>TT QUAN LY CHUNG TOAN HANG_N3</td>\n",
       "      <td>TT QUAN LY CHUNG TOAN HANG_N4</td>\n",
       "    </tr>\n",
       "    <tr>\n",
       "      <th>31901</th>\n",
       "      <td>1</td>\n",
       "      <td>VPDD MYANMAR</td>\n",
       "      <td>VPDD MYANMAR</td>\n",
       "      <td>VPDD MYANMAR</td>\n",
       "      <td>TT CNTT_400</td>\n",
       "      <td>TT CNTT_400</td>\n",
       "      <td>2503142</td>\n",
       "      <td>117400071000</td>\n",
       "      <td>117400071000</td>\n",
       "      <td>119500990838</td>\n",
       "      <td>119500990838</td>\n",
       "      <td>119500990838</td>\n",
       "      <td>99</td>\n",
       "      <td>TT DICH VU NOI BO_N0</td>\n",
       "      <td>TT DICH VU NOI BO_N1</td>\n",
       "      <td>TT QUAN LY CHUNG TOAN HANG_N2</td>\n",
       "      <td>TT QUAN LY CHUNG TOAN HANG_N3</td>\n",
       "      <td>TT QUAN LY CHUNG TOAN HANG_N4</td>\n",
       "    </tr>\n",
       "    <tr>\n",
       "      <th>31902</th>\n",
       "      <td>1</td>\n",
       "      <td>VPDD SEC</td>\n",
       "      <td>VPDD SEC</td>\n",
       "      <td>VPDD SEC</td>\n",
       "      <td>TT CNTT_400</td>\n",
       "      <td>BAN CONG NGHE</td>\n",
       "      <td>233</td>\n",
       "      <td>122400996221</td>\n",
       "      <td>117400071000</td>\n",
       "      <td>119500990858</td>\n",
       "      <td>119500990858</td>\n",
       "      <td>119500990858</td>\n",
       "      <td>99</td>\n",
       "      <td>TT DICH VU NOI BO_N0</td>\n",
       "      <td>TT DICH VU NOI BO_N1</td>\n",
       "      <td>TT QUAN LY CHUNG TOAN HANG_N2</td>\n",
       "      <td>TT QUAN LY CHUNG TOAN HANG_N3</td>\n",
       "      <td>TT QUAN LY CHUNG TOAN HANG_N4</td>\n",
       "    </tr>\n",
       "    <tr>\n",
       "      <th>31903</th>\n",
       "      <td>1</td>\n",
       "      <td>VPDD SEC</td>\n",
       "      <td>VPDD SEC</td>\n",
       "      <td>VPDD SEC</td>\n",
       "      <td>TT CNTT_400</td>\n",
       "      <td>TT CNTT_400</td>\n",
       "      <td>19104</td>\n",
       "      <td>117400071000</td>\n",
       "      <td>117400071000</td>\n",
       "      <td>119500990858</td>\n",
       "      <td>119500990858</td>\n",
       "      <td>119500990858</td>\n",
       "      <td>99</td>\n",
       "      <td>TT DICH VU NOI BO_N0</td>\n",
       "      <td>TT DICH VU NOI BO_N1</td>\n",
       "      <td>TT QUAN LY CHUNG TOAN HANG_N2</td>\n",
       "      <td>TT QUAN LY CHUNG TOAN HANG_N3</td>\n",
       "      <td>TT QUAN LY CHUNG TOAN HANG_N4</td>\n",
       "    </tr>\n",
       "  </tbody>\n",
       "</table>\n",
       "<p>31904 rows × 18 columns</p>\n",
       "</div>"
      ],
      "text/plain": [
       "       Join                      Lv 4 name               Lv 3 name  \\\n",
       "0         1     BAN DINH CHE TAI CHINH_100        BAN MIS ALCO_500   \n",
       "1         1        BAN PHAT TRIEN NHBL_300        BAN MIS ALCO_500   \n",
       "2         1                TT THE_200_QLRR                  TTQTDL   \n",
       "3         1              BAN KHDN  LON_100  BAN QLTS NOI NGANH_500   \n",
       "4         1  BAN NGUON VON UY THAC QUOC TE           BAN TAI CHINH   \n",
       "...     ...                            ...                     ...   \n",
       "31899     1                       VPDD LAO                VPDD LAO   \n",
       "31900     1                   VPDD MYANMAR            VPDD MYANMAR   \n",
       "31901     1                   VPDD MYANMAR            VPDD MYANMAR   \n",
       "31902     1                       VPDD SEC                VPDD SEC   \n",
       "31903     1                       VPDD SEC                VPDD SEC   \n",
       "\n",
       "              Lv 2 name    Lv 1 name      Lv 0 name     Size           Lv0  \\\n",
       "0                VP_400       VP_400  BAN CONG NGHE      198  122400996221   \n",
       "1      BAN MIS ALCO_500  TT CNTT_400  BAN CONG NGHE    17488  122400996221   \n",
       "2                VP_400  TT CNTT_400  BAN CONG NGHE        0  122400996221   \n",
       "3                VP_400  TT CNTT_400    TT CNTT_400        8  117400071000   \n",
       "4                VP_400       VP_400  BAN CONG NGHE        0  122400996221   \n",
       "...                 ...          ...            ...      ...           ...   \n",
       "31899          VPDD LAO  TT CNTT_400    TT CNTT_400    38217  117400071000   \n",
       "31900      VPDD MYANMAR  TT CNTT_400  BAN CONG NGHE    30918  122400996221   \n",
       "31901      VPDD MYANMAR  TT CNTT_400    TT CNTT_400  2503142  117400071000   \n",
       "31902          VPDD SEC  TT CNTT_400  BAN CONG NGHE      233  122400996221   \n",
       "31903          VPDD SEC  TT CNTT_400    TT CNTT_400    19104  117400071000   \n",
       "\n",
       "                Lv1           Lv2           Lv3            Lv4  LvPK  \\\n",
       "0      117400996690  117400996690  116500996530   111100996040    90   \n",
       "1      117400071000  116500996530  116500996530   112300996110    31   \n",
       "2      117400071000  117400996690  122500996223  1122009961401    90   \n",
       "3      117400071000  117400996690  117500996620   111100996010    61   \n",
       "4      117400996690  117400996690  116500996510   111300996070    61   \n",
       "...             ...           ...           ...            ...   ...   \n",
       "31899  117400071000  119500990848  119500990848   119500990848    99   \n",
       "31900  117400071000  119500990838  119500990838   119500990838    99   \n",
       "31901  117400071000  119500990838  119500990838   119500990838    99   \n",
       "31902  117400071000  119500990858  119500990858   119500990858    99   \n",
       "31903  117400071000  119500990858  119500990858   119500990858    99   \n",
       "\n",
       "         Lv0_mapped_Node_v0    Lv1_mapped_Node_v1  \\\n",
       "0      TT DICH VU NOI BO_N0  TT DICH VU NOI BO_N1   \n",
       "1      TT DICH VU NOI BO_N0  TT DICH VU NOI BO_N1   \n",
       "2      TT DICH VU NOI BO_N0  TT DICH VU NOI BO_N1   \n",
       "3      TT DICH VU NOI BO_N0  TT DICH VU NOI BO_N1   \n",
       "4      TT DICH VU NOI BO_N0  TT DICH VU NOI BO_N1   \n",
       "...                     ...                   ...   \n",
       "31899  TT DICH VU NOI BO_N0  TT DICH VU NOI BO_N1   \n",
       "31900  TT DICH VU NOI BO_N0  TT DICH VU NOI BO_N1   \n",
       "31901  TT DICH VU NOI BO_N0  TT DICH VU NOI BO_N1   \n",
       "31902  TT DICH VU NOI BO_N0  TT DICH VU NOI BO_N1   \n",
       "31903  TT DICH VU NOI BO_N0  TT DICH VU NOI BO_N1   \n",
       "\n",
       "                  Lv2_mapped_Node_v2             Lv3_mapped_Node_v3  \\\n",
       "0               TT DICH VU NOI BO_N2  TT QUAN LY CHUNG TOAN HANG_N3   \n",
       "1      TT QUAN LY CHUNG TOAN HANG_N2  TT QUAN LY CHUNG TOAN HANG_N3   \n",
       "2               TT DICH VU NOI BO_N2  TT QUAN LY CHUNG TOAN HANG_N3   \n",
       "3               TT DICH VU NOI BO_N2  TT QUAN LY CHUNG TOAN HANG_N3   \n",
       "4               TT DICH VU NOI BO_N2  TT QUAN LY CHUNG TOAN HANG_N3   \n",
       "...                              ...                            ...   \n",
       "31899  TT QUAN LY CHUNG TOAN HANG_N2  TT QUAN LY CHUNG TOAN HANG_N3   \n",
       "31900  TT QUAN LY CHUNG TOAN HANG_N2  TT QUAN LY CHUNG TOAN HANG_N3   \n",
       "31901  TT QUAN LY CHUNG TOAN HANG_N2  TT QUAN LY CHUNG TOAN HANG_N3   \n",
       "31902  TT QUAN LY CHUNG TOAN HANG_N2  TT QUAN LY CHUNG TOAN HANG_N3   \n",
       "31903  TT QUAN LY CHUNG TOAN HANG_N2  TT QUAN LY CHUNG TOAN HANG_N3   \n",
       "\n",
       "                        Lv4_mapped_Node_v4  \n",
       "0                          TT DOANH THU_N4  \n",
       "1      TT QUAN LY CHUNG KHOI KINH DOANH_N4  \n",
       "2                    TT HO TRO SAN PHAM_N4  \n",
       "3                          TT DOANH THU_N4  \n",
       "4      TT QUAN LY CHUNG KHOI KINH DOANH_N4  \n",
       "...                                    ...  \n",
       "31899        TT QUAN LY CHUNG TOAN HANG_N4  \n",
       "31900        TT QUAN LY CHUNG TOAN HANG_N4  \n",
       "31901        TT QUAN LY CHUNG TOAN HANG_N4  \n",
       "31902        TT QUAN LY CHUNG TOAN HANG_N4  \n",
       "31903        TT QUAN LY CHUNG TOAN HANG_N4  \n",
       "\n",
       "[31904 rows x 18 columns]"
      ]
     },
     "execution_count": 8,
     "metadata": {},
     "output_type": "execute_result"
    }
   ],
   "source": [
    "for i in range(5):\n",
    "    trans_df[f'Lv{i}_mapped_Node_v{i}'] = trans_df[f'Lv{i}'].map(map_name)\n",
    "    trans_df[f'Lv{i}_mapped_Node_v{i}'] = trans_df[f'Lv{i}_mapped_Node_v{i}'] + f'_N{i}'\n",
    "trans_df"
   ]
  },
  {
   "cell_type": "code",
   "execution_count": 10,
   "metadata": {},
   "outputs": [],
   "source": [
    "data = trans_df.groupby(['Lv0_mapped_Node_v0', 'Lv1_mapped_Node_v1', 'Lv2_mapped_Node_v2',\n",
    "       'Lv3_mapped_Node_v3', 'Lv4_mapped_Node_v4'])['Size'].sum().reset_index()"
   ]
  },
  {
   "cell_type": "code",
   "execution_count": 25,
   "metadata": {},
   "outputs": [
    {
     "data": {
      "application/vnd.plotly.v1+json": {
       "config": {
        "plotlyServerURL": "https://plot.ly"
       },
       "data": [
        {
         "link": {
          "color": [
           "rgba(0, 0, 0, 0.1)",
           "rgba(0, 0, 0, 0.1)",
           "rgba(0, 0, 0, 0.1)",
           "rgba(0, 0, 0, 0.1)",
           "rgba(0, 0, 0, 0.1)",
           "rgba(0, 0, 0, 0.1)",
           "rgba(0, 0, 0, 0.1)",
           "rgba(0, 0, 0, 0.1)",
           "rgba(0, 0, 0, 0.1)",
           "rgba(0, 0, 0, 0.1)",
           "rgba(0, 0, 0, 0.1)",
           "rgba(0, 0, 0, 0.1)",
           "rgba(0, 0, 0, 0.1)",
           "rgba(0, 0, 0, 0.1)",
           "rgba(0, 0, 0, 0.1)",
           "rgba(0, 0, 0, 0.1)",
           "rgba(0, 0, 0, 0.1)",
           "rgba(0, 0, 0, 0.1)",
           "rgba(0, 0, 0, 0.1)",
           "rgba(0, 0, 0, 0.1)",
           "rgba(0, 0, 0, 0.1)",
           "rgba(0, 0, 0, 0.1)",
           "rgba(0, 0, 0, 0.1)",
           "rgba(0, 0, 0, 0.1)",
           "rgba(0, 0, 0, 0.1)",
           "rgba(0, 0, 0, 0.1)",
           "rgba(0, 0, 0, 0.1)",
           "rgba(0, 0, 0, 0.1)",
           "rgba(0, 0, 0, 0.1)",
           "rgba(0, 0, 0, 0.1)",
           "rgba(0, 0, 0, 0.1)",
           "rgba(0, 0, 0, 0.1)",
           "rgba(0, 0, 0, 0.1)",
           "rgba(0, 0, 0, 0.1)",
           "rgba(0, 0, 0, 0.1)",
           "rgba(0, 0, 0, 0.1)",
           "rgba(0, 0, 0, 0.1)",
           "rgba(0, 0, 0, 0.1)",
           "rgba(0, 0, 0, 0.1)",
           "rgba(0, 0, 0, 0.1)",
           "rgba(0, 0, 0, 0.1)",
           "rgba(0, 0, 0, 0.1)",
           "rgba(0, 0, 0, 0.1)",
           "rgba(0, 0, 0, 0.1)",
           "rgba(0, 0, 0, 0.1)",
           "rgba(0, 0, 0, 0.1)",
           "rgba(0, 0, 0, 0.1)",
           "rgba(0, 0, 0, 0.1)",
           "rgba(0, 0, 0, 0.1)",
           "rgba(0, 0, 0, 0.1)",
           "rgba(0, 0, 0, 0.1)",
           "rgba(0, 0, 0, 0.1)",
           "rgba(0, 0, 0, 0.1)",
           "rgba(0, 0, 0, 0.1)",
           "rgba(0, 0, 0, 0.1)",
           "rgba(0, 0, 0, 0.1)",
           "rgba(0, 0, 0, 0.1)",
           "rgba(0, 0, 0, 0.1)",
           "rgba(0, 0, 0, 0.1)",
           "rgba(0, 0, 0, 0.1)",
           "rgba(0, 0, 0, 0.1)",
           "rgba(0, 0, 0, 0.1)",
           "rgba(0, 0, 0, 0.1)",
           "rgba(0, 0, 0, 0.1)",
           "rgba(0, 0, 0, 0.1)",
           "rgba(0, 0, 0, 0.1)",
           "rgba(0, 0, 0, 0.1)",
           "rgba(0, 0, 0, 0.1)",
           "rgba(0, 0, 0, 0.1)",
           "rgba(0, 0, 0, 0.1)",
           "rgba(0, 0, 0, 0.1)",
           "rgba(0, 0, 0, 0.1)",
           "rgba(0, 0, 0, 0.1)",
           "rgba(0, 0, 0, 0.1)",
           "rgba(0, 0, 0, 0.1)",
           "rgba(0, 0, 0, 0.1)",
           "rgba(0, 0, 0, 0.1)",
           "rgba(0, 0, 0, 0.1)",
           "rgba(0, 0, 0, 0.1)",
           "rgba(0, 0, 0, 0.1)",
           "rgba(0, 0, 0, 0.1)",
           "rgba(0, 0, 0, 0.1)",
           "rgba(0, 0, 0, 0.1)",
           "rgba(0, 0, 0, 0.1)",
           "rgba(0, 0, 0, 0.1)",
           "rgba(0, 0, 0, 0.1)",
           "rgba(0, 0, 0, 0.1)",
           "rgba(0, 0, 0, 0.1)",
           "rgba(0, 0, 0, 0.1)",
           "rgba(0, 0, 0, 0.1)",
           "rgba(0, 0, 0, 0.1)",
           "rgba(0, 0, 0, 0.1)",
           "rgba(0, 0, 0, 0.1)",
           "rgba(0, 0, 0, 0.1)",
           "rgba(0, 0, 0, 0.1)",
           "rgba(0, 0, 0, 0.1)",
           "rgba(0, 0, 0, 0.1)",
           "rgba(0, 0, 0, 0.1)",
           "rgba(0, 0, 0, 0.1)",
           "rgba(0, 0, 0, 0.1)",
           "rgba(0, 0, 0, 0.1)",
           "rgba(0, 0, 0, 0.1)",
           "rgba(0, 0, 0, 0.1)",
           "rgba(0, 0, 0, 0.1)",
           "rgba(0, 0, 0, 0.1)",
           "rgba(0, 0, 0, 0.1)",
           "rgba(0, 0, 0, 0.1)",
           "rgba(0, 0, 0, 0.1)",
           "rgba(0, 0, 0, 0.1)",
           "rgba(0, 0, 0, 0.1)",
           "rgba(0, 0, 0, 0.1)",
           "rgba(0, 0, 0, 0.1)",
           "rgba(0, 0, 0, 0.1)",
           "rgba(0, 0, 0, 0.1)",
           "rgba(0, 0, 0, 0.1)",
           "rgba(0, 0, 0, 0.1)",
           "rgba(0, 0, 0, 0.1)",
           "rgba(0, 0, 0, 0.1)",
           "rgba(0, 0, 0, 0.1)",
           "rgba(0, 0, 0, 0.1)",
           "rgba(0, 0, 0, 0.1)",
           "rgba(0, 0, 0, 0.1)",
           "rgba(0, 0, 0, 0.1)",
           "rgba(0, 0, 0, 0.1)",
           "rgba(0, 0, 0, 0.1)",
           "rgba(0, 0, 0, 0.1)",
           "rgba(0, 0, 0, 0.1)",
           "rgba(0, 0, 0, 0.1)"
          ],
          "source": [
           0,
           1,
           2,
           3,
           5,
           6,
           2,
           3,
           5,
           6,
           7,
           3,
           5,
           6,
           7,
           8,
           5,
           6,
           7,
           13,
           5,
           6,
           7,
           18,
           5,
           6,
           7,
           23,
           5,
           6,
           7,
           28,
           5,
           6,
           7,
           28,
           5,
           6,
           7,
           28,
           5,
           6,
           7,
           28,
           5,
           6,
           12,
           13,
           5,
           6,
           17,
           18,
           5,
           6,
           22,
           23,
           5,
           6,
           27,
           28,
           5,
           6,
           27,
           28,
           5,
           6,
           27,
           28,
           5,
           6,
           27,
           28,
           5,
           11,
           12,
           13,
           5,
           16,
           17,
           18,
           5,
           21,
           22,
           23,
           5,
           26,
           27,
           28,
           5,
           26,
           27,
           28,
           5,
           26,
           27,
           28,
           5,
           26,
           27,
           28,
           10,
           11,
           12,
           13,
           15,
           16,
           17,
           18,
           20,
           21,
           22,
           23,
           25,
           26,
           27,
           28,
           25,
           26,
           27,
           28,
           25,
           26,
           27,
           28,
           25,
           26,
           27,
           28
          ],
          "target": [
           1,
           2,
           3,
           4,
           6,
           2,
           3,
           4,
           6,
           7,
           3,
           4,
           6,
           7,
           8,
           9,
           6,
           7,
           13,
           14,
           6,
           7,
           18,
           19,
           6,
           7,
           23,
           24,
           6,
           7,
           28,
           14,
           6,
           7,
           28,
           19,
           6,
           7,
           28,
           24,
           6,
           7,
           28,
           29,
           6,
           12,
           13,
           14,
           6,
           17,
           18,
           19,
           6,
           22,
           23,
           24,
           6,
           27,
           28,
           14,
           6,
           27,
           28,
           19,
           6,
           27,
           28,
           24,
           6,
           27,
           28,
           29,
           11,
           12,
           13,
           14,
           16,
           17,
           18,
           19,
           21,
           22,
           23,
           24,
           26,
           27,
           28,
           14,
           26,
           27,
           28,
           19,
           26,
           27,
           28,
           24,
           26,
           27,
           28,
           29,
           11,
           12,
           13,
           14,
           16,
           17,
           18,
           19,
           21,
           22,
           23,
           24,
           26,
           27,
           28,
           14,
           26,
           27,
           28,
           19,
           26,
           27,
           28,
           24,
           26,
           27,
           28,
           29
          ],
          "value": [
           2273620505,
           2273620505,
           2273620505,
           2273620505,
           3250187815,
           3250187815,
           3250187815,
           3250187815,
           1361056,
           1361056,
           1361056,
           1361056,
           226827743,
           226827743,
           226827743,
           226827743,
           668163210,
           668163210,
           668163210,
           668163210,
           3027357773,
           3027357773,
           3027357773,
           3027357773,
           878511051,
           878511051,
           878511051,
           878511051,
           353936468,
           353936468,
           353936468,
           353936468,
           121910257,
           121910257,
           121910257,
           121910257,
           2772661373,
           2772661373,
           2772661373,
           2772661373,
           8019410176,
           8019410176,
           8019410176,
           8019410176,
           835955599,
           835955599,
           835955599,
           835955599,
           9051510848,
           9051510848,
           9051510848,
           9051510848,
           8578940760,
           8578940760,
           8578940760,
           8578940760,
           980187004,
           980187004,
           980187004,
           980187004,
           205703927,
           205703927,
           205703927,
           205703927,
           9049062470,
           9049062470,
           9049062470,
           9049062470,
           1654670893,
           1654670893,
           1654670893,
           1654670893,
           45627340,
           45627340,
           45627340,
           45627340,
           508979938,
           508979938,
           508979938,
           508979938,
           1256266945,
           1256266945,
           1256266945,
           1256266945,
           23169978,
           23169978,
           23169978,
           23169978,
           4567584,
           4567584,
           4567584,
           4567584,
           177526897,
           177526897,
           177526897,
           177526897,
           65014600,
           65014600,
           65014600,
           65014600,
           21419082170,
           21419082170,
           21419082170,
           21419082170,
           63973668698,
           63973668698,
           63973668698,
           63973668698,
           37242992289,
           37242992289,
           37242992289,
           37242992289,
           5759161204,
           5759161204,
           5759161204,
           5759161204,
           1168948436,
           1168948436,
           1168948436,
           1168948436,
           47706887989,
           47706887989,
           47706887989,
           47706887989,
           25748505643,
           25748505643,
           25748505643,
           25748505643
          ]
         },
         "node": {
          "color": "blue",
          "label": [
           "TT AO_N0",
           "TT AO_N1",
           "TT AO_N2",
           "TT AO_N3",
           "TT AO_N4",
           "TT DICH VU NOI BO_N0",
           "TT DICH VU NOI BO_N1",
           "TT DICH VU NOI BO_N2",
           "TT DICH VU NOI BO_N3",
           "TT DICH VU NOI BO_N4",
           "TT DOANH THU_N0",
           "TT DOANH THU_N1",
           "TT DOANH THU_N2",
           "TT DOANH THU_N3",
           "TT DOANH THU_N4",
           "TT HO TRO SAN PHAM_N0",
           "TT HO TRO SAN PHAM_N1",
           "TT HO TRO SAN PHAM_N2",
           "TT HO TRO SAN PHAM_N3",
           "TT HO TRO SAN PHAM_N4",
           "TT QUAN LY CHUNG KHOI KINH DOANH_N0",
           "TT QUAN LY CHUNG KHOI KINH DOANH_N1",
           "TT QUAN LY CHUNG KHOI KINH DOANH_N2",
           "TT QUAN LY CHUNG KHOI KINH DOANH_N3",
           "TT QUAN LY CHUNG KHOI KINH DOANH_N4",
           "TT QUAN LY CHUNG TOAN HANG_N0",
           "TT QUAN LY CHUNG TOAN HANG_N1",
           "TT QUAN LY CHUNG TOAN HANG_N2",
           "TT QUAN LY CHUNG TOAN HANG_N3",
           "TT QUAN LY CHUNG TOAN HANG_N4"
          ],
          "line": {
           "color": "black",
           "width": 0.5
          },
          "pad": 15,
          "thickness": 20
         },
         "type": "sankey"
        }
       ],
       "layout": {
        "font": {
         "size": 10
        },
        "template": {
         "data": {
          "bar": [
           {
            "error_x": {
             "color": "#2a3f5f"
            },
            "error_y": {
             "color": "#2a3f5f"
            },
            "marker": {
             "line": {
              "color": "#E5ECF6",
              "width": 0.5
             },
             "pattern": {
              "fillmode": "overlay",
              "size": 10,
              "solidity": 0.2
             }
            },
            "type": "bar"
           }
          ],
          "barpolar": [
           {
            "marker": {
             "line": {
              "color": "#E5ECF6",
              "width": 0.5
             },
             "pattern": {
              "fillmode": "overlay",
              "size": 10,
              "solidity": 0.2
             }
            },
            "type": "barpolar"
           }
          ],
          "carpet": [
           {
            "aaxis": {
             "endlinecolor": "#2a3f5f",
             "gridcolor": "white",
             "linecolor": "white",
             "minorgridcolor": "white",
             "startlinecolor": "#2a3f5f"
            },
            "baxis": {
             "endlinecolor": "#2a3f5f",
             "gridcolor": "white",
             "linecolor": "white",
             "minorgridcolor": "white",
             "startlinecolor": "#2a3f5f"
            },
            "type": "carpet"
           }
          ],
          "choropleth": [
           {
            "colorbar": {
             "outlinewidth": 0,
             "ticks": ""
            },
            "type": "choropleth"
           }
          ],
          "contour": [
           {
            "colorbar": {
             "outlinewidth": 0,
             "ticks": ""
            },
            "colorscale": [
             [
              0,
              "#0d0887"
             ],
             [
              0.1111111111111111,
              "#46039f"
             ],
             [
              0.2222222222222222,
              "#7201a8"
             ],
             [
              0.3333333333333333,
              "#9c179e"
             ],
             [
              0.4444444444444444,
              "#bd3786"
             ],
             [
              0.5555555555555556,
              "#d8576b"
             ],
             [
              0.6666666666666666,
              "#ed7953"
             ],
             [
              0.7777777777777778,
              "#fb9f3a"
             ],
             [
              0.8888888888888888,
              "#fdca26"
             ],
             [
              1,
              "#f0f921"
             ]
            ],
            "type": "contour"
           }
          ],
          "contourcarpet": [
           {
            "colorbar": {
             "outlinewidth": 0,
             "ticks": ""
            },
            "type": "contourcarpet"
           }
          ],
          "heatmap": [
           {
            "colorbar": {
             "outlinewidth": 0,
             "ticks": ""
            },
            "colorscale": [
             [
              0,
              "#0d0887"
             ],
             [
              0.1111111111111111,
              "#46039f"
             ],
             [
              0.2222222222222222,
              "#7201a8"
             ],
             [
              0.3333333333333333,
              "#9c179e"
             ],
             [
              0.4444444444444444,
              "#bd3786"
             ],
             [
              0.5555555555555556,
              "#d8576b"
             ],
             [
              0.6666666666666666,
              "#ed7953"
             ],
             [
              0.7777777777777778,
              "#fb9f3a"
             ],
             [
              0.8888888888888888,
              "#fdca26"
             ],
             [
              1,
              "#f0f921"
             ]
            ],
            "type": "heatmap"
           }
          ],
          "heatmapgl": [
           {
            "colorbar": {
             "outlinewidth": 0,
             "ticks": ""
            },
            "colorscale": [
             [
              0,
              "#0d0887"
             ],
             [
              0.1111111111111111,
              "#46039f"
             ],
             [
              0.2222222222222222,
              "#7201a8"
             ],
             [
              0.3333333333333333,
              "#9c179e"
             ],
             [
              0.4444444444444444,
              "#bd3786"
             ],
             [
              0.5555555555555556,
              "#d8576b"
             ],
             [
              0.6666666666666666,
              "#ed7953"
             ],
             [
              0.7777777777777778,
              "#fb9f3a"
             ],
             [
              0.8888888888888888,
              "#fdca26"
             ],
             [
              1,
              "#f0f921"
             ]
            ],
            "type": "heatmapgl"
           }
          ],
          "histogram": [
           {
            "marker": {
             "pattern": {
              "fillmode": "overlay",
              "size": 10,
              "solidity": 0.2
             }
            },
            "type": "histogram"
           }
          ],
          "histogram2d": [
           {
            "colorbar": {
             "outlinewidth": 0,
             "ticks": ""
            },
            "colorscale": [
             [
              0,
              "#0d0887"
             ],
             [
              0.1111111111111111,
              "#46039f"
             ],
             [
              0.2222222222222222,
              "#7201a8"
             ],
             [
              0.3333333333333333,
              "#9c179e"
             ],
             [
              0.4444444444444444,
              "#bd3786"
             ],
             [
              0.5555555555555556,
              "#d8576b"
             ],
             [
              0.6666666666666666,
              "#ed7953"
             ],
             [
              0.7777777777777778,
              "#fb9f3a"
             ],
             [
              0.8888888888888888,
              "#fdca26"
             ],
             [
              1,
              "#f0f921"
             ]
            ],
            "type": "histogram2d"
           }
          ],
          "histogram2dcontour": [
           {
            "colorbar": {
             "outlinewidth": 0,
             "ticks": ""
            },
            "colorscale": [
             [
              0,
              "#0d0887"
             ],
             [
              0.1111111111111111,
              "#46039f"
             ],
             [
              0.2222222222222222,
              "#7201a8"
             ],
             [
              0.3333333333333333,
              "#9c179e"
             ],
             [
              0.4444444444444444,
              "#bd3786"
             ],
             [
              0.5555555555555556,
              "#d8576b"
             ],
             [
              0.6666666666666666,
              "#ed7953"
             ],
             [
              0.7777777777777778,
              "#fb9f3a"
             ],
             [
              0.8888888888888888,
              "#fdca26"
             ],
             [
              1,
              "#f0f921"
             ]
            ],
            "type": "histogram2dcontour"
           }
          ],
          "mesh3d": [
           {
            "colorbar": {
             "outlinewidth": 0,
             "ticks": ""
            },
            "type": "mesh3d"
           }
          ],
          "parcoords": [
           {
            "line": {
             "colorbar": {
              "outlinewidth": 0,
              "ticks": ""
             }
            },
            "type": "parcoords"
           }
          ],
          "pie": [
           {
            "automargin": true,
            "type": "pie"
           }
          ],
          "scatter": [
           {
            "fillpattern": {
             "fillmode": "overlay",
             "size": 10,
             "solidity": 0.2
            },
            "type": "scatter"
           }
          ],
          "scatter3d": [
           {
            "line": {
             "colorbar": {
              "outlinewidth": 0,
              "ticks": ""
             }
            },
            "marker": {
             "colorbar": {
              "outlinewidth": 0,
              "ticks": ""
             }
            },
            "type": "scatter3d"
           }
          ],
          "scattercarpet": [
           {
            "marker": {
             "colorbar": {
              "outlinewidth": 0,
              "ticks": ""
             }
            },
            "type": "scattercarpet"
           }
          ],
          "scattergeo": [
           {
            "marker": {
             "colorbar": {
              "outlinewidth": 0,
              "ticks": ""
             }
            },
            "type": "scattergeo"
           }
          ],
          "scattergl": [
           {
            "marker": {
             "colorbar": {
              "outlinewidth": 0,
              "ticks": ""
             }
            },
            "type": "scattergl"
           }
          ],
          "scattermapbox": [
           {
            "marker": {
             "colorbar": {
              "outlinewidth": 0,
              "ticks": ""
             }
            },
            "type": "scattermapbox"
           }
          ],
          "scatterpolar": [
           {
            "marker": {
             "colorbar": {
              "outlinewidth": 0,
              "ticks": ""
             }
            },
            "type": "scatterpolar"
           }
          ],
          "scatterpolargl": [
           {
            "marker": {
             "colorbar": {
              "outlinewidth": 0,
              "ticks": ""
             }
            },
            "type": "scatterpolargl"
           }
          ],
          "scatterternary": [
           {
            "marker": {
             "colorbar": {
              "outlinewidth": 0,
              "ticks": ""
             }
            },
            "type": "scatterternary"
           }
          ],
          "surface": [
           {
            "colorbar": {
             "outlinewidth": 0,
             "ticks": ""
            },
            "colorscale": [
             [
              0,
              "#0d0887"
             ],
             [
              0.1111111111111111,
              "#46039f"
             ],
             [
              0.2222222222222222,
              "#7201a8"
             ],
             [
              0.3333333333333333,
              "#9c179e"
             ],
             [
              0.4444444444444444,
              "#bd3786"
             ],
             [
              0.5555555555555556,
              "#d8576b"
             ],
             [
              0.6666666666666666,
              "#ed7953"
             ],
             [
              0.7777777777777778,
              "#fb9f3a"
             ],
             [
              0.8888888888888888,
              "#fdca26"
             ],
             [
              1,
              "#f0f921"
             ]
            ],
            "type": "surface"
           }
          ],
          "table": [
           {
            "cells": {
             "fill": {
              "color": "#EBF0F8"
             },
             "line": {
              "color": "white"
             }
            },
            "header": {
             "fill": {
              "color": "#C8D4E3"
             },
             "line": {
              "color": "white"
             }
            },
            "type": "table"
           }
          ]
         },
         "layout": {
          "annotationdefaults": {
           "arrowcolor": "#2a3f5f",
           "arrowhead": 0,
           "arrowwidth": 1
          },
          "autotypenumbers": "strict",
          "coloraxis": {
           "colorbar": {
            "outlinewidth": 0,
            "ticks": ""
           }
          },
          "colorscale": {
           "diverging": [
            [
             0,
             "#8e0152"
            ],
            [
             0.1,
             "#c51b7d"
            ],
            [
             0.2,
             "#de77ae"
            ],
            [
             0.3,
             "#f1b6da"
            ],
            [
             0.4,
             "#fde0ef"
            ],
            [
             0.5,
             "#f7f7f7"
            ],
            [
             0.6,
             "#e6f5d0"
            ],
            [
             0.7,
             "#b8e186"
            ],
            [
             0.8,
             "#7fbc41"
            ],
            [
             0.9,
             "#4d9221"
            ],
            [
             1,
             "#276419"
            ]
           ],
           "sequential": [
            [
             0,
             "#0d0887"
            ],
            [
             0.1111111111111111,
             "#46039f"
            ],
            [
             0.2222222222222222,
             "#7201a8"
            ],
            [
             0.3333333333333333,
             "#9c179e"
            ],
            [
             0.4444444444444444,
             "#bd3786"
            ],
            [
             0.5555555555555556,
             "#d8576b"
            ],
            [
             0.6666666666666666,
             "#ed7953"
            ],
            [
             0.7777777777777778,
             "#fb9f3a"
            ],
            [
             0.8888888888888888,
             "#fdca26"
            ],
            [
             1,
             "#f0f921"
            ]
           ],
           "sequentialminus": [
            [
             0,
             "#0d0887"
            ],
            [
             0.1111111111111111,
             "#46039f"
            ],
            [
             0.2222222222222222,
             "#7201a8"
            ],
            [
             0.3333333333333333,
             "#9c179e"
            ],
            [
             0.4444444444444444,
             "#bd3786"
            ],
            [
             0.5555555555555556,
             "#d8576b"
            ],
            [
             0.6666666666666666,
             "#ed7953"
            ],
            [
             0.7777777777777778,
             "#fb9f3a"
            ],
            [
             0.8888888888888888,
             "#fdca26"
            ],
            [
             1,
             "#f0f921"
            ]
           ]
          },
          "colorway": [
           "#636efa",
           "#EF553B",
           "#00cc96",
           "#ab63fa",
           "#FFA15A",
           "#19d3f3",
           "#FF6692",
           "#B6E880",
           "#FF97FF",
           "#FECB52"
          ],
          "font": {
           "color": "#2a3f5f"
          },
          "geo": {
           "bgcolor": "white",
           "lakecolor": "white",
           "landcolor": "#E5ECF6",
           "showlakes": true,
           "showland": true,
           "subunitcolor": "white"
          },
          "hoverlabel": {
           "align": "left"
          },
          "hovermode": "closest",
          "mapbox": {
           "style": "light"
          },
          "paper_bgcolor": "white",
          "plot_bgcolor": "#E5ECF6",
          "polar": {
           "angularaxis": {
            "gridcolor": "white",
            "linecolor": "white",
            "ticks": ""
           },
           "bgcolor": "#E5ECF6",
           "radialaxis": {
            "gridcolor": "white",
            "linecolor": "white",
            "ticks": ""
           }
          },
          "scene": {
           "xaxis": {
            "backgroundcolor": "#E5ECF6",
            "gridcolor": "white",
            "gridwidth": 2,
            "linecolor": "white",
            "showbackground": true,
            "ticks": "",
            "zerolinecolor": "white"
           },
           "yaxis": {
            "backgroundcolor": "#E5ECF6",
            "gridcolor": "white",
            "gridwidth": 2,
            "linecolor": "white",
            "showbackground": true,
            "ticks": "",
            "zerolinecolor": "white"
           },
           "zaxis": {
            "backgroundcolor": "#E5ECF6",
            "gridcolor": "white",
            "gridwidth": 2,
            "linecolor": "white",
            "showbackground": true,
            "ticks": "",
            "zerolinecolor": "white"
           }
          },
          "shapedefaults": {
           "line": {
            "color": "#2a3f5f"
           }
          },
          "ternary": {
           "aaxis": {
            "gridcolor": "white",
            "linecolor": "white",
            "ticks": ""
           },
           "baxis": {
            "gridcolor": "white",
            "linecolor": "white",
            "ticks": ""
           },
           "bgcolor": "#E5ECF6",
           "caxis": {
            "gridcolor": "white",
            "linecolor": "white",
            "ticks": ""
           }
          },
          "title": {
           "x": 0.05
          },
          "xaxis": {
           "automargin": true,
           "gridcolor": "white",
           "linecolor": "white",
           "ticks": "",
           "title": {
            "standoff": 15
           },
           "zerolinecolor": "white",
           "zerolinewidth": 2
          },
          "yaxis": {
           "automargin": true,
           "gridcolor": "white",
           "linecolor": "white",
           "ticks": "",
           "title": {
            "standoff": 15
           },
           "zerolinecolor": "white",
           "zerolinewidth": 2
          }
         }
        },
        "title": {
         "text": "Multi-Level Sankey Diagram"
        }
       }
      }
     },
     "metadata": {},
     "output_type": "display_data"
    }
   ],
   "source": [
    "#data = trans_df\n",
    "# Convert numeric levels to string\n",
    "level_columns = [ 'Lv0_mapped_Node_v0', 'Lv1_mapped_Node_v1', 'Lv2_mapped_Node_v2',\n",
    "       'Lv3_mapped_Node_v3', 'Lv4_mapped_Node_v4']\n",
    "data[level_columns] = data[level_columns].astype(str)\n",
    "\n",
    "# Function to create a mapping of each unique step to a unique integer\n",
    "def create_node_mapping(data, level_columns):\n",
    "    unique_nodes = set()\n",
    "    for col in level_columns:\n",
    "        unique_nodes.update(data[col].unique())\n",
    "    return {node: i for i, node in enumerate(sorted(unique_nodes))}\n",
    "\n",
    "# Create the node mapping\n",
    "node_mapping = create_node_mapping(data, level_columns)\n",
    "\n",
    "# Prepare source, target, and value lists for the Sankey diagram\n",
    "sources = []\n",
    "targets = []\n",
    "values = []\n",
    "colors = []  # For link colors\n",
    "\n",
    "highlight_color = 'rgba(255, 0, 0, 0.5)'  # Highlight color for the paths leading to the highlighted node\n",
    "default_color = 'rgba(0, 0, 0, 0.1)'  # Default color for other paths\n",
    "\n",
    "# Function to check if a row includes the highlighted node\n",
    "def row_includes_highlighted_node(row, highlighted_node):\n",
    "    return highlighted_node in row[level_columns].values\n",
    "\n",
    "# Populate source, target, values, and colors\n",
    "for _, row in data.iterrows():\n",
    "    row_highlighted = row_includes_highlighted_node(row, 'TRUNG TAM DICH VU NOI BO_N1')\n",
    "    for i in range(len(level_columns) - 1):\n",
    "        source = node_mapping[row[level_columns[i]]]\n",
    "        target = node_mapping[row[level_columns[i + 1]]]\n",
    "        value = row['Size']\n",
    "        sources.append(source)\n",
    "        targets.append(target)\n",
    "        values.append(value)\n",
    "        colors.append(highlight_color if row_highlighted else default_color)\n",
    "\n",
    "# Create the Sankey diagram\n",
    "fig = go.Figure(data=[go.Sankey(\n",
    "    node=dict(\n",
    "        pad=15,\n",
    "        thickness=20,\n",
    "        line=dict(color=\"black\", width=0.5),\n",
    "        label=list(node_mapping.keys()),\n",
    "        color=\"blue\"\n",
    "    ),\n",
    "    link=dict(\n",
    "        source=sources,\n",
    "        target=targets,\n",
    "        value=values,\n",
    "        color=colors  # Add custom colors\n",
    "    )\n",
    ")])\n",
    "\n",
    "fig.update_layout(title_text=\"Multi-Level Sankey Diagram\", font_size=10)\n",
    "fig.show()"
   ]
  },
  {
   "cell_type": "code",
   "execution_count": 13,
   "metadata": {},
   "outputs": [
    {
     "data": {
      "text/plain": [
       "Index(['Lv0_mapped_Node_v0', 'Lv1_mapped_Node_v1', 'Lv2_mapped_Node_v2',\n",
       "       'Lv3_mapped_Node_v3', 'Lv4_mapped_Node_v4', 'Size'],\n",
       "      dtype='object')"
      ]
     },
     "execution_count": 13,
     "metadata": {},
     "output_type": "execute_result"
    }
   ],
   "source": [
    "data.columns"
   ]
  },
  {
   "cell_type": "code",
   "execution_count": 14,
   "metadata": {},
   "outputs": [
    {
     "data": {
      "text/html": [
       "<div>\n",
       "<style scoped>\n",
       "    .dataframe tbody tr th:only-of-type {\n",
       "        vertical-align: middle;\n",
       "    }\n",
       "\n",
       "    .dataframe tbody tr th {\n",
       "        vertical-align: top;\n",
       "    }\n",
       "\n",
       "    .dataframe thead th {\n",
       "        text-align: right;\n",
       "    }\n",
       "</style>\n",
       "<table border=\"1\" class=\"dataframe\">\n",
       "  <thead>\n",
       "    <tr style=\"text-align: right;\">\n",
       "      <th></th>\n",
       "      <th>Lv0_mapped_Node_v0</th>\n",
       "      <th>Lv1_mapped_Node_v1</th>\n",
       "      <th>Lv2_mapped_Node_v2</th>\n",
       "      <th>Lv3_mapped_Node_v3</th>\n",
       "      <th>Lv4_mapped_Node_v4</th>\n",
       "      <th>Size</th>\n",
       "    </tr>\n",
       "  </thead>\n",
       "  <tbody>\n",
       "    <tr>\n",
       "      <th>0</th>\n",
       "      <td>TT AO_N0</td>\n",
       "      <td>TT AO_N1</td>\n",
       "      <td>TT AO_N2</td>\n",
       "      <td>TT AO_N3</td>\n",
       "      <td>TT AO_N4</td>\n",
       "      <td>2273620505</td>\n",
       "    </tr>\n",
       "    <tr>\n",
       "      <th>1</th>\n",
       "      <td>TT DICH VU NOI BO_N0</td>\n",
       "      <td>TT DICH VU NOI BO_N1</td>\n",
       "      <td>TT AO_N2</td>\n",
       "      <td>TT AO_N3</td>\n",
       "      <td>TT AO_N4</td>\n",
       "      <td>3250187815</td>\n",
       "    </tr>\n",
       "  </tbody>\n",
       "</table>\n",
       "</div>"
      ],
      "text/plain": [
       "     Lv0_mapped_Node_v0    Lv1_mapped_Node_v1 Lv2_mapped_Node_v2  \\\n",
       "0              TT AO_N0              TT AO_N1           TT AO_N2   \n",
       "1  TT DICH VU NOI BO_N0  TT DICH VU NOI BO_N1           TT AO_N2   \n",
       "\n",
       "  Lv3_mapped_Node_v3 Lv4_mapped_Node_v4        Size  \n",
       "0           TT AO_N3           TT AO_N4  2273620505  \n",
       "1           TT AO_N3           TT AO_N4  3250187815  "
      ]
     },
     "execution_count": 14,
     "metadata": {},
     "output_type": "execute_result"
    }
   ],
   "source": [
    "values_to_filter = ['TT AO_N2']\n",
    "filtered_df = data[data.isin(values_to_filter).any(axis=1)]\n",
    "filtered_df"
   ]
  },
  {
   "cell_type": "code",
   "execution_count": 15,
   "metadata": {},
   "outputs": [
    {
     "data": {
      "text/plain": [
       "['Lv0_mapped_Node_v0',\n",
       " 'Lv1_mapped_Node_v1',\n",
       " 'Lv2_mapped_Node_v2',\n",
       " 'Lv3_mapped_Node_v3',\n",
       " 'Lv4_mapped_Node_v4']"
      ]
     },
     "execution_count": 15,
     "metadata": {},
     "output_type": "execute_result"
    }
   ],
   "source": [
    "mapped_columns = [f\"Lv{i}_mapped_Node_v{i}\" for i in range(5)]\n",
    "mapped_columns"
   ]
  },
  {
   "cell_type": "code",
   "execution_count": 16,
   "metadata": {},
   "outputs": [
    {
     "name": "stderr",
     "output_type": "stream",
     "text": [
      "C:\\Users\\Admin\\AppData\\Local\\Temp\\ipykernel_14644\\4134020179.py:2: SettingWithCopyWarning:\n",
      "\n",
      "\n",
      "A value is trying to be set on a copy of a slice from a DataFrame.\n",
      "Try using .loc[row_indexer,col_indexer] = value instead\n",
      "\n",
      "See the caveats in the documentation: https://pandas.pydata.org/pandas-docs/stable/user_guide/indexing.html#returning-a-view-versus-a-copy\n",
      "\n"
     ]
    }
   ],
   "source": [
    "for col in mapped_columns:\n",
    "    filtered_df[col] = filtered_df[col].str[:-3]"
   ]
  },
  {
   "cell_type": "code",
   "execution_count": 17,
   "metadata": {},
   "outputs": [
    {
     "data": {
      "text/html": [
       "<div>\n",
       "<style scoped>\n",
       "    .dataframe tbody tr th:only-of-type {\n",
       "        vertical-align: middle;\n",
       "    }\n",
       "\n",
       "    .dataframe tbody tr th {\n",
       "        vertical-align: top;\n",
       "    }\n",
       "\n",
       "    .dataframe thead th {\n",
       "        text-align: right;\n",
       "    }\n",
       "</style>\n",
       "<table border=\"1\" class=\"dataframe\">\n",
       "  <thead>\n",
       "    <tr style=\"text-align: right;\">\n",
       "      <th></th>\n",
       "      <th>Lv0_mapped_Node_v0</th>\n",
       "      <th>Percentage_0</th>\n",
       "      <th>Lv1_mapped_Node_v1</th>\n",
       "      <th>Percentage_1</th>\n",
       "      <th>Lv2_mapped_Node_v2</th>\n",
       "      <th>Percentage_2</th>\n",
       "      <th>Lv3_mapped_Node_v3</th>\n",
       "      <th>Percentage_3</th>\n",
       "      <th>Lv4_mapped_Node_v4</th>\n",
       "      <th>Percentage_4</th>\n",
       "    </tr>\n",
       "  </thead>\n",
       "  <tbody>\n",
       "    <tr>\n",
       "      <th>0</th>\n",
       "      <td>TT AO</td>\n",
       "      <td>0.411604</td>\n",
       "      <td>TT AO</td>\n",
       "      <td>0.411604</td>\n",
       "      <td>TT AO</td>\n",
       "      <td>1.0</td>\n",
       "      <td>TT AO</td>\n",
       "      <td>1.0</td>\n",
       "      <td>TT AO</td>\n",
       "      <td>1.0</td>\n",
       "    </tr>\n",
       "    <tr>\n",
       "      <th>1</th>\n",
       "      <td>TT DICH VU NOI BO</td>\n",
       "      <td>0.588396</td>\n",
       "      <td>TT DICH VU NOI BO</td>\n",
       "      <td>0.588396</td>\n",
       "      <td>NaN</td>\n",
       "      <td>NaN</td>\n",
       "      <td>NaN</td>\n",
       "      <td>NaN</td>\n",
       "      <td>NaN</td>\n",
       "      <td>NaN</td>\n",
       "    </tr>\n",
       "  </tbody>\n",
       "</table>\n",
       "</div>"
      ],
      "text/plain": [
       "  Lv0_mapped_Node_v0  Percentage_0 Lv1_mapped_Node_v1  Percentage_1  \\\n",
       "0              TT AO      0.411604              TT AO      0.411604   \n",
       "1  TT DICH VU NOI BO      0.588396  TT DICH VU NOI BO      0.588396   \n",
       "\n",
       "  Lv2_mapped_Node_v2  Percentage_2 Lv3_mapped_Node_v3  Percentage_3  \\\n",
       "0              TT AO           1.0              TT AO           1.0   \n",
       "1                NaN           NaN                NaN           NaN   \n",
       "\n",
       "  Lv4_mapped_Node_v4  Percentage_4  \n",
       "0              TT AO           1.0  \n",
       "1                NaN           NaN  "
      ]
     },
     "execution_count": 17,
     "metadata": {},
     "output_type": "execute_result"
    }
   ],
   "source": [
    "def calculate_percentage(df, level_column, size_column):\n",
    "    grouped_df = df[[level_column, size_column]].groupby(level_column)[size_column].sum().reset_index()\n",
    "    total_size = grouped_df[size_column].sum()\n",
    "    grouped_df[f'Percentage_{level_column[-1]}'] = grouped_df[size_column] / total_size \n",
    "    return grouped_df.drop(size_column, axis=1)\n",
    "\n",
    "results = []\n",
    "for i in range(5):\n",
    "    level_column = f'Lv{i}_mapped_Node_v{i}'\n",
    "    result = calculate_percentage(filtered_df, level_column, 'Size')\n",
    "    results.append(result)\n",
    "\n",
    "final_result = pd.concat(results, axis=1)\n",
    "final_result"
   ]
  },
  {
   "cell_type": "code",
   "execution_count": 18,
   "metadata": {},
   "outputs": [
    {
     "data": {
      "text/html": [
       "<div>\n",
       "<style scoped>\n",
       "    .dataframe tbody tr th:only-of-type {\n",
       "        vertical-align: middle;\n",
       "    }\n",
       "\n",
       "    .dataframe tbody tr th {\n",
       "        vertical-align: top;\n",
       "    }\n",
       "\n",
       "    .dataframe thead th {\n",
       "        text-align: right;\n",
       "    }\n",
       "</style>\n",
       "<table border=\"1\" class=\"dataframe\">\n",
       "  <thead>\n",
       "    <tr style=\"text-align: right;\">\n",
       "      <th></th>\n",
       "      <th>Lv2_mapped_Node_v2</th>\n",
       "      <th>Size</th>\n",
       "    </tr>\n",
       "  </thead>\n",
       "  <tbody>\n",
       "    <tr>\n",
       "      <th>0</th>\n",
       "      <td>TT AO_N2</td>\n",
       "      <td>5523808320</td>\n",
       "    </tr>\n",
       "    <tr>\n",
       "      <th>1</th>\n",
       "      <td>TT DICH VU NOI BO_N2</td>\n",
       "      <td>16070139107</td>\n",
       "    </tr>\n",
       "    <tr>\n",
       "      <th>2</th>\n",
       "      <td>TT DOANH THU_N2</td>\n",
       "      <td>22300665109</td>\n",
       "    </tr>\n",
       "    <tr>\n",
       "      <th>3</th>\n",
       "      <td>TT HO TRO SAN PHAM_N2</td>\n",
       "      <td>73534159484</td>\n",
       "    </tr>\n",
       "    <tr>\n",
       "      <th>4</th>\n",
       "      <td>TT QUAN LY CHUNG KHOI KINH DOANH_N2</td>\n",
       "      <td>47078199994</td>\n",
       "    </tr>\n",
       "    <tr>\n",
       "      <th>5</th>\n",
       "      <td>TT QUAN LY CHUNG TOAN HANG_N2</td>\n",
       "      <td>92543406625</td>\n",
       "    </tr>\n",
       "  </tbody>\n",
       "</table>\n",
       "</div>"
      ],
      "text/plain": [
       "                    Lv2_mapped_Node_v2         Size\n",
       "0                             TT AO_N2   5523808320\n",
       "1                 TT DICH VU NOI BO_N2  16070139107\n",
       "2                      TT DOANH THU_N2  22300665109\n",
       "3                TT HO TRO SAN PHAM_N2  73534159484\n",
       "4  TT QUAN LY CHUNG KHOI KINH DOANH_N2  47078199994\n",
       "5        TT QUAN LY CHUNG TOAN HANG_N2  92543406625"
      ]
     },
     "execution_count": 18,
     "metadata": {},
     "output_type": "execute_result"
    }
   ],
   "source": [
    "data[['Lv2_mapped_Node_v2', 'Size']].groupby('Lv2_mapped_Node_v2')['Size'].sum().reset_index()"
   ]
  },
  {
   "cell_type": "code",
   "execution_count": 19,
   "metadata": {},
   "outputs": [
    {
     "data": {
      "text/html": [
       "<style type=\"text/css\">\n",
       "</style>\n",
       "<table id=\"T_9d979\">\n",
       "  <thead>\n",
       "    <tr>\n",
       "      <th class=\"blank level0\" >&nbsp;</th>\n",
       "      <th id=\"T_9d979_level0_col0\" class=\"col_heading level0 col0\" >Lv0_mapped_Node_v0</th>\n",
       "      <th id=\"T_9d979_level0_col1\" class=\"col_heading level0 col1\" >Percentage_0</th>\n",
       "      <th id=\"T_9d979_level0_col2\" class=\"col_heading level0 col2\" >Lv1_mapped_Node_v1</th>\n",
       "      <th id=\"T_9d979_level0_col3\" class=\"col_heading level0 col3\" >Percentage_1</th>\n",
       "      <th id=\"T_9d979_level0_col4\" class=\"col_heading level0 col4\" >Lv2_mapped_Node_v2</th>\n",
       "      <th id=\"T_9d979_level0_col5\" class=\"col_heading level0 col5\" >Percentage_2</th>\n",
       "      <th id=\"T_9d979_level0_col6\" class=\"col_heading level0 col6\" >Lv3_mapped_Node_v3</th>\n",
       "      <th id=\"T_9d979_level0_col7\" class=\"col_heading level0 col7\" >Percentage_3</th>\n",
       "      <th id=\"T_9d979_level0_col8\" class=\"col_heading level0 col8\" >Lv4_mapped_Node_v4</th>\n",
       "      <th id=\"T_9d979_level0_col9\" class=\"col_heading level0 col9\" >Percentage_4</th>\n",
       "    </tr>\n",
       "  </thead>\n",
       "  <tbody>\n",
       "    <tr>\n",
       "      <th id=\"T_9d979_level0_row0\" class=\"row_heading level0 row0\" >0</th>\n",
       "      <td id=\"T_9d979_row0_col0\" class=\"data row0 col0\" >TT AO</td>\n",
       "      <td id=\"T_9d979_row0_col1\" class=\"data row0 col1\" >41.16%</td>\n",
       "      <td id=\"T_9d979_row0_col2\" class=\"data row0 col2\" >TT AO</td>\n",
       "      <td id=\"T_9d979_row0_col3\" class=\"data row0 col3\" >41.16%</td>\n",
       "      <td id=\"T_9d979_row0_col4\" class=\"data row0 col4\" >TT AO</td>\n",
       "      <td id=\"T_9d979_row0_col5\" class=\"data row0 col5\" >100.00%</td>\n",
       "      <td id=\"T_9d979_row0_col6\" class=\"data row0 col6\" >TT AO</td>\n",
       "      <td id=\"T_9d979_row0_col7\" class=\"data row0 col7\" >100.00%</td>\n",
       "      <td id=\"T_9d979_row0_col8\" class=\"data row0 col8\" >TT AO</td>\n",
       "      <td id=\"T_9d979_row0_col9\" class=\"data row0 col9\" >100.00%</td>\n",
       "    </tr>\n",
       "    <tr>\n",
       "      <th id=\"T_9d979_level0_row1\" class=\"row_heading level0 row1\" >1</th>\n",
       "      <td id=\"T_9d979_row1_col0\" class=\"data row1 col0\" >TT DICH VU NOI BO</td>\n",
       "      <td id=\"T_9d979_row1_col1\" class=\"data row1 col1\" >58.84%</td>\n",
       "      <td id=\"T_9d979_row1_col2\" class=\"data row1 col2\" >TT DICH VU NOI BO</td>\n",
       "      <td id=\"T_9d979_row1_col3\" class=\"data row1 col3\" >58.84%</td>\n",
       "      <td id=\"T_9d979_row1_col4\" class=\"data row1 col4\" >nan</td>\n",
       "      <td id=\"T_9d979_row1_col5\" class=\"data row1 col5\" >nan%</td>\n",
       "      <td id=\"T_9d979_row1_col6\" class=\"data row1 col6\" >nan</td>\n",
       "      <td id=\"T_9d979_row1_col7\" class=\"data row1 col7\" >nan%</td>\n",
       "      <td id=\"T_9d979_row1_col8\" class=\"data row1 col8\" >nan</td>\n",
       "      <td id=\"T_9d979_row1_col9\" class=\"data row1 col9\" >nan%</td>\n",
       "    </tr>\n",
       "  </tbody>\n",
       "</table>\n"
      ],
      "text/plain": [
       "<pandas.io.formats.style.Styler at 0x1844fb9d690>"
      ]
     },
     "execution_count": 19,
     "metadata": {},
     "output_type": "execute_result"
    }
   ],
   "source": [
    "final_result.style.format({\n",
    "    'Percentage_0': '{:.2%}'.format,\n",
    "    'Percentage_1': '{:.2%}'.format,\n",
    "    'Percentage_2': '{:.2%}'.format,\n",
    "    'Percentage_3': '{:.2%}'.format,\n",
    "    'Percentage_4': '{:.2%}'.format\n",
    "})"
   ]
  },
  {
   "cell_type": "code",
   "execution_count": 20,
   "metadata": {},
   "outputs": [
    {
     "name": "stderr",
     "output_type": "stream",
     "text": [
      "C:\\Users\\Admin\\AppData\\Local\\Temp\\ipykernel_14644\\860178834.py:1: FutureWarning:\n",
      "\n",
      "`null_color` is deprecated: use `color` instead\n",
      "\n"
     ]
    }
   ],
   "source": [
    "final_result = final_result.style.highlight_null(null_color=\"black\")"
   ]
  },
  {
   "cell_type": "code",
   "execution_count": 21,
   "metadata": {},
   "outputs": [
    {
     "data": {
      "text/html": [
       "<style type=\"text/css\">\n",
       "#T_afc64_row1_col4, #T_afc64_row1_col5, #T_afc64_row1_col6, #T_afc64_row1_col7, #T_afc64_row1_col8, #T_afc64_row1_col9 {\n",
       "  background-color: black;\n",
       "}\n",
       "</style>\n",
       "<table id=\"T_afc64\">\n",
       "  <thead>\n",
       "    <tr>\n",
       "      <th class=\"blank level0\" >&nbsp;</th>\n",
       "      <th id=\"T_afc64_level0_col0\" class=\"col_heading level0 col0\" >Lv0_mapped_Node_v0</th>\n",
       "      <th id=\"T_afc64_level0_col1\" class=\"col_heading level0 col1\" >Percentage_0</th>\n",
       "      <th id=\"T_afc64_level0_col2\" class=\"col_heading level0 col2\" >Lv1_mapped_Node_v1</th>\n",
       "      <th id=\"T_afc64_level0_col3\" class=\"col_heading level0 col3\" >Percentage_1</th>\n",
       "      <th id=\"T_afc64_level0_col4\" class=\"col_heading level0 col4\" >Lv2_mapped_Node_v2</th>\n",
       "      <th id=\"T_afc64_level0_col5\" class=\"col_heading level0 col5\" >Percentage_2</th>\n",
       "      <th id=\"T_afc64_level0_col6\" class=\"col_heading level0 col6\" >Lv3_mapped_Node_v3</th>\n",
       "      <th id=\"T_afc64_level0_col7\" class=\"col_heading level0 col7\" >Percentage_3</th>\n",
       "      <th id=\"T_afc64_level0_col8\" class=\"col_heading level0 col8\" >Lv4_mapped_Node_v4</th>\n",
       "      <th id=\"T_afc64_level0_col9\" class=\"col_heading level0 col9\" >Percentage_4</th>\n",
       "    </tr>\n",
       "  </thead>\n",
       "  <tbody>\n",
       "    <tr>\n",
       "      <th id=\"T_afc64_level0_row0\" class=\"row_heading level0 row0\" >0</th>\n",
       "      <td id=\"T_afc64_row0_col0\" class=\"data row0 col0\" >TT AO</td>\n",
       "      <td id=\"T_afc64_row0_col1\" class=\"data row0 col1\" >0.411604</td>\n",
       "      <td id=\"T_afc64_row0_col2\" class=\"data row0 col2\" >TT AO</td>\n",
       "      <td id=\"T_afc64_row0_col3\" class=\"data row0 col3\" >0.411604</td>\n",
       "      <td id=\"T_afc64_row0_col4\" class=\"data row0 col4\" >TT AO</td>\n",
       "      <td id=\"T_afc64_row0_col5\" class=\"data row0 col5\" >1.000000</td>\n",
       "      <td id=\"T_afc64_row0_col6\" class=\"data row0 col6\" >TT AO</td>\n",
       "      <td id=\"T_afc64_row0_col7\" class=\"data row0 col7\" >1.000000</td>\n",
       "      <td id=\"T_afc64_row0_col8\" class=\"data row0 col8\" >TT AO</td>\n",
       "      <td id=\"T_afc64_row0_col9\" class=\"data row0 col9\" >1.000000</td>\n",
       "    </tr>\n",
       "    <tr>\n",
       "      <th id=\"T_afc64_level0_row1\" class=\"row_heading level0 row1\" >1</th>\n",
       "      <td id=\"T_afc64_row1_col0\" class=\"data row1 col0\" >TT DICH VU NOI BO</td>\n",
       "      <td id=\"T_afc64_row1_col1\" class=\"data row1 col1\" >0.588396</td>\n",
       "      <td id=\"T_afc64_row1_col2\" class=\"data row1 col2\" >TT DICH VU NOI BO</td>\n",
       "      <td id=\"T_afc64_row1_col3\" class=\"data row1 col3\" >0.588396</td>\n",
       "      <td id=\"T_afc64_row1_col4\" class=\"data row1 col4\" >nan</td>\n",
       "      <td id=\"T_afc64_row1_col5\" class=\"data row1 col5\" >nan</td>\n",
       "      <td id=\"T_afc64_row1_col6\" class=\"data row1 col6\" >nan</td>\n",
       "      <td id=\"T_afc64_row1_col7\" class=\"data row1 col7\" >nan</td>\n",
       "      <td id=\"T_afc64_row1_col8\" class=\"data row1 col8\" >nan</td>\n",
       "      <td id=\"T_afc64_row1_col9\" class=\"data row1 col9\" >nan</td>\n",
       "    </tr>\n",
       "  </tbody>\n",
       "</table>\n"
      ],
      "text/plain": [
       "<pandas.io.formats.style.Styler at 0x1844fb9f9a0>"
      ]
     },
     "execution_count": 21,
     "metadata": {},
     "output_type": "execute_result"
    }
   ],
   "source": [
    "final_result"
   ]
  },
  {
   "cell_type": "code",
   "execution_count": 27,
   "metadata": {},
   "outputs": [
    {
     "data": {
      "application/vnd.plotly.v1+json": {
       "config": {
        "plotlyServerURL": "https://plot.ly"
       },
       "data": [
        {
         "link": {
          "color": [
           "rgba(31, 119, 180, 0.4)",
           "rgba(255, 127, 14, 0.4)",
           "rgba(255, 127, 14, 0.4)",
           "rgba(255, 127, 14, 0.4)",
           "rgba(255, 127, 14, 0.4)",
           "rgba(227, 119, 194, 0.4)",
           "rgba(127, 127, 127, 0.4)",
           "rgba(188, 189, 34, 0.4)",
           "rgba(31, 119, 180, 0.4)",
           "rgba(23, 190, 207, 0.4)",
           "rgba(255, 127, 14, 0.4)",
           "rgba(255, 127, 14, 0.4)",
           "rgba(255, 127, 14, 0.4)",
           "rgba(140, 86, 75, 0.4)",
           "rgba(140, 86, 75, 0.4)",
           "rgba(140, 86, 75, 0.4)",
           "rgba(140, 86, 75, 0.4)",
           "rgba(140, 86, 75, 0.4)",
           "rgba(140, 86, 75, 0.4)",
           "rgba(140, 86, 75, 0.4)",
           "rgba(140, 86, 75, 0.4)",
           "rgba(140, 86, 75, 0.4)",
           "rgba(140, 86, 75, 0.4)",
           "rgba(140, 86, 75, 0.4)",
           "rgba(214, 39, 40, 0.4)",
           "rgba(140, 86, 75, 0.4)",
           "rgba(140, 86, 75, 0.4)",
           "rgba(140, 86, 75, 0.4)",
           "rgba(140, 86, 75, 0.4)",
           "rgba(140, 86, 75, 0.4)",
           "rgba(140, 86, 75, 0.4)",
           "rgba(127, 127, 127, 0.4)",
           "rgba(127, 127, 127, 0.4)",
           "rgba(127, 127, 127, 0.4)",
           "rgba(188, 189, 34, 0.4)",
           "rgba(23, 190, 207, 0.4)",
           "rgba(44, 160, 44, 0.4)",
           "rgba(44, 160, 44, 0.4)",
           "rgba(44, 160, 44, 0.4)",
           "rgba(44, 160, 44, 0.4)",
           "rgba(44, 160, 44, 0.4)",
           "rgba(44, 160, 44, 0.4)",
           "rgba(44, 160, 44, 0.4)",
           "rgba(44, 160, 44, 0.4)",
           "rgba(148, 103, 189, 0.4)",
           "rgba(148, 103, 189, 0.4)",
           "rgba(255,0,255, 0.4)",
           "rgba(255,0,255, 0.4)",
           "rgba(227, 119, 194, 0.4)",
           "rgba(188, 189, 34, 0.4)",
           "rgba(127, 127, 127, 0.4)",
           "rgba(23, 190, 207, 0.4)",
           "rgba(23, 190, 207, 0.4)",
           "rgba(31, 119, 180, 0.4)",
           "rgba(31, 119, 180, 0.4)",
           "rgba(255, 127, 14, 0.4)",
           "rgba(44, 160, 44, 0.4)",
           "rgba(214, 39, 40, 0.4)",
           "rgba(214, 39, 40, 0.4)",
           "rgba(148, 103, 189, 0.4)",
           "rgba(148, 103, 189, 0.4)",
           "rgba(148, 103, 189, 0.4)",
           "rgba(227, 119, 194, 0.4)",
           "rgba(227, 119, 194, 0.4)",
           "rgba(227, 119, 194, 0.4)",
           "rgba(148, 103, 189, 0.4)",
           "rgba(140, 86, 75, 0.4)",
           "rgba(227, 119, 194, 0.4)",
           "rgba(127, 127, 127, 0.4)",
           "rgba(255,0,255, 0.4)",
           "rgba(255,0,255, 0.4)"
          ],
          "label": [
           "stream 1",
           "",
           "",
           "",
           "stream 1",
           "",
           "",
           "",
           "",
           "",
           "",
           "",
           "",
           "",
           "",
           "",
           "",
           "",
           "",
           "",
           "",
           "",
           "",
           "",
           "",
           "",
           "",
           "",
           "",
           "",
           "stream 1",
           "",
           "",
           "",
           "",
           "",
           "",
           "",
           "",
           "",
           "",
           "",
           "",
           "",
           "",
           "",
           "Old generation plant (made-up)",
           "New generation plant (made-up)",
           "",
           "",
           "",
           "",
           "",
           "",
           "",
           "",
           "",
           "",
           "",
           "",
           "",
           "",
           "",
           "",
           "",
           "",
           "",
           "",
           "",
           "",
           ""
          ],
          "source": [
           0,
           1,
           1,
           1,
           1,
           6,
           7,
           8,
           10,
           9,
           11,
           11,
           11,
           15,
           15,
           15,
           15,
           15,
           15,
           15,
           15,
           15,
           15,
           15,
           23,
           25,
           5,
           5,
           5,
           5,
           5,
           27,
           17,
           17,
           28,
           29,
           2,
           2,
           2,
           2,
           2,
           2,
           2,
           2,
           34,
           24,
           35,
           35,
           36,
           38,
           37,
           39,
           39,
           40,
           40,
           41,
           42,
           43,
           43,
           4,
           4,
           4,
           26,
           26,
           26,
           44,
           45,
           46,
           47,
           35,
           35
          ],
          "target": [
           1,
           2,
           3,
           4,
           5,
           2,
           4,
           9,
           9,
           4,
           12,
           13,
           14,
           16,
           14,
           17,
           12,
           18,
           19,
           13,
           3,
           20,
           21,
           22,
           24,
           24,
           13,
           3,
           26,
           19,
           12,
           15,
           28,
           3,
           18,
           15,
           12,
           30,
           18,
           31,
           32,
           19,
           33,
           20,
           1,
           5,
           26,
           26,
           37,
           37,
           2,
           4,
           1,
           14,
           13,
           15,
           14,
           42,
           41,
           19,
           26,
           12,
           15,
           3,
           11,
           15,
           1,
           15,
           15,
           26,
           26
          ],
          "value": [
           124.729,
           0.597,
           26.862,
           280.322,
           81.144,
           35,
           35,
           11.606,
           63.965,
           75.571,
           10.639,
           22.505,
           46.184,
           104.453,
           113.726,
           27.14,
           342.165,
           37.797,
           4.412,
           40.858,
           56.691,
           7.863,
           90.008,
           93.494,
           40.719,
           82.233,
           0.129,
           1.401,
           151.891,
           2.096,
           48.58,
           7.013,
           20.897,
           6.242,
           20.897,
           6.995,
           121.066,
           128.69,
           135.835,
           14.458,
           206.267,
           3.64,
           33.218,
           4.413,
           14.375,
           122.952,
           500,
           139.978,
           504.287,
           107.703,
           611.99,
           56.587,
           77.81,
           193.026,
           70.672,
           59.901,
           19.263,
           19.263,
           59.901,
           0.882,
           400.12,
           46.477,
           525.531,
           787.129,
           79.329,
           9.452,
           182.01,
           19.013,
           289.366,
           100,
           100
          ]
         },
         "node": {
          "color": [
           "rgba(31, 119, 180, 0.8)",
           "rgba(255, 127, 14, 0.8)",
           "rgba(44, 160, 44, 0.8)",
           "rgba(214, 39, 40, 0.8)",
           "rgba(148, 103, 189, 0.8)",
           "rgba(140, 86, 75, 0.8)",
           "rgba(227, 119, 194, 0.8)",
           "rgba(127, 127, 127, 0.8)",
           "rgba(188, 189, 34, 0.8)",
           "rgba(23, 190, 207, 0.8)",
           "rgba(31, 119, 180, 0.8)",
           "rgba(255, 127, 14, 0.8)",
           "rgba(44, 160, 44, 0.8)",
           "rgba(214, 39, 40, 0.8)",
           "rgba(148, 103, 189, 0.8)",
           "rgba(140, 86, 75, 0.8)",
           "rgba(227, 119, 194, 0.8)",
           "rgba(127, 127, 127, 0.8)",
           "rgba(188, 189, 34, 0.8)",
           "rgba(23, 190, 207, 0.8)",
           "rgba(31, 119, 180, 0.8)",
           "rgba(255, 127, 14, 0.8)",
           "rgba(44, 160, 44, 0.8)",
           "rgba(214, 39, 40, 0.8)",
           "rgba(148, 103, 189, 0.8)",
           "rgba(140, 86, 75, 0.8)",
           "rgba(227, 119, 194, 0.8)",
           "rgba(127, 127, 127, 0.8)",
           "rgba(188, 189, 34, 0.8)",
           "rgba(23, 190, 207, 0.8)",
           "rgba(31, 119, 180, 0.8)",
           "rgba(255, 127, 14, 0.8)",
           "rgba(44, 160, 44, 0.8)",
           "rgba(214, 39, 40, 0.8)",
           "rgba(148, 103, 189, 0.8)",
           "rgba(255,0,255, 0.8)",
           "rgba(227, 119, 194, 0.8)",
           "rgba(127, 127, 127, 0.8)",
           "rgba(188, 189, 34, 0.8)",
           "rgba(23, 190, 207, 0.8)",
           "rgba(31, 119, 180, 0.8)",
           "rgba(255, 127, 14, 0.8)",
           "rgba(44, 160, 44, 0.8)",
           "rgba(214, 39, 40, 0.8)",
           "rgba(148, 103, 189, 0.8)",
           "rgba(140, 86, 75, 0.8)",
           "rgba(227, 119, 194, 0.8)",
           "rgba(127, 127, 127, 0.8)"
          ],
          "label": [
           "Agricultural 'waste'",
           "Bio-conversion",
           "Liquid",
           "Losses",
           "Solid",
           "Gas",
           "Biofuel imports",
           "Biomass imports",
           "Coal imports",
           "Coal",
           "Coal reserves",
           "District heating",
           "Industry",
           "Heating and cooling - commercial",
           "Heating and cooling - homes",
           "Electricity grid",
           "Over generation / exports",
           "H2 conversion",
           "Road transport",
           "Agriculture",
           "Rail transport",
           "Lighting & appliances - commercial",
           "Lighting & appliances - homes",
           "Gas imports",
           "Ngas",
           "Gas reserves",
           "Thermal generation",
           "Geothermal",
           "H2",
           "Hydro",
           "International shipping",
           "Domestic aviation",
           "International aviation",
           "National navigation",
           "Marine algae",
           "Nuclear",
           "Oil imports",
           "Oil",
           "Oil reserves",
           "Other waste",
           "Pumped heat",
           "Solar PV",
           "Solar Thermal",
           "Solar",
           "Tidal",
           "UK land based bioenergy",
           "Wave",
           "Wind"
          ],
          "line": {
           "color": "black",
           "width": 0.5
          },
          "pad": 15,
          "thickness": 15
         },
         "type": "sankey",
         "valueformat": ".0f",
         "valuesuffix": "TWh"
        }
       ],
       "layout": {
        "font": {
         "size": 10
        },
        "template": {
         "data": {
          "bar": [
           {
            "error_x": {
             "color": "#2a3f5f"
            },
            "error_y": {
             "color": "#2a3f5f"
            },
            "marker": {
             "line": {
              "color": "#E5ECF6",
              "width": 0.5
             },
             "pattern": {
              "fillmode": "overlay",
              "size": 10,
              "solidity": 0.2
             }
            },
            "type": "bar"
           }
          ],
          "barpolar": [
           {
            "marker": {
             "line": {
              "color": "#E5ECF6",
              "width": 0.5
             },
             "pattern": {
              "fillmode": "overlay",
              "size": 10,
              "solidity": 0.2
             }
            },
            "type": "barpolar"
           }
          ],
          "carpet": [
           {
            "aaxis": {
             "endlinecolor": "#2a3f5f",
             "gridcolor": "white",
             "linecolor": "white",
             "minorgridcolor": "white",
             "startlinecolor": "#2a3f5f"
            },
            "baxis": {
             "endlinecolor": "#2a3f5f",
             "gridcolor": "white",
             "linecolor": "white",
             "minorgridcolor": "white",
             "startlinecolor": "#2a3f5f"
            },
            "type": "carpet"
           }
          ],
          "choropleth": [
           {
            "colorbar": {
             "outlinewidth": 0,
             "ticks": ""
            },
            "type": "choropleth"
           }
          ],
          "contour": [
           {
            "colorbar": {
             "outlinewidth": 0,
             "ticks": ""
            },
            "colorscale": [
             [
              0,
              "#0d0887"
             ],
             [
              0.1111111111111111,
              "#46039f"
             ],
             [
              0.2222222222222222,
              "#7201a8"
             ],
             [
              0.3333333333333333,
              "#9c179e"
             ],
             [
              0.4444444444444444,
              "#bd3786"
             ],
             [
              0.5555555555555556,
              "#d8576b"
             ],
             [
              0.6666666666666666,
              "#ed7953"
             ],
             [
              0.7777777777777778,
              "#fb9f3a"
             ],
             [
              0.8888888888888888,
              "#fdca26"
             ],
             [
              1,
              "#f0f921"
             ]
            ],
            "type": "contour"
           }
          ],
          "contourcarpet": [
           {
            "colorbar": {
             "outlinewidth": 0,
             "ticks": ""
            },
            "type": "contourcarpet"
           }
          ],
          "heatmap": [
           {
            "colorbar": {
             "outlinewidth": 0,
             "ticks": ""
            },
            "colorscale": [
             [
              0,
              "#0d0887"
             ],
             [
              0.1111111111111111,
              "#46039f"
             ],
             [
              0.2222222222222222,
              "#7201a8"
             ],
             [
              0.3333333333333333,
              "#9c179e"
             ],
             [
              0.4444444444444444,
              "#bd3786"
             ],
             [
              0.5555555555555556,
              "#d8576b"
             ],
             [
              0.6666666666666666,
              "#ed7953"
             ],
             [
              0.7777777777777778,
              "#fb9f3a"
             ],
             [
              0.8888888888888888,
              "#fdca26"
             ],
             [
              1,
              "#f0f921"
             ]
            ],
            "type": "heatmap"
           }
          ],
          "heatmapgl": [
           {
            "colorbar": {
             "outlinewidth": 0,
             "ticks": ""
            },
            "colorscale": [
             [
              0,
              "#0d0887"
             ],
             [
              0.1111111111111111,
              "#46039f"
             ],
             [
              0.2222222222222222,
              "#7201a8"
             ],
             [
              0.3333333333333333,
              "#9c179e"
             ],
             [
              0.4444444444444444,
              "#bd3786"
             ],
             [
              0.5555555555555556,
              "#d8576b"
             ],
             [
              0.6666666666666666,
              "#ed7953"
             ],
             [
              0.7777777777777778,
              "#fb9f3a"
             ],
             [
              0.8888888888888888,
              "#fdca26"
             ],
             [
              1,
              "#f0f921"
             ]
            ],
            "type": "heatmapgl"
           }
          ],
          "histogram": [
           {
            "marker": {
             "pattern": {
              "fillmode": "overlay",
              "size": 10,
              "solidity": 0.2
             }
            },
            "type": "histogram"
           }
          ],
          "histogram2d": [
           {
            "colorbar": {
             "outlinewidth": 0,
             "ticks": ""
            },
            "colorscale": [
             [
              0,
              "#0d0887"
             ],
             [
              0.1111111111111111,
              "#46039f"
             ],
             [
              0.2222222222222222,
              "#7201a8"
             ],
             [
              0.3333333333333333,
              "#9c179e"
             ],
             [
              0.4444444444444444,
              "#bd3786"
             ],
             [
              0.5555555555555556,
              "#d8576b"
             ],
             [
              0.6666666666666666,
              "#ed7953"
             ],
             [
              0.7777777777777778,
              "#fb9f3a"
             ],
             [
              0.8888888888888888,
              "#fdca26"
             ],
             [
              1,
              "#f0f921"
             ]
            ],
            "type": "histogram2d"
           }
          ],
          "histogram2dcontour": [
           {
            "colorbar": {
             "outlinewidth": 0,
             "ticks": ""
            },
            "colorscale": [
             [
              0,
              "#0d0887"
             ],
             [
              0.1111111111111111,
              "#46039f"
             ],
             [
              0.2222222222222222,
              "#7201a8"
             ],
             [
              0.3333333333333333,
              "#9c179e"
             ],
             [
              0.4444444444444444,
              "#bd3786"
             ],
             [
              0.5555555555555556,
              "#d8576b"
             ],
             [
              0.6666666666666666,
              "#ed7953"
             ],
             [
              0.7777777777777778,
              "#fb9f3a"
             ],
             [
              0.8888888888888888,
              "#fdca26"
             ],
             [
              1,
              "#f0f921"
             ]
            ],
            "type": "histogram2dcontour"
           }
          ],
          "mesh3d": [
           {
            "colorbar": {
             "outlinewidth": 0,
             "ticks": ""
            },
            "type": "mesh3d"
           }
          ],
          "parcoords": [
           {
            "line": {
             "colorbar": {
              "outlinewidth": 0,
              "ticks": ""
             }
            },
            "type": "parcoords"
           }
          ],
          "pie": [
           {
            "automargin": true,
            "type": "pie"
           }
          ],
          "scatter": [
           {
            "fillpattern": {
             "fillmode": "overlay",
             "size": 10,
             "solidity": 0.2
            },
            "type": "scatter"
           }
          ],
          "scatter3d": [
           {
            "line": {
             "colorbar": {
              "outlinewidth": 0,
              "ticks": ""
             }
            },
            "marker": {
             "colorbar": {
              "outlinewidth": 0,
              "ticks": ""
             }
            },
            "type": "scatter3d"
           }
          ],
          "scattercarpet": [
           {
            "marker": {
             "colorbar": {
              "outlinewidth": 0,
              "ticks": ""
             }
            },
            "type": "scattercarpet"
           }
          ],
          "scattergeo": [
           {
            "marker": {
             "colorbar": {
              "outlinewidth": 0,
              "ticks": ""
             }
            },
            "type": "scattergeo"
           }
          ],
          "scattergl": [
           {
            "marker": {
             "colorbar": {
              "outlinewidth": 0,
              "ticks": ""
             }
            },
            "type": "scattergl"
           }
          ],
          "scattermapbox": [
           {
            "marker": {
             "colorbar": {
              "outlinewidth": 0,
              "ticks": ""
             }
            },
            "type": "scattermapbox"
           }
          ],
          "scatterpolar": [
           {
            "marker": {
             "colorbar": {
              "outlinewidth": 0,
              "ticks": ""
             }
            },
            "type": "scatterpolar"
           }
          ],
          "scatterpolargl": [
           {
            "marker": {
             "colorbar": {
              "outlinewidth": 0,
              "ticks": ""
             }
            },
            "type": "scatterpolargl"
           }
          ],
          "scatterternary": [
           {
            "marker": {
             "colorbar": {
              "outlinewidth": 0,
              "ticks": ""
             }
            },
            "type": "scatterternary"
           }
          ],
          "surface": [
           {
            "colorbar": {
             "outlinewidth": 0,
             "ticks": ""
            },
            "colorscale": [
             [
              0,
              "#0d0887"
             ],
             [
              0.1111111111111111,
              "#46039f"
             ],
             [
              0.2222222222222222,
              "#7201a8"
             ],
             [
              0.3333333333333333,
              "#9c179e"
             ],
             [
              0.4444444444444444,
              "#bd3786"
             ],
             [
              0.5555555555555556,
              "#d8576b"
             ],
             [
              0.6666666666666666,
              "#ed7953"
             ],
             [
              0.7777777777777778,
              "#fb9f3a"
             ],
             [
              0.8888888888888888,
              "#fdca26"
             ],
             [
              1,
              "#f0f921"
             ]
            ],
            "type": "surface"
           }
          ],
          "table": [
           {
            "cells": {
             "fill": {
              "color": "#EBF0F8"
             },
             "line": {
              "color": "white"
             }
            },
            "header": {
             "fill": {
              "color": "#C8D4E3"
             },
             "line": {
              "color": "white"
             }
            },
            "type": "table"
           }
          ]
         },
         "layout": {
          "annotationdefaults": {
           "arrowcolor": "#2a3f5f",
           "arrowhead": 0,
           "arrowwidth": 1
          },
          "autotypenumbers": "strict",
          "coloraxis": {
           "colorbar": {
            "outlinewidth": 0,
            "ticks": ""
           }
          },
          "colorscale": {
           "diverging": [
            [
             0,
             "#8e0152"
            ],
            [
             0.1,
             "#c51b7d"
            ],
            [
             0.2,
             "#de77ae"
            ],
            [
             0.3,
             "#f1b6da"
            ],
            [
             0.4,
             "#fde0ef"
            ],
            [
             0.5,
             "#f7f7f7"
            ],
            [
             0.6,
             "#e6f5d0"
            ],
            [
             0.7,
             "#b8e186"
            ],
            [
             0.8,
             "#7fbc41"
            ],
            [
             0.9,
             "#4d9221"
            ],
            [
             1,
             "#276419"
            ]
           ],
           "sequential": [
            [
             0,
             "#0d0887"
            ],
            [
             0.1111111111111111,
             "#46039f"
            ],
            [
             0.2222222222222222,
             "#7201a8"
            ],
            [
             0.3333333333333333,
             "#9c179e"
            ],
            [
             0.4444444444444444,
             "#bd3786"
            ],
            [
             0.5555555555555556,
             "#d8576b"
            ],
            [
             0.6666666666666666,
             "#ed7953"
            ],
            [
             0.7777777777777778,
             "#fb9f3a"
            ],
            [
             0.8888888888888888,
             "#fdca26"
            ],
            [
             1,
             "#f0f921"
            ]
           ],
           "sequentialminus": [
            [
             0,
             "#0d0887"
            ],
            [
             0.1111111111111111,
             "#46039f"
            ],
            [
             0.2222222222222222,
             "#7201a8"
            ],
            [
             0.3333333333333333,
             "#9c179e"
            ],
            [
             0.4444444444444444,
             "#bd3786"
            ],
            [
             0.5555555555555556,
             "#d8576b"
            ],
            [
             0.6666666666666666,
             "#ed7953"
            ],
            [
             0.7777777777777778,
             "#fb9f3a"
            ],
            [
             0.8888888888888888,
             "#fdca26"
            ],
            [
             1,
             "#f0f921"
            ]
           ]
          },
          "colorway": [
           "#636efa",
           "#EF553B",
           "#00cc96",
           "#ab63fa",
           "#FFA15A",
           "#19d3f3",
           "#FF6692",
           "#B6E880",
           "#FF97FF",
           "#FECB52"
          ],
          "font": {
           "color": "#2a3f5f"
          },
          "geo": {
           "bgcolor": "white",
           "lakecolor": "white",
           "landcolor": "#E5ECF6",
           "showlakes": true,
           "showland": true,
           "subunitcolor": "white"
          },
          "hoverlabel": {
           "align": "left"
          },
          "hovermode": "closest",
          "mapbox": {
           "style": "light"
          },
          "paper_bgcolor": "white",
          "plot_bgcolor": "#E5ECF6",
          "polar": {
           "angularaxis": {
            "gridcolor": "white",
            "linecolor": "white",
            "ticks": ""
           },
           "bgcolor": "#E5ECF6",
           "radialaxis": {
            "gridcolor": "white",
            "linecolor": "white",
            "ticks": ""
           }
          },
          "scene": {
           "xaxis": {
            "backgroundcolor": "#E5ECF6",
            "gridcolor": "white",
            "gridwidth": 2,
            "linecolor": "white",
            "showbackground": true,
            "ticks": "",
            "zerolinecolor": "white"
           },
           "yaxis": {
            "backgroundcolor": "#E5ECF6",
            "gridcolor": "white",
            "gridwidth": 2,
            "linecolor": "white",
            "showbackground": true,
            "ticks": "",
            "zerolinecolor": "white"
           },
           "zaxis": {
            "backgroundcolor": "#E5ECF6",
            "gridcolor": "white",
            "gridwidth": 2,
            "linecolor": "white",
            "showbackground": true,
            "ticks": "",
            "zerolinecolor": "white"
           }
          },
          "shapedefaults": {
           "line": {
            "color": "#2a3f5f"
           }
          },
          "ternary": {
           "aaxis": {
            "gridcolor": "white",
            "linecolor": "white",
            "ticks": ""
           },
           "baxis": {
            "gridcolor": "white",
            "linecolor": "white",
            "ticks": ""
           },
           "bgcolor": "#E5ECF6",
           "caxis": {
            "gridcolor": "white",
            "linecolor": "white",
            "ticks": ""
           }
          },
          "title": {
           "x": 0.05
          },
          "xaxis": {
           "automargin": true,
           "gridcolor": "white",
           "linecolor": "white",
           "ticks": "",
           "title": {
            "standoff": 15
           },
           "zerolinecolor": "white",
           "zerolinewidth": 2
          },
          "yaxis": {
           "automargin": true,
           "gridcolor": "white",
           "linecolor": "white",
           "ticks": "",
           "title": {
            "standoff": 15
           },
           "zerolinecolor": "white",
           "zerolinewidth": 2
          }
         }
        },
        "title": {
         "text": "Energy forecast for 2050<br>Source: Department of Energy & Climate Change, Tom Counsell via <a href='https://bost.ocks.org/mike/sankey/'>Mike Bostock</a>"
        }
       }
      }
     },
     "metadata": {},
     "output_type": "display_data"
    }
   ],
   "source": [
    "import plotly.graph_objects as go\n",
    "import urllib, json\n",
    "\n",
    "url = 'https://raw.githubusercontent.com/plotly/plotly.js/master/test/image/mocks/sankey_energy.json'\n",
    "response = urllib.request.urlopen(url)\n",
    "data = json.loads(response.read())\n",
    "\n",
    "# override gray link colors with 'source' colors\n",
    "opacity = 0.4\n",
    "# change 'magenta' to its 'rgba' value to add opacity\n",
    "data['data'][0]['node']['color'] = ['rgba(255,0,255, 0.8)' if color == \"magenta\" else color for color in data['data'][0]['node']['color']]\n",
    "data['data'][0]['link']['color'] = [data['data'][0]['node']['color'][src].replace(\"0.8\", str(opacity))\n",
    "                                    for src in data['data'][0]['link']['source']]\n",
    "\n",
    "fig = go.Figure(data=[go.Sankey(\n",
    "    valueformat = \".0f\",\n",
    "    valuesuffix = \"TWh\",\n",
    "    # Define nodes\n",
    "    node = dict(\n",
    "      pad = 15,\n",
    "      thickness = 15,\n",
    "      line = dict(color = \"black\", width = 0.5),\n",
    "      label =  data['data'][0]['node']['label'],\n",
    "      color =  data['data'][0]['node']['color']\n",
    "    ),\n",
    "    # Add links\n",
    "    link = dict(\n",
    "      source =  data['data'][0]['link']['source'],\n",
    "      target =  data['data'][0]['link']['target'],\n",
    "      value =  data['data'][0]['link']['value'],\n",
    "      label =  data['data'][0]['link']['label'],\n",
    "      color =  data['data'][0]['link']['color']\n",
    "))])\n",
    "\n",
    "fig.update_layout(title_text=\"Energy forecast for 2050<br>Source: Department of Energy & Climate Change, Tom Counsell via <a href='https://bost.ocks.org/mike/sankey/'>Mike Bostock</a>\",\n",
    "                  font_size=10)\n",
    "fig.show()"
   ]
  },
  {
   "cell_type": "code",
   "execution_count": null,
   "metadata": {},
   "outputs": [],
   "source": [
    "print(data['data'][0]['node']['label'])"
   ]
  },
  {
   "cell_type": "code",
   "execution_count": 32,
   "metadata": {},
   "outputs": [
    {
     "name": "stdout",
     "output_type": "stream",
     "text": [
      "['rgba(31, 119, 180, 0.8)', 'rgba(255, 127, 14, 0.8)', 'rgba(44, 160, 44, 0.8)', 'rgba(214, 39, 40, 0.8)', 'rgba(148, 103, 189, 0.8)', 'rgba(140, 86, 75, 0.8)', 'rgba(227, 119, 194, 0.8)', 'rgba(127, 127, 127, 0.8)', 'rgba(188, 189, 34, 0.8)', 'rgba(23, 190, 207, 0.8)', 'rgba(31, 119, 180, 0.8)', 'rgba(255, 127, 14, 0.8)', 'rgba(44, 160, 44, 0.8)', 'rgba(214, 39, 40, 0.8)', 'rgba(148, 103, 189, 0.8)', 'rgba(140, 86, 75, 0.8)', 'rgba(227, 119, 194, 0.8)', 'rgba(127, 127, 127, 0.8)', 'rgba(188, 189, 34, 0.8)', 'rgba(23, 190, 207, 0.8)', 'rgba(31, 119, 180, 0.8)', 'rgba(255, 127, 14, 0.8)', 'rgba(44, 160, 44, 0.8)', 'rgba(214, 39, 40, 0.8)', 'rgba(148, 103, 189, 0.8)', 'rgba(140, 86, 75, 0.8)', 'rgba(227, 119, 194, 0.8)', 'rgba(127, 127, 127, 0.8)', 'rgba(188, 189, 34, 0.8)', 'rgba(23, 190, 207, 0.8)', 'rgba(31, 119, 180, 0.8)', 'rgba(255, 127, 14, 0.8)', 'rgba(44, 160, 44, 0.8)', 'rgba(214, 39, 40, 0.8)', 'rgba(148, 103, 189, 0.8)', 'rgba(255,0,255, 0.8)', 'rgba(227, 119, 194, 0.8)', 'rgba(127, 127, 127, 0.8)', 'rgba(188, 189, 34, 0.8)', 'rgba(23, 190, 207, 0.8)', 'rgba(31, 119, 180, 0.8)', 'rgba(255, 127, 14, 0.8)', 'rgba(44, 160, 44, 0.8)', 'rgba(214, 39, 40, 0.8)', 'rgba(148, 103, 189, 0.8)', 'rgba(140, 86, 75, 0.8)', 'rgba(227, 119, 194, 0.8)', 'rgba(127, 127, 127, 0.8)']\n"
     ]
    }
   ],
   "source": [
    "print(data['data'][0]['node']['color'])"
   ]
  },
  {
   "cell_type": "code",
   "execution_count": 31,
   "metadata": {},
   "outputs": [
    {
     "data": {
      "text/plain": [
       "{'TT AO_N0': 0,\n",
       " 'TT AO_N1': 1,\n",
       " 'TT AO_N2': 2,\n",
       " 'TT AO_N3': 3,\n",
       " 'TT AO_N4': 4,\n",
       " 'TT DICH VU NOI BO_N0': 5,\n",
       " 'TT DICH VU NOI BO_N1': 6,\n",
       " 'TT DICH VU NOI BO_N2': 7,\n",
       " 'TT DICH VU NOI BO_N3': 8,\n",
       " 'TT DICH VU NOI BO_N4': 9,\n",
       " 'TT DOANH THU_N0': 10,\n",
       " 'TT DOANH THU_N1': 11,\n",
       " 'TT DOANH THU_N2': 12,\n",
       " 'TT DOANH THU_N3': 13,\n",
       " 'TT DOANH THU_N4': 14,\n",
       " 'TT HO TRO SAN PHAM_N0': 15,\n",
       " 'TT HO TRO SAN PHAM_N1': 16,\n",
       " 'TT HO TRO SAN PHAM_N2': 17,\n",
       " 'TT HO TRO SAN PHAM_N3': 18,\n",
       " 'TT HO TRO SAN PHAM_N4': 19,\n",
       " 'TT QUAN LY CHUNG KHOI KINH DOANH_N0': 20,\n",
       " 'TT QUAN LY CHUNG KHOI KINH DOANH_N1': 21,\n",
       " 'TT QUAN LY CHUNG KHOI KINH DOANH_N2': 22,\n",
       " 'TT QUAN LY CHUNG KHOI KINH DOANH_N3': 23,\n",
       " 'TT QUAN LY CHUNG KHOI KINH DOANH_N4': 24,\n",
       " 'TT QUAN LY CHUNG TOAN HANG_N0': 25,\n",
       " 'TT QUAN LY CHUNG TOAN HANG_N1': 26,\n",
       " 'TT QUAN LY CHUNG TOAN HANG_N2': 27,\n",
       " 'TT QUAN LY CHUNG TOAN HANG_N3': 28,\n",
       " 'TT QUAN LY CHUNG TOAN HANG_N4': 29}"
      ]
     },
     "execution_count": 31,
     "metadata": {},
     "output_type": "execute_result"
    }
   ],
   "source": [
    "node_mapping"
   ]
  },
  {
   "cell_type": "code",
   "execution_count": 33,
   "metadata": {},
   "outputs": [
    {
     "data": {
      "text/plain": [
       "9"
      ]
     },
     "execution_count": 33,
     "metadata": {},
     "output_type": "execute_result"
    }
   ],
   "source": [
    "node_list = ['TT DICH VU NOI BO', 'TT QUAN LY CHUNG TOAN HANG', 'TT AO',\n",
    "            'KHONG CO TRONG CAY', 'TT DOANH THU',\n",
    "            'TT QUAN LY CHUNG KHOI KINH DOANH', 'TT HO TRO TRUC TIEP',\n",
    "            'TT HO TRO SAN PHAM', 'TT QUAN LY CHUNG CHI NHANH']\n",
    "len(node_list)"
   ]
  }
 ],
 "metadata": {
  "kernelspec": {
   "display_name": "base",
   "language": "python",
   "name": "python3"
  },
  "language_info": {
   "codemirror_mode": {
    "name": "ipython",
    "version": 3
   },
   "file_extension": ".py",
   "mimetype": "text/x-python",
   "name": "python",
   "nbconvert_exporter": "python",
   "pygments_lexer": "ipython3",
   "version": "3.10.9"
  }
 },
 "nbformat": 4,
 "nbformat_minor": 2
}
